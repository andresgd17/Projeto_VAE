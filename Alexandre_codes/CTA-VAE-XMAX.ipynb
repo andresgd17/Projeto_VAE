{
 "cells": [
  {
   "cell_type": "code",
   "execution_count": null,
   "id": "31354a20",
   "metadata": {},
   "outputs": [],
   "source": [
    "#!pip install tensorflow==2.5.1\n",
    "#!pip install opencv-python\n",
    "#!pip install clustimage"
   ]
  },
  {
   "cell_type": "code",
   "execution_count": 26,
   "id": "thrown-hardware",
   "metadata": {},
   "outputs": [
    {
     "name": "stdout",
     "output_type": "stream",
     "text": [
      "2.5.1\n"
     ]
    }
   ],
   "source": [
    "import h5py\n",
    "import numpy as np\n",
    "import matplotlib.pyplot as plt\n",
    "\n",
    "from __future__ import absolute_import\n",
    "from __future__ import division\n",
    "from __future__ import print_function\n",
    "\n",
    "import tensorflow as tf\n",
    "print(tf.__version__)\n",
    "\n",
    "from tensorflow.keras.models import Sequential, Model\n",
    "from tensorflow.keras.layers import Activation, Dense, Dropout, Flatten, UpSampling2D, Input, ZeroPadding2D, Lambda, Reshape\n",
    "from tensorflow.keras.layers import BatchNormalization, Concatenate\n",
    "from tensorflow.keras.optimizers import Adam\n",
    "#import tensorflow_probability as tfp\n",
    "\n",
    "from scipy import stats\n",
    "from tensorflow.keras.layers import Conv2D, MaxPooling2D\n",
    "from tensorflow.keras.losses import mse, binary_crossentropy,mean_absolute_error ,huber\n",
    "from tensorflow.keras.utils import plot_model\n",
    "from tensorflow.keras.callbacks import TensorBoard, ModelCheckpoint, EarlyStopping, ReduceLROnPlateau\n",
    "from tensorflow.keras.constraints import unit_norm, max_norm\n",
    "from tensorflow.keras import regularizers\n",
    "from tensorflow.keras import backend as K\n",
    "\n",
    "from sklearn.model_selection import StratifiedKFold, train_test_split\n",
    "#import nibabel as nib\n",
    "import scipy as sp\n",
    "import scipy.ndimage\n",
    "from sklearn.metrics import mean_squared_error, r2_score\n",
    "import pandas as pd\n",
    "\n",
    "import cv2\n",
    "\n",
    "from features_images import image_feats  "
   ]
  },
  {
   "cell_type": "markdown",
   "id": "graduate-clock",
   "metadata": {},
   "source": [
    "# LOADING THE DATASET"
   ]
  },
  {
   "cell_type": "code",
   "execution_count": 2,
   "id": "worldwide-deficit",
   "metadata": {},
   "outputs": [
    {
     "data": {
      "text/plain": [
       "<KeysViewHDF5 ['MST', 'SST']>"
      ]
     },
     "execution_count": 2,
     "metadata": {},
     "output_type": "execute_result"
    }
   ],
   "source": [
    "hf=h5py.File(\"../data/img_p+Fe_MST+SST.hdf5\", 'r')\n",
    "hf.keys()"
   ]
  },
  {
   "cell_type": "markdown",
   "id": "muslim-location",
   "metadata": {},
   "source": [
    "# SST (48X48) and MST(112X112) IMAGES"
   ]
  },
  {
   "cell_type": "code",
   "execution_count": 3,
   "id": "occupied-jones",
   "metadata": {},
   "outputs": [
    {
     "data": {
      "text/plain": [
       "<KeysViewHDF5 ['ENERGY', 'LABEL', 'XMAX', 'X_MONO', 'X_STEREO', 'Y']>"
      ]
     },
     "execution_count": 3,
     "metadata": {},
     "output_type": "execute_result"
    }
   ],
   "source": [
    "data_MST = hf['MST']\n",
    "data_SST = hf['SST']\n",
    "data_MST.keys()"
   ]
  },
  {
   "cell_type": "markdown",
   "id": "valuable-protection",
   "metadata": {},
   "source": [
    "# MONO (1 TELESCOPE) and STEREO(>1 TELESCOPES)"
   ]
  },
  {
   "cell_type": "code",
   "execution_count": 4,
   "id": "handed-circus",
   "metadata": {},
   "outputs": [],
   "source": [
    "imgs_MST_MONO = data_MST['X_MONO']\n",
    "imgs_MST_STER = data_MST['X_STEREO']\n",
    "imgs_SST_MONO = data_SST['X_MONO']\n",
    "imgs_SST_STER = data_SST['X_STEREO']\n",
    "\n",
    "\n",
    "# separated by species\n",
    "imgs_MST_MONO_Fe = imgs_MST_MONO[0]\n",
    "imgs_MST_MONO_p  = imgs_MST_MONO[1]\n",
    "imgs_MST_STER_Fe = imgs_MST_STER[0]\n",
    "imgs_MST_STER_p  = imgs_MST_STER[1]\n",
    "\n",
    "imgs_SST_MONO_Fe = imgs_SST_MONO[0]\n",
    "imgs_SST_MONO_p  = imgs_SST_MONO[1]\n",
    "imgs_SST_STER_Fe = imgs_SST_STER[0]\n",
    "imgs_SST_STER_p  = imgs_SST_STER[1]\n",
    "\n",
    "#p+Fe images\n",
    "imgs_MST_MONO_Fe_p = np.concatenate((imgs_MST_MONO_Fe, imgs_MST_MONO_p), axis=0)\n",
    "imgs_MST_STER_Fe_p = np.concatenate((imgs_MST_STER_Fe, imgs_MST_STER_p), axis=0)\n",
    "\n",
    "imgs_SST_MONO_Fe_p = np.concatenate((imgs_SST_MONO_Fe, imgs_SST_MONO_p), axis=0)\n",
    "imgs_SST_STER_Fe_p = np.concatenate((imgs_SST_STER_Fe, imgs_SST_STER_p), axis=0)"
   ]
  },
  {
   "cell_type": "code",
   "execution_count": 5,
   "id": "suitable-childhood",
   "metadata": {},
   "outputs": [],
   "source": [
    "def normalize_img(data):\n",
    "    x_min = np.min(data.flatten())\n",
    "    x_max = np.max(data.flatten())\n",
    "    delta = x_max-x_min\n",
    "    return (data-x_min)/delta"
   ]
  },
  {
   "cell_type": "markdown",
   "id": "aboriginal-carol",
   "metadata": {},
   "source": [
    "# DATA AUGMENTATION"
   ]
  },
  {
   "cell_type": "code",
   "execution_count": 123,
   "id": "plain-enzyme",
   "metadata": {},
   "outputs": [],
   "source": [
    "def augment_by_transformation(data,age,isVar,n):\n",
    "    augment_scale = 1\n",
    "\n",
    "    if n <= data.shape[0]:\n",
    "        return data, age\n",
    "    else:\n",
    "        raw_n = data.shape[0]\n",
    "        m = n - raw_n\n",
    "        for i in range(0,m):\n",
    "            new_data = np.zeros((1,data.shape[1],data.shape[2],1))\n",
    "            idx = np.random.randint(0,raw_n)\n",
    "            new_age = age[idx]\n",
    "            new_data[0] = data[idx].copy()\n",
    "            new_data[0,:,:,0] = sp.ndimage.interpolation.rotate(new_data[0,:,:,0],np.random.uniform(-1,1),axes=(1,0),reshape=False)\n",
    "            new_data[0,:,:,0] = sp.ndimage.interpolation.rotate(new_data[0,:,:,0],np.random.uniform(-1,1),axes=(0,1),reshape=False)\n",
    "            new_data[0,:,:,0] = sp.ndimage.shift(new_data[0,:,:,0],np.random.uniform(-1,1))\n",
    "            data = np.concatenate((data, new_data), axis=0)\n",
    "            if isVar:\n",
    "                age = np.vstack((age, new_age))\n",
    "            else:\n",
    "                age = np.append(age, new_age)\n",
    "                \n",
    "\n",
    "    return data, age\n",
    "\n",
    "def augment_by_noise(data,n,sigma):\n",
    "    if n <= data.shape[0]:\n",
    "        return data\n",
    "    else:\n",
    "        m = n - data.shape[0]\n",
    "        for i in range(0,m):\n",
    "            new_data = np.zeros((1,data.shape[1],data.shape[2],1))\n",
    "            new_data[0] = data[np.random.randint(0,data.shape[0])]\n",
    "            noise = np.clip(np.random.normal(0,sigma,(data.shape[1],data.shape[2],1)),-3*sigma,3*sigma)\n",
    "            new_data[0] += noise\n",
    "            data = np.concatenate((data, new_data), axis=0)\n",
    "    return data\n",
    "        \n",
    "        \n",
    "def augment_by_flip(data):\n",
    "    data_flip = np.flip(data,1)\n",
    "    data = np.concatenate((data, data_flip), axis=0)\n",
    "    return data"
   ]
  },
  {
   "cell_type": "code",
   "execution_count": 7,
   "id": "secret-october",
   "metadata": {},
   "outputs": [
    {
     "data": {
      "image/png": "[encoded data removed]",
      "text/plain": [
       "<Figure size 720x720 with 4 Axes>"
      ]
     },
     "metadata": {
      "needs_background": "light"
     },
     "output_type": "display_data"
    }
   ],
   "source": [
    "nx = 0\n",
    "imag1 = imgs_MST_MONO_p\n",
    "imag2 = imgs_MST_STER_p\n",
    "imag3 = imgs_SST_MONO_p\n",
    "imag4 = imgs_SST_STER_p\n",
    "\n",
    "fig = plt.figure(figsize=(10,10))\n",
    "plt.subplot(221)\n",
    "plt.imshow(np.squeeze(imag1[nx]))\n",
    "plt.subplot(222)\n",
    "plt.imshow(np.squeeze(imag2[nx]))\n",
    "plt.subplot(223)\n",
    "plt.imshow(np.squeeze(imag3[nx]))\n",
    "plt.subplot(224)\n",
    "plt.imshow(np.squeeze(imag3[nx]))\n",
    "# show the plot\n",
    "plt.show()"
   ]
  },
  {
   "cell_type": "code",
   "execution_count": 8,
   "id": "67b1a29b",
   "metadata": {},
   "outputs": [],
   "source": [
    "imagens = image_feats(imgs_MST_MONO_p)\n",
    "num_p = imagens.count_pixels()\n",
    "numcl_p = imagens.num_cluster()\n",
    "max_p = imagens.max_pixels()\n",
    "mean_p = imagens.mean_pixels()\n",
    "std_p = imagens.std_pixels()\n",
    "\n",
    "imagens = image_feats(imgs_MST_MONO_Fe)\n",
    "num_Fe = imagens.count_pixels()\n",
    "numcl_Fe = imagens.num_cluster()\n",
    "max_Fe = imagens.max_pixels()\n",
    "mean_Fe = imagens.mean_pixels()\n",
    "std_Fe = imagens.std_pixels()"
   ]
  },
  {
   "cell_type": "code",
   "execution_count": 20,
   "id": "529faaa9",
   "metadata": {},
   "outputs": [
    {
     "data": {
      "image/png": "[encoded data removed]",
      "text/plain": [
       "<Figure size 432x288 with 1 Axes>"
      ]
     },
     "metadata": {
      "needs_background": "light"
     },
     "output_type": "display_data"
    }
   ],
   "source": [
    "nbins = np.arange(0,51,1)\n",
    "plt.hist(numcl_p,bins=nbins,histtype='step',label='Proton')\n",
    "plt.hist(numcl_Fe,bins=nbins,histtype='step',label='Iron')\n",
    "plt.xlim([0,15])\n",
    "plt.legend(loc='best')\n",
    "plt.yscale('log')\n",
    "plt.xlabel('Number of Clusters',size=16)\n",
    "plt.show()"
   ]
  },
  {
   "cell_type": "code",
   "execution_count": 10,
   "id": "eec31290",
   "metadata": {},
   "outputs": [
    {
     "data": {
      "image/png": "[encoded data removed]",
      "text/plain": [
       "<Figure size 432x288 with 1 Axes>"
      ]
     },
     "metadata": {
      "needs_background": "light"
     },
     "output_type": "display_data"
    }
   ],
   "source": [
    "nbins = np.arange(0,1520,20)\n",
    "plt.hist(num_p,bins=nbins,histtype='step',label='Proton')\n",
    "plt.hist(num_Fe,bins=nbins,histtype='step',label='Iron')\n",
    "plt.legend(loc='best')\n",
    "plt.xlim([0,600])\n",
    "plt.yscale('log')\n",
    "plt.xlabel('Non-zero pixels',size=16)\n",
    "plt.show()"
   ]
  },
  {
   "cell_type": "code",
   "execution_count": 13,
   "id": "0f2b92f0",
   "metadata": {},
   "outputs": [
    {
     "data": {
      "image/png": "[encoded data removed]",
      "text/plain": [
       "<Figure size 432x288 with 1 Axes>"
      ]
     },
     "metadata": {
      "needs_background": "light"
     },
     "output_type": "display_data"
    }
   ],
   "source": [
    "nbins = np.arange(0,505,5)\n",
    "plt.hist(mean_p,bins=nbins,histtype='step',label='Proton')\n",
    "plt.hist(mean_Fe,bins=nbins,histtype='step',label='Iron')\n",
    "plt.legend(loc='best')\n",
    "plt.xlim([0,100])\n",
    "plt.yscale('log')\n",
    "plt.xlabel('Mean intensity pixel',size=16)\n",
    "plt.show()"
   ]
  },
  {
   "cell_type": "code",
   "execution_count": 19,
   "id": "49380122",
   "metadata": {},
   "outputs": [
    {
     "data": {
      "image/png": "[encoded data removed]",
      "text/plain": [
       "<Figure size 432x288 with 1 Axes>"
      ]
     },
     "metadata": {
      "needs_background": "light"
     },
     "output_type": "display_data"
    }
   ],
   "source": [
    "nbins = np.arange(0,51,1)\n",
    "plt.hist(std_p,bins=nbins,histtype='step',label='Proton')\n",
    "plt.hist(std_Fe,bins=nbins,histtype='step',label='Iron')\n",
    "plt.legend(loc='best')\n",
    "#plt.xlim([0,300])\n",
    "plt.yscale('log')\n",
    "plt.xlabel('Max intensity pixel',size=16)\n",
    "plt.show()"
   ]
  },
  {
   "cell_type": "code",
   "execution_count": 14,
   "id": "141319e4",
   "metadata": {},
   "outputs": [
    {
     "data": {
      "image/png": "[encoded data removed]",
      "text/plain": [
       "<Figure size 432x288 with 1 Axes>"
      ]
     },
     "metadata": {
      "needs_background": "light"
     },
     "output_type": "display_data"
    }
   ],
   "source": [
    "nbins = np.arange(0,2010,10)\n",
    "plt.hist(max_p,bins=nbins,histtype='step',label='Proton')\n",
    "plt.hist(max_Fe,bins=nbins,histtype='step',label='Iron')\n",
    "plt.legend(loc='best')\n",
    "plt.xlim([0,300])\n",
    "plt.yscale('log')\n",
    "plt.xlabel('Max intensity pixel',size=16)\n",
    "plt.show()"
   ]
  },
  {
   "cell_type": "code",
   "execution_count": 25,
   "id": "bbf5cc9c",
   "metadata": {},
   "outputs": [
    {
     "data": {
      "text/plain": [
       "array([[ 10.2213707 ,   6.54524899,  10.80866146],\n",
       "       [ 12.80746841, 177.27896118,   8.70680237],\n",
       "       [ 15.26240635,   7.68272638,  72.3416214 ],\n",
       "       ...,\n",
       "       [  6.43684988,   2.89181327,   7.61956685],\n",
       "       [  3.57239643,   8.03541224,   3.82373781],\n",
       "       [  3.45386027,   5.07465046,   3.23661135]])"
      ]
     },
     "execution_count": 25,
     "metadata": {},
     "output_type": "execute_result"
    }
   ],
   "source": [
    "np.vstack((np.vstack((max_p,max_Fe)),mean_p)).reshape((1900,3))"
   ]
  },
  {
   "cell_type": "code",
   "execution_count": 31,
   "id": "a004eff9",
   "metadata": {},
   "outputs": [],
   "source": [
    "df = pd.DataFrame()"
   ]
  },
  {
   "cell_type": "code",
   "execution_count": 32,
   "id": "3701332a",
   "metadata": {},
   "outputs": [],
   "source": [
    "df['non-zero'] = num_Fe\n",
    "df['num-clusters'] = numcl_Fe\n",
    "df['max'] = max_Fe\n",
    "df['mean'] = mean_Fe\n",
    "df['std'] = std_Fe"
   ]
  },
  {
   "cell_type": "code",
   "execution_count": 33,
   "id": "747fa8e5",
   "metadata": {},
   "outputs": [
    {
     "data": {
      "text/html": [
       "<div>\n",
       "<style scoped>\n",
       "    .dataframe tbody tr th:only-of-type {\n",
       "        vertical-align: middle;\n",
       "    }\n",
       "\n",
       "    .dataframe tbody tr th {\n",
       "        vertical-align: top;\n",
       "    }\n",
       "\n",
       "    .dataframe thead th {\n",
       "        text-align: right;\n",
       "    }\n",
       "</style>\n",
       "<table border=\"1\" class=\"dataframe\">\n",
       "  <thead>\n",
       "    <tr style=\"text-align: right;\">\n",
       "      <th></th>\n",
       "      <th>non-zero</th>\n",
       "      <th>num-clusters</th>\n",
       "      <th>max</th>\n",
       "      <th>mean</th>\n",
       "      <th>std</th>\n",
       "    </tr>\n",
       "  </thead>\n",
       "  <tbody>\n",
       "    <tr>\n",
       "      <th>0</th>\n",
       "      <td>1044</td>\n",
       "      <td>2</td>\n",
       "      <td>41.304054</td>\n",
       "      <td>7.753409</td>\n",
       "      <td>7.861331</td>\n",
       "    </tr>\n",
       "    <tr>\n",
       "      <th>1</th>\n",
       "      <td>16</td>\n",
       "      <td>1</td>\n",
       "      <td>4.220771</td>\n",
       "      <td>3.334475</td>\n",
       "      <td>0.734738</td>\n",
       "    </tr>\n",
       "    <tr>\n",
       "      <th>2</th>\n",
       "      <td>16</td>\n",
       "      <td>1</td>\n",
       "      <td>34.951233</td>\n",
       "      <td>12.136568</td>\n",
       "      <td>13.222143</td>\n",
       "    </tr>\n",
       "    <tr>\n",
       "      <th>3</th>\n",
       "      <td>20</td>\n",
       "      <td>1</td>\n",
       "      <td>7.281611</td>\n",
       "      <td>4.647685</td>\n",
       "      <td>1.618677</td>\n",
       "    </tr>\n",
       "    <tr>\n",
       "      <th>4</th>\n",
       "      <td>56</td>\n",
       "      <td>1</td>\n",
       "      <td>14.537166</td>\n",
       "      <td>6.382393</td>\n",
       "      <td>4.758441</td>\n",
       "    </tr>\n",
       "    <tr>\n",
       "      <th>5</th>\n",
       "      <td>20</td>\n",
       "      <td>1</td>\n",
       "      <td>9.352634</td>\n",
       "      <td>3.823731</td>\n",
       "      <td>2.825198</td>\n",
       "    </tr>\n",
       "    <tr>\n",
       "      <th>6</th>\n",
       "      <td>20</td>\n",
       "      <td>1</td>\n",
       "      <td>6.388031</td>\n",
       "      <td>3.160892</td>\n",
       "      <td>1.768900</td>\n",
       "    </tr>\n",
       "    <tr>\n",
       "      <th>7</th>\n",
       "      <td>16</td>\n",
       "      <td>2</td>\n",
       "      <td>10.099965</td>\n",
       "      <td>5.564115</td>\n",
       "      <td>2.825832</td>\n",
       "    </tr>\n",
       "    <tr>\n",
       "      <th>8</th>\n",
       "      <td>20</td>\n",
       "      <td>1</td>\n",
       "      <td>9.098149</td>\n",
       "      <td>4.812772</td>\n",
       "      <td>2.286782</td>\n",
       "    </tr>\n",
       "    <tr>\n",
       "      <th>9</th>\n",
       "      <td>24</td>\n",
       "      <td>1</td>\n",
       "      <td>6.047159</td>\n",
       "      <td>3.098466</td>\n",
       "      <td>1.452641</td>\n",
       "    </tr>\n",
       "  </tbody>\n",
       "</table>\n",
       "</div>"
      ],
      "text/plain": [
       "   non-zero  num-clusters        max       mean        std\n",
       "0      1044             2  41.304054   7.753409   7.861331\n",
       "1        16             1   4.220771   3.334475   0.734738\n",
       "2        16             1  34.951233  12.136568  13.222143\n",
       "3        20             1   7.281611   4.647685   1.618677\n",
       "4        56             1  14.537166   6.382393   4.758441\n",
       "5        20             1   9.352634   3.823731   2.825198\n",
       "6        20             1   6.388031   3.160892   1.768900\n",
       "7        16             2  10.099965   5.564115   2.825832\n",
       "8        20             1   9.098149   4.812772   2.286782\n",
       "9        24             1   6.047159   3.098466   1.452641"
      ]
     },
     "execution_count": 33,
     "metadata": {},
     "output_type": "execute_result"
    }
   ],
   "source": [
    "df.head(10)"
   ]
  },
  {
   "cell_type": "code",
   "execution_count": 34,
   "id": "0fef02fa",
   "metadata": {},
   "outputs": [],
   "source": [
    "df.to_csv('../data/image_features_iron.csv')"
   ]
  },
  {
   "cell_type": "code",
   "execution_count": 37,
   "id": "d4e03190",
   "metadata": {},
   "outputs": [
    {
     "name": "stderr",
     "output_type": "stream",
     "text": [
      "/tmp/ipykernel_24046/3314849639.py:2: FutureWarning: this method is deprecated in favour of `Styler.format(precision=..)`\n",
      "  corr.style.background_gradient(cmap='coolwarm').set_precision(3)\n"
     ]
    },
    {
     "data": {
      "text/html": [
       "<style type=\"text/css\">\n",
       "#T_d931e_row0_col0, #T_d931e_row1_col1, #T_d931e_row2_col2, #T_d931e_row3_col3, #T_d931e_row4_col4 {\n",
       "  background-color: #b40426;\n",
       "  color: #f1f1f1;\n",
       "}\n",
       "#T_d931e_row0_col1 {\n",
       "  background-color: #d2dbe8;\n",
       "  color: #000000;\n",
       "}\n",
       "#T_d931e_row0_col2 {\n",
       "  background-color: #f5c0a7;\n",
       "  color: #000000;\n",
       "}\n",
       "#T_d931e_row0_col3 {\n",
       "  background-color: #d5dbe5;\n",
       "  color: #000000;\n",
       "}\n",
       "#T_d931e_row0_col4 {\n",
       "  background-color: #edd1c2;\n",
       "  color: #000000;\n",
       "}\n",
       "#T_d931e_row1_col0, #T_d931e_row1_col2, #T_d931e_row1_col3, #T_d931e_row1_col4, #T_d931e_row3_col1 {\n",
       "  background-color: #3b4cc0;\n",
       "  color: #f1f1f1;\n",
       "}\n",
       "#T_d931e_row2_col0 {\n",
       "  background-color: #b1cbfc;\n",
       "  color: #000000;\n",
       "}\n",
       "#T_d931e_row2_col1 {\n",
       "  background-color: #455cce;\n",
       "  color: #f1f1f1;\n",
       "}\n",
       "#T_d931e_row2_col3 {\n",
       "  background-color: #f59c7d;\n",
       "  color: #000000;\n",
       "}\n",
       "#T_d931e_row2_col4, #T_d931e_row4_col2 {\n",
       "  background-color: #cf453c;\n",
       "  color: #f1f1f1;\n",
       "}\n",
       "#T_d931e_row3_col0, #T_d931e_row4_col1 {\n",
       "  background-color: #4257c9;\n",
       "  color: #f1f1f1;\n",
       "}\n",
       "#T_d931e_row3_col2 {\n",
       "  background-color: #f5a081;\n",
       "  color: #000000;\n",
       "}\n",
       "#T_d931e_row3_col4, #T_d931e_row4_col3 {\n",
       "  background-color: #d85646;\n",
       "  color: #f1f1f1;\n",
       "}\n",
       "#T_d931e_row4_col0 {\n",
       "  background-color: #86a9fc;\n",
       "  color: #f1f1f1;\n",
       "}\n",
       "</style>\n",
       "<table id=\"T_d931e_\">\n",
       "  <thead>\n",
       "    <tr>\n",
       "      <th class=\"blank level0\" >&nbsp;</th>\n",
       "      <th class=\"col_heading level0 col0\" >non-zero</th>\n",
       "      <th class=\"col_heading level0 col1\" >num-clusters</th>\n",
       "      <th class=\"col_heading level0 col2\" >max</th>\n",
       "      <th class=\"col_heading level0 col3\" >mean</th>\n",
       "      <th class=\"col_heading level0 col4\" >std</th>\n",
       "    </tr>\n",
       "  </thead>\n",
       "  <tbody>\n",
       "    <tr>\n",
       "      <th id=\"T_d931e_level0_row0\" class=\"row_heading level0 row0\" >non-zero</th>\n",
       "      <td id=\"T_d931e_row0_col0\" class=\"data row0 col0\" >1.000</td>\n",
       "      <td id=\"T_d931e_row0_col1\" class=\"data row0 col1\" >0.479</td>\n",
       "      <td id=\"T_d931e_row0_col2\" class=\"data row0 col2\" >0.664</td>\n",
       "      <td id=\"T_d931e_row0_col3\" class=\"data row0 col3\" >0.492</td>\n",
       "      <td id=\"T_d931e_row0_col4\" class=\"data row0 col4\" >0.600</td>\n",
       "    </tr>\n",
       "    <tr>\n",
       "      <th id=\"T_d931e_level0_row1\" class=\"row_heading level0 row1\" >num-clusters</th>\n",
       "      <td id=\"T_d931e_row1_col0\" class=\"data row1 col0\" >0.479</td>\n",
       "      <td id=\"T_d931e_row1_col1\" class=\"data row1 col1\" >1.000</td>\n",
       "      <td id=\"T_d931e_row1_col2\" class=\"data row1 col2\" >0.075</td>\n",
       "      <td id=\"T_d931e_row1_col3\" class=\"data row1 col3\" >0.037</td>\n",
       "      <td id=\"T_d931e_row1_col4\" class=\"data row1 col4\" >0.061</td>\n",
       "    </tr>\n",
       "    <tr>\n",
       "      <th id=\"T_d931e_level0_row2\" class=\"row_heading level0 row2\" >max</th>\n",
       "      <td id=\"T_d931e_row2_col0\" class=\"data row2 col0\" >0.664</td>\n",
       "      <td id=\"T_d931e_row2_col1\" class=\"data row2 col1\" >0.075</td>\n",
       "      <td id=\"T_d931e_row2_col2\" class=\"data row2 col2\" >1.000</td>\n",
       "      <td id=\"T_d931e_row2_col3\" class=\"data row2 col3\" >0.754</td>\n",
       "      <td id=\"T_d931e_row2_col4\" class=\"data row2 col4\" >0.928</td>\n",
       "    </tr>\n",
       "    <tr>\n",
       "      <th id=\"T_d931e_level0_row3\" class=\"row_heading level0 row3\" >mean</th>\n",
       "      <td id=\"T_d931e_row3_col0\" class=\"data row3 col0\" >0.492</td>\n",
       "      <td id=\"T_d931e_row3_col1\" class=\"data row3 col1\" >0.037</td>\n",
       "      <td id=\"T_d931e_row3_col2\" class=\"data row3 col2\" >0.754</td>\n",
       "      <td id=\"T_d931e_row3_col3\" class=\"data row3 col3\" >1.000</td>\n",
       "      <td id=\"T_d931e_row3_col4\" class=\"data row3 col4\" >0.897</td>\n",
       "    </tr>\n",
       "    <tr>\n",
       "      <th id=\"T_d931e_level0_row4\" class=\"row_heading level0 row4\" >std</th>\n",
       "      <td id=\"T_d931e_row4_col0\" class=\"data row4 col0\" >0.600</td>\n",
       "      <td id=\"T_d931e_row4_col1\" class=\"data row4 col1\" >0.061</td>\n",
       "      <td id=\"T_d931e_row4_col2\" class=\"data row4 col2\" >0.928</td>\n",
       "      <td id=\"T_d931e_row4_col3\" class=\"data row4 col3\" >0.897</td>\n",
       "      <td id=\"T_d931e_row4_col4\" class=\"data row4 col4\" >1.000</td>\n",
       "    </tr>\n",
       "  </tbody>\n",
       "</table>\n"
      ],
      "text/plain": [
       "<pandas.io.formats.style.Styler at 0x7f266e558fa0>"
      ]
     },
     "execution_count": 37,
     "metadata": {},
     "output_type": "execute_result"
    }
   ],
   "source": [
    "corr = df.corr()\n",
    "corr.style.background_gradient(cmap='coolwarm').set_precision(3)"
   ]
  },
  {
   "cell_type": "code",
   "execution_count": 38,
   "id": "e08c4c03",
   "metadata": {},
   "outputs": [],
   "source": [
    "import seaborn as sns"
   ]
  },
  {
   "cell_type": "code",
   "execution_count": 39,
   "id": "611e3cd9",
   "metadata": {},
   "outputs": [
    {
     "data": {
      "text/plain": [
       "<seaborn.axisgrid.PairGrid at 0x7f266e28f0a0>"
      ]
     },
     "execution_count": 39,
     "metadata": {},
     "output_type": "execute_result"
    },
    {
     "data": {
      "image/png": "[encoded data removed]",
      "text/plain": [
       "<Figure size 900x900 with 25 Axes>"
      ]
     },
     "metadata": {
      "needs_background": "light"
     },
     "output_type": "display_data"
    }
   ],
   "source": [
    "#iris = sns.load_dataset(\"iris\")\n",
    "g = sns.PairGrid(df)\n",
    "g.map(sns.scatterplot)"
   ]
  },
  {
   "cell_type": "code",
   "execution_count": null,
   "id": "expanded-times",
   "metadata": {},
   "outputs": [],
   "source": [
    "nx = 10\n",
    "imag1 = imgs_MST_MONO_Fe\n",
    "imag2 = imgs_MST_STER_Fe\n",
    "imag3 = imgs_SST_MONO_Fe\n",
    "imag4 = imgs_SST_STER_Fe\n",
    "\n",
    "fig = plt.figure(figsize=(10,10))\n",
    "plt.subplot(221)\n",
    "plt.imshow(np.squeeze(imag1[nx]))\n",
    "plt.subplot(222)\n",
    "plt.imshow(np.squeeze(imag2[nx]))\n",
    "plt.subplot(223)\n",
    "plt.imshow(np.squeeze(imag3[nx]))\n",
    "plt.subplot(224)\n",
    "plt.imshow(np.squeeze(imag3[nx]))\n",
    "# show the plot\n",
    "plt.show()"
   ]
  },
  {
   "cell_type": "code",
   "execution_count": null,
   "id": "0c0cdf4d",
   "metadata": {},
   "outputs": [],
   "source": [
    "np.count_nonzero(imag2[nx])"
   ]
  },
  {
   "cell_type": "markdown",
   "id": "beautiful-citizen",
   "metadata": {},
   "source": [
    "# LABELS\n",
    "# iron = 1st component / proton = 2nd "
   ]
  },
  {
   "cell_type": "code",
   "execution_count": null,
   "id": "purple-willow",
   "metadata": {},
   "outputs": [],
   "source": [
    "#LABEL_MST_MONO = data_IMGs_MST['LABEL']\n",
    "#LABEL_MST_STER = data_IMGs_MST['LABEL']\n",
    "#LABEL_MST_STER"
   ]
  },
  {
   "cell_type": "markdown",
   "id": "manufactured-certification",
   "metadata": {},
   "source": [
    "# ENERGY, XMAX, Y"
   ]
  },
  {
   "cell_type": "code",
   "execution_count": 40,
   "id": "logical-bolivia",
   "metadata": {},
   "outputs": [],
   "source": [
    "# XMAX by species\n",
    "XMAX_MST_Fe = data_MST['XMAX'][0]\n",
    "XMAX_MST_p  = data_MST['XMAX'][1]\n",
    "\n",
    "XMAX_SST_Fe = data_SST['XMAX'][0]\n",
    "XMAX_SST_p  = data_SST['XMAX'][1]\n",
    "\n",
    "#p+Fe\n",
    "XMAX_MST = np.concatenate((XMAX_MST_Fe,XMAX_MST_p), axis=0)\n",
    "XMAX_SST = np.concatenate((XMAX_SST_Fe,XMAX_SST_p), axis=0)\n",
    "\n",
    "# test\n",
    "E_SST_Fe = data_SST['ENERGY'][0]"
   ]
  },
  {
   "cell_type": "code",
   "execution_count": null,
   "id": "hawaiian-dynamics",
   "metadata": {},
   "outputs": [],
   "source": [
    "plt.hist2d(E_SST_Fe,XMAX_SST_Fe,bins=100)\n",
    "plt.show()"
   ]
  },
  {
   "cell_type": "code",
   "execution_count": null,
   "id": "cognitive-improvement",
   "metadata": {},
   "outputs": [],
   "source": [
    "plt.scatter(E_SST_Fe,XMAX_SST_Fe,s=2)\n",
    "plt.show()"
   ]
  },
  {
   "cell_type": "code",
   "execution_count": null,
   "id": "dense-liabilities",
   "metadata": {},
   "outputs": [],
   "source": [
    "nbins= np.arange(100,900,20)\n",
    "plt.hist(XMAX_SST_Fe,bins=nbins,histtype='step',label='Fe')\n",
    "plt.hist(XMAX_SST_p,bins=nbins,histtype='step',label='p')\n",
    "plt.legend(loc='best')\n",
    "plt.xlabel(r'$X_{max}$',size=14)\n",
    "plt.title('SST',size=14)\n",
    "plt.yscale('log')\n",
    "#plt.savefig('../figures/XMAX_Fe_P_SST.pdf')\n",
    "plt.show()"
   ]
  },
  {
   "cell_type": "code",
   "execution_count": null,
   "id": "associate-sphere",
   "metadata": {},
   "outputs": [],
   "source": [
    "nbins= np.arange(100,900,20)\n",
    "plt.hist(XMAX_MST_Fe,bins=nbins,histtype='step',label='Fe')\n",
    "plt.hist(XMAX_MST_p,bins=nbins,histtype='step',label='p')\n",
    "plt.legend(loc='best')\n",
    "plt.xlabel(r'$X_{max}$',size=14)\n",
    "plt.title('MST',size=14)\n",
    "plt.yscale('log')\n",
    "#plt.savefig('../figures/XMAX_Fe_P_MST.pdf')\n",
    "plt.show()"
   ]
  },
  {
   "cell_type": "markdown",
   "id": "affected-investor",
   "metadata": {},
   "source": [
    "# VARIATIONAL AUTO-ENCODER MODEL"
   ]
  },
  {
   "cell_type": "code",
   "execution_count": 41,
   "id": "focal-paragraph",
   "metadata": {},
   "outputs": [],
   "source": [
    "# reparameterization trick\n",
    "# instead of sampling from Q(z|X), sample eps = N(0,I)\n",
    "# z = z_mean + sqrt(var)*eps\n",
    "def Nsampling(args):\n",
    "    \"\"\"Reparameterization trick by sampling fr an isotropic unit Gaussian.\n",
    "    # Arguments:\n",
    "        args (tensor): mean and log of variance of Q(z|X)\n",
    "    # Returns:\n",
    "        z (tensor): sampled latent vector\n",
    "    \"\"\"\n",
    "\n",
    "    z_mean, z_log_var = args\n",
    "    batch = K.shape(z_mean)[0]\n",
    "    dim = K.int_shape(z_mean)[1]\n",
    "    # by default, random_normal has mean=0 and std=1.0\n",
    "    epsilon = K.random_normal(shape=(batch, dim))\n",
    "    thre = K.random_uniform(shape=(batch,1))\n",
    "    return z_mean + K.exp(0.5 * z_log_var) * epsilon"
   ]
  },
  {
   "cell_type": "markdown",
   "id": "vulnerable-membrane",
   "metadata": {},
   "source": [
    "# ENCODER"
   ]
  },
  {
   "cell_type": "code",
   "execution_count": 152,
   "id": "operational-missouri",
   "metadata": {},
   "outputs": [],
   "source": [
    "def encodeNN(input_image,latent_dim,isVar,input_cVar,dp,n_ft,n_conv):\n",
    "    \n",
    "    x0 = Conv2D(n_ft, activation='relu', kernel_size=(3, 3),padding='same')(input_image)\n",
    "    x0 = MaxPooling2D(pool_size=(2, 2))(x0)\n",
    "    \n",
    "    for k in range(n_conv):\n",
    "        fac = int(2*(k+1))\n",
    "        x0 = Conv2D(int(n_ft/2), activation='relu', kernel_size=(3, 3),padding='same')(x0)\n",
    "        x0 = MaxPooling2D(pool_size=(2, 2))(x0)\n",
    "\n",
    "    x1 = Flatten()(x0)\n",
    "    if isVar:\n",
    "        # Concatenate Energy\n",
    "        #input_cVar = Input(shape=(5,), name='cVar')\n",
    "        xc = Dense(5,)(input_cVar)\n",
    "        x1 = Concatenate()([x1, xc])\n",
    "        \n",
    "    x1 = Dropout(dp)(x1)\n",
    "    x1 = Dense(int(latent_dim*2), activation='tanh',kernel_regularizer=regularizers.l2(L2_reg))(x1)\n",
    "    xo = Dense(int(latent_dim*4), activation='tanh',kernel_regularizer=regularizers.l2(L2_reg))(x1)\n",
    "    \n",
    "    return xo"
   ]
  },
  {
   "cell_type": "markdown",
   "id": "wound-rhythm",
   "metadata": {},
   "source": [
    "# DECODER"
   ]
  },
  {
   "cell_type": "code",
   "execution_count": 45,
   "id": "portable-australia",
   "metadata": {},
   "outputs": [],
   "source": [
    "def decodeNN(latent_input,orig_dim_img,latent_dim,n_ft,L2_reg,reco_loss):\n",
    "    \n",
    "    patch_x,patch_y = orig_dim_img\n",
    "\n",
    "    # build decoder model\n",
    "    y = Dense(latent_dim*2, activation='tanh',kernel_regularizer=regularizers.l2(L2_reg))(latent_input)\n",
    "    y = Dense(latent_dim*4, activation='tanh',kernel_regularizer=regularizers.l2(L2_reg))(y)\n",
    "    y = Dense(int(patch_x/8*patch_y/8*n_ft*4), activation='relu',kernel_regularizer=regularizers.l2(L2_reg))(y)\n",
    "    y = Reshape((int(patch_x/8),int(patch_y/8),n_ft*4))(y)\n",
    "    \n",
    "    y = Conv2D(n_ft*4, kernel_size=(3, 3),padding='same')(y)\n",
    "    y = BatchNormalization()(y)\n",
    "    y = Activation('relu')(y)\n",
    "    y = UpSampling2D((2,2))(y)\n",
    "\n",
    "    y = Conv2D(n_ft*2, kernel_size=(3, 3),padding='same')(y)\n",
    "    y = BatchNormalization()(y)\n",
    "    y = Activation('relu')(y)\n",
    "    y = UpSampling2D((2,2))(y)\n",
    "\n",
    "    y = Conv2D(n_ft, kernel_size=(3, 3),padding='same')(y)\n",
    "    y = BatchNormalization()(y)\n",
    "    y = Activation('relu')(y)\n",
    "    y = UpSampling2D((2,2))(y)\n",
    "\n",
    "    yo = Conv2D(1, kernel_size=(3, 3),padding='same')(y)\n",
    "    \n",
    "    if reco_loss=='binary':\n",
    "        yo = Activation('sigmoid')(yo)\n",
    "    else:\n",
    "        yo = yo\n",
    "        \n",
    "    return yo"
   ]
  },
  {
   "cell_type": "markdown",
   "id": "together-marking",
   "metadata": {},
   "source": [
    "# LATENT SPACE"
   ]
  },
  {
   "cell_type": "code",
   "execution_count": 47,
   "id": "accomplished-rings",
   "metadata": {},
   "outputs": [],
   "source": [
    "# q(z|x) neural net\n",
    "def qzx(xo,latent_dim):\n",
    "    \n",
    "    z_mean_o = Dense(latent_dim*2, activation='tanh', name='z_mean_o')(xo)\n",
    "    z_mean   = Dense(latent_dim, activation = 'linear', name='z_mean')(z_mean_o)\n",
    "    \n",
    "    z_log_var_o = Dense(latent_dim*2, activation='tanh', name='z_log_var_o')(xo)\n",
    "    z_log_var   = Dense(latent_dim, name='z_log_var')(z_log_var_o)\n",
    "    \n",
    "    return z_mean, z_log_var"
   ]
  },
  {
   "cell_type": "markdown",
   "id": "posted-lightweight",
   "metadata": {},
   "source": [
    "# LATENT GENERATOR"
   ]
  },
  {
   "cell_type": "code",
   "execution_count": 48,
   "id": "laughing-subdivision",
   "metadata": {},
   "outputs": [],
   "source": [
    "# latent generator (simplified)\n",
    "# p(z|c) : c --> latent_dim\n",
    "def latent_generator(gen_input,latent_dim):\n",
    "    \n",
    "    inter_z_1 = Dense(int(latent_dim/4), activation='tanh', kernel_constraint=unit_norm(), name='inter_z_1')(gen_input)\n",
    "    #inter_z_2 = Dense(int(latent_dim/2), activation='tanh', kernel_constraint=unit_norm(), name='inter_z_2')(inter_z_1)\n",
    "    pz_mean = Dense(latent_dim, name='pz_mean', kernel_constraint=unit_norm())(inter_z_1)\n",
    "    #pz_mean = Dense(latent_dim, name='pz_mean', kernel_constraint=unit_norm())(generator_input)\n",
    "    pz_log_var = Dense(1, name='pz_log_var',kernel_constraint=max_norm(0))(gen_input)\n",
    "    \n",
    "    return pz_mean, pz_log_var"
   ]
  },
  {
   "cell_type": "markdown",
   "id": "referenced-senior",
   "metadata": {},
   "source": [
    "# PROBABILISTIC REGRESSORS"
   ]
  },
  {
   "cell_type": "code",
   "execution_count": 49,
   "id": "assigned-portugal",
   "metadata": {},
   "outputs": [],
   "source": [
    "# Mean\n",
    "def Mregressor(xo,orig_dim_r,latent_dim):\n",
    "    \n",
    "    x = Dense(latent_dim*2, activation='tanh', name='r_mean_1')(xo)\n",
    "    #x = Dropout(0.1)(x)\n",
    "    x = Dense(latent_dim, activation='tanh', name='r_mean_2')(x)\n",
    "    r_mean   = Dense(orig_dim_r, name='r_mean')(x)\n",
    "    \n",
    "    return r_mean\n",
    "\n",
    "# Log Variance\n",
    "def Vregressor(xo,orig_dim_r,latent_dim):\n",
    "    \n",
    "    x = Dense(latent_dim*2, activation='tanh', name='r_log_var_1')(xo)\n",
    "    x = Dense(latent_dim, activation='tanh', name='r_log_var_2')(x)\n",
    "    r_log_var   = Dense(orig_dim_r, name='r_log_var')(x)\n",
    "    \n",
    "    return r_log_var"
   ]
  },
  {
   "cell_type": "code",
   "execution_count": 147,
   "id": "framed-finish",
   "metadata": {},
   "outputs": [],
   "source": [
    "## Build VAE-Regression Model\n",
    "def VAE_Reg(orig_dim_img,dp,L2_reg,latent_dim,reco_loss,isVar,dim_cVar,n_ft,n_conv):\n",
    "    \n",
    "    # VAE model = encoder + decoder\n",
    "    patch_x,patch_y = orig_dim_img\n",
    "    input_r = Input(shape=(1, ), name='ground_truth')\n",
    "    input_image = Input(shape=(patch_x,patch_y,1), name='input_image')\n",
    "    \n",
    "    # calling encoder model    \n",
    "    input_cVar = Input(shape=(dim_cVar,), name='cVar')\n",
    "    xin = encodeNN(input_image,latent_dim,isVar,input_cVar,dp,n_ft,n_conv)\n",
    "\n",
    "    # q(z|x)\n",
    "    z_mean, z_log_var =  qzx(xin,latent_dim)\n",
    "    \n",
    "    # posterior on Y; probablistic regressor\n",
    "    r_mean = Mregressor(xin,orig_dim_r,latent_dim)\n",
    "    r_log_var = Vregressor(xin,orig_dim_r,latent_dim)\n",
    "\n",
    "    # use reparameterization trick to push the sampling out as input\n",
    "    z = Lambda(Nsampling, output_shape=(latent_dim,), name='z')([z_mean, z_log_var])\n",
    "    r = Lambda(Nsampling, output_shape=(1,), name='r')([r_mean, r_log_var])\n",
    "    # instantiate encoder model\n",
    "    encoder = Model([input_image,input_r,input_cVar], [z_mean, z_log_var, z, r_mean, r_log_var, r], name='encoder')\n",
    "    encoder.summary()\n",
    "    \n",
    "    # build generator model\n",
    "    generator_input = Input(shape=(1,), name='generator_input')\n",
    "    pz_mean, pz_log_var = latent_generator(generator_input,latent_dim)\n",
    "    # instantiate generator model\n",
    "    generator = Model(generator_input, [pz_mean,pz_log_var], name='generator')\n",
    "    generator.summary()    \n",
    "    \n",
    "    \n",
    "    # build decoder model\n",
    "    latent_input = Input(shape=(latent_dim,), name='z_sampling')\n",
    "    outputs = decodeNN(latent_input,orig_dim_img,latent_dim,n_ft,L2_reg,reco_loss)\n",
    "\n",
    "    # instantiate decoder model\n",
    "    decoder = Model(latent_input, outputs, name='decoder')\n",
    "    decoder.summary()\n",
    "    \n",
    "    # instantiate VAE model\n",
    "    pz_mean,pz_log_var = generator(encoder([input_image,input_r,input_cVar])[5])\n",
    "    outputs = decoder(encoder([input_image,input_r,input_cVar])[2])\n",
    "    vae = Model([input_image,input_r,input_cVar], [outputs, pz_mean,pz_log_var], name='vae_mlp')\n",
    "    \n",
    "    #vae.summary()\n",
    "    return vae, encoder, decoder, generator, outputs, input_image, input_r, z_mean, z_log_var, z, r_mean, r_log_var, r, pz_mean, pz_log_var"
   ]
  },
  {
   "cell_type": "code",
   "execution_count": 51,
   "id": "ancient-equivalent",
   "metadata": {},
   "outputs": [],
   "source": [
    "##Customize Lost Function of the VAE Model\n",
    "#models = (encoder, decoder)\n",
    "def VAELoss(input_image,input_r,outputs,z_mean,z_log_var,z,r_mean,r_log_var,r,pz_mean,pz_log_var,reco_loss):\n",
    "\n",
    "    if reco_loss=='binary':\n",
    "        reconstruction_loss = K.mean(binary_crossentropy(input_image,outputs), axis=[1,2])\n",
    "    elif reco_loss=='mse':\n",
    "        reconstruction_loss = K.mean(mean_absolute_error(input_image,outputs), axis=[1,2])\n",
    "    #elif reco_loss=='huber':\n",
    "    #    reconstruction_loss = lam*K.mean(mean_absolute_error(input_image,outputs), axis=[1,2])+(1-lam)*huber(input_image,outputs,delta=delta)\n",
    "\n",
    "    kl_loss = 1 + z_log_var - pz_log_var - tf.math.divide(K.square(z_mean-pz_mean),K.exp(pz_log_var)) - tf.math.divide(K.exp(z_log_var),K.exp(pz_log_var))\n",
    "    #kl_loss = 1 + z_log_var - K.square(z_mean-pz_mean) - K.exp(z_log_var)\n",
    "    kl_loss = -0.5*K.sum(kl_loss, axis=-1)\n",
    "    label_loss = tf.math.divide(0.5*K.square(r_mean - input_r), K.exp(r_log_var)) +  0.5 * r_log_var\n",
    "\n",
    "    vae_loss = K.mean(reconstruction_loss+kl_loss+label_loss)\n",
    "    \n",
    "    return vae_loss"
   ]
  },
  {
   "cell_type": "code",
   "execution_count": 98,
   "id": "related-falls",
   "metadata": {},
   "outputs": [],
   "source": [
    "# Setting the Hyperparameters\n",
    "## CNN Parameters \n",
    "dp = 0.1\n",
    "n_ft = 32\n",
    "n_conv = 4\n",
    "latent_dim = 24\n",
    "L2_reg= 0.0\n",
    "reco_loss = 'binary'\n",
    "# Learning Rate\n",
    "lr = 1e-3\n",
    "# Epochs\n",
    "epochs = 100\n",
    "# batch size\n",
    "batch_size = 64\n",
    "# augmentatio\n",
    "augment_size = 3000\n",
    "# auxiliary variable\n",
    "isVar = True"
   ]
  },
  {
   "cell_type": "markdown",
   "id": "everyday-automation",
   "metadata": {},
   "source": [
    "# TRAIN/TEST SPLIT"
   ]
  },
  {
   "cell_type": "code",
   "execution_count": 54,
   "id": "enhanced-female",
   "metadata": {},
   "outputs": [
    {
     "name": "stdout",
     "output_type": "stream",
     "text": [
      "[48, 48] 1\n"
     ]
    }
   ],
   "source": [
    "data_images = normalize_img(imgs_SST_STER_Fe)\n",
    "orig_dim_img = [data_images.shape[1],data_images.shape[2]]\n",
    "\n",
    "yXmax = np.log(XMAX_SST_Fe)\n",
    "#yE = np.log(E_SST_Fe)\n",
    "yE = df.values\n",
    "\n",
    "orig_dim_r = 1\n",
    "print(orig_dim_img, orig_dim_r)\n",
    "\n",
    "fake = np.zeros((data_images.shape[0]))\n",
    "pred = np.zeros((yXmax.shape))"
   ]
  },
  {
   "cell_type": "code",
   "execution_count": 124,
   "id": "e229f14e",
   "metadata": {},
   "outputs": [],
   "source": [
    "# Train/Test split\n",
    "rs = 42\n",
    "train_data, test_data, train_xmax, test_xmax = train_test_split(data_images,yXmax,test_size=0.2,shuffle=True,random_state=rs)\n",
    "_, _, train_e, test_e = train_test_split(data_images,yE,test_size=0.2,shuffle=True,random_state=rs)"
   ]
  },
  {
   "cell_type": "code",
   "execution_count": 122,
   "id": "f025fe67",
   "metadata": {},
   "outputs": [
    {
     "data": {
      "text/plain": [
       "(1520,)"
      ]
     },
     "execution_count": 122,
     "metadata": {},
     "output_type": "execute_result"
    }
   ],
   "source": [
    "train_xmax.shape"
   ]
  },
  {
   "cell_type": "code",
   "execution_count": 125,
   "id": "supported-possession",
   "metadata": {},
   "outputs": [],
   "source": [
    "# augment data\n",
    "train_data_aug, train_xmax_aug = augment_by_transformation(train_data,train_xmax,False,augment_size)\n",
    "_, train_e_aug = augment_by_transformation(train_data,train_e,True,augment_size)"
   ]
  },
  {
   "cell_type": "code",
   "execution_count": 126,
   "id": "random-campbell",
   "metadata": {},
   "outputs": [
    {
     "name": "stdout",
     "output_type": "stream",
     "text": [
      "(1520, 48, 48, 1) (3000, 48, 48, 1)\n",
      "(3000,) (3000, 5)\n"
     ]
    }
   ],
   "source": [
    "print(train_data.shape,train_data_aug.shape)\n",
    "print(train_xmax_aug.shape,train_e_aug.shape)"
   ]
  },
  {
   "cell_type": "code",
   "execution_count": 61,
   "id": "wanted-temple",
   "metadata": {},
   "outputs": [],
   "source": [
    "def conv(arg):\n",
    "    arg = tf.convert_to_tensor(arg, dtype=tf.float32)\n",
    "    return arg"
   ]
  },
  {
   "cell_type": "code",
   "execution_count": 101,
   "id": "bcbee50a",
   "metadata": {},
   "outputs": [],
   "source": [
    "train_xmax_aug = conv(train_xmax_aug)\n",
    "input_cVar = conv(train_e_aug)\n",
    "#train_xmax_aug.shape"
   ]
  },
  {
   "cell_type": "code",
   "execution_count": 153,
   "id": "catholic-variation",
   "metadata": {},
   "outputs": [
    {
     "name": "stdout",
     "output_type": "stream",
     "text": [
      "Model: \"encoder\"\n",
      "__________________________________________________________________________________________________\n",
      "Layer (type)                    Output Shape         Param #     Connected to                     \n",
      "==================================================================================================\n",
      "input_image (InputLayer)        [(None, 48, 48, 1)]  0                                            \n",
      "__________________________________________________________________________________________________\n",
      "conv2d_133 (Conv2D)             (None, 48, 48, 32)   320         input_image[0][0]                \n",
      "__________________________________________________________________________________________________\n",
      "max_pooling2d_85 (MaxPooling2D) (None, 24, 24, 32)   0           conv2d_133[0][0]                 \n",
      "__________________________________________________________________________________________________\n",
      "conv2d_134 (Conv2D)             (None, 24, 24, 16)   4624        max_pooling2d_85[0][0]           \n",
      "__________________________________________________________________________________________________\n",
      "max_pooling2d_86 (MaxPooling2D) (None, 12, 12, 16)   0           conv2d_134[0][0]                 \n",
      "__________________________________________________________________________________________________\n",
      "conv2d_135 (Conv2D)             (None, 12, 12, 16)   2320        max_pooling2d_86[0][0]           \n",
      "__________________________________________________________________________________________________\n",
      "max_pooling2d_87 (MaxPooling2D) (None, 6, 6, 16)     0           conv2d_135[0][0]                 \n",
      "__________________________________________________________________________________________________\n",
      "conv2d_136 (Conv2D)             (None, 6, 6, 16)     2320        max_pooling2d_87[0][0]           \n",
      "__________________________________________________________________________________________________\n",
      "max_pooling2d_88 (MaxPooling2D) (None, 3, 3, 16)     0           conv2d_136[0][0]                 \n",
      "__________________________________________________________________________________________________\n",
      "conv2d_137 (Conv2D)             (None, 3, 3, 16)     2320        max_pooling2d_88[0][0]           \n",
      "__________________________________________________________________________________________________\n",
      "max_pooling2d_89 (MaxPooling2D) (None, 1, 1, 16)     0           conv2d_137[0][0]                 \n",
      "__________________________________________________________________________________________________\n",
      "cVar (InputLayer)               [(None, 5)]          0                                            \n",
      "__________________________________________________________________________________________________\n",
      "flatten_17 (Flatten)            (None, 16)           0           max_pooling2d_89[0][0]           \n",
      "__________________________________________________________________________________________________\n",
      "dense_84 (Dense)                (None, 5)            30          cVar[0][0]                       \n",
      "__________________________________________________________________________________________________\n",
      "concatenate_17 (Concatenate)    (None, 21)           0           flatten_17[0][0]                 \n",
      "                                                                 dense_84[0][0]                   \n",
      "__________________________________________________________________________________________________\n",
      "dropout_17 (Dropout)            (None, 21)           0           concatenate_17[0][0]             \n",
      "__________________________________________________________________________________________________\n",
      "dense_85 (Dense)                (None, 48)           1056        dropout_17[0][0]                 \n",
      "__________________________________________________________________________________________________\n",
      "dense_86 (Dense)                (None, 96)           4704        dense_85[0][0]                   \n",
      "__________________________________________________________________________________________________\n",
      "r_mean_1 (Dense)                (None, 48)           4656        dense_86[0][0]                   \n",
      "__________________________________________________________________________________________________\n",
      "r_log_var_1 (Dense)             (None, 48)           4656        dense_86[0][0]                   \n",
      "__________________________________________________________________________________________________\n",
      "z_mean_o (Dense)                (None, 48)           4656        dense_86[0][0]                   \n",
      "__________________________________________________________________________________________________\n",
      "z_log_var_o (Dense)             (None, 48)           4656        dense_86[0][0]                   \n",
      "__________________________________________________________________________________________________\n",
      "r_mean_2 (Dense)                (None, 24)           1176        r_mean_1[0][0]                   \n",
      "__________________________________________________________________________________________________\n",
      "r_log_var_2 (Dense)             (None, 24)           1176        r_log_var_1[0][0]                \n",
      "__________________________________________________________________________________________________\n",
      "z_mean (Dense)                  (None, 24)           1176        z_mean_o[0][0]                   \n",
      "__________________________________________________________________________________________________\n",
      "z_log_var (Dense)               (None, 24)           1176        z_log_var_o[0][0]                \n",
      "__________________________________________________________________________________________________\n",
      "r_mean (Dense)                  (None, 1)            25          r_mean_2[0][0]                   \n",
      "__________________________________________________________________________________________________\n",
      "r_log_var (Dense)               (None, 1)            25          r_log_var_2[0][0]                \n",
      "__________________________________________________________________________________________________\n",
      "ground_truth (InputLayer)       [(None, 1)]          0                                            \n",
      "__________________________________________________________________________________________________\n",
      "z (Lambda)                      (None, 24)           0           z_mean[0][0]                     \n",
      "                                                                 z_log_var[0][0]                  \n",
      "__________________________________________________________________________________________________\n",
      "r (Lambda)                      (None, 1)            0           r_mean[0][0]                     \n",
      "                                                                 r_log_var[0][0]                  \n",
      "==================================================================================================\n",
      "Total params: 41,072\n",
      "Trainable params: 41,072\n",
      "Non-trainable params: 0\n",
      "__________________________________________________________________________________________________\n",
      "Model: \"generator\"\n",
      "__________________________________________________________________________________________________\n",
      "Layer (type)                    Output Shape         Param #     Connected to                     \n",
      "==================================================================================================\n",
      "generator_input (InputLayer)    [(None, 1)]          0                                            \n",
      "__________________________________________________________________________________________________\n",
      "inter_z_1 (Dense)               (None, 6)            12          generator_input[0][0]            \n",
      "__________________________________________________________________________________________________\n",
      "pz_mean (Dense)                 (None, 24)           168         inter_z_1[0][0]                  \n",
      "__________________________________________________________________________________________________\n",
      "pz_log_var (Dense)              (None, 1)            2           generator_input[0][0]            \n",
      "==================================================================================================\n",
      "Total params: 182\n",
      "Trainable params: 182\n",
      "Non-trainable params: 0\n",
      "__________________________________________________________________________________________________\n",
      "Model: \"decoder\"\n",
      "_________________________________________________________________\n",
      "Layer (type)                 Output Shape              Param #   \n",
      "=================================================================\n",
      "z_sampling (InputLayer)      [(None, 24)]              0         \n",
      "_________________________________________________________________\n",
      "dense_87 (Dense)             (None, 48)                1200      \n",
      "_________________________________________________________________\n",
      "dense_88 (Dense)             (None, 96)                4704      \n",
      "_________________________________________________________________\n",
      "dense_89 (Dense)             (None, 4608)              446976    \n",
      "_________________________________________________________________\n",
      "reshape_12 (Reshape)         (None, 6, 6, 128)         0         \n",
      "_________________________________________________________________\n",
      "conv2d_138 (Conv2D)          (None, 6, 6, 128)         147584    \n",
      "_________________________________________________________________\n",
      "batch_normalization_36 (Batc (None, 6, 6, 128)         512       \n",
      "_________________________________________________________________\n",
      "activation_48 (Activation)   (None, 6, 6, 128)         0         \n",
      "_________________________________________________________________\n",
      "up_sampling2d_36 (UpSampling (None, 12, 12, 128)       0         \n",
      "_________________________________________________________________\n",
      "conv2d_139 (Conv2D)          (None, 12, 12, 64)        73792     \n",
      "_________________________________________________________________\n",
      "batch_normalization_37 (Batc (None, 12, 12, 64)        256       \n",
      "_________________________________________________________________\n",
      "activation_49 (Activation)   (None, 12, 12, 64)        0         \n",
      "_________________________________________________________________\n",
      "up_sampling2d_37 (UpSampling (None, 24, 24, 64)        0         \n",
      "_________________________________________________________________\n",
      "conv2d_140 (Conv2D)          (None, 24, 24, 32)        18464     \n",
      "_________________________________________________________________\n",
      "batch_normalization_38 (Batc (None, 24, 24, 32)        128       \n",
      "_________________________________________________________________\n",
      "activation_50 (Activation)   (None, 24, 24, 32)        0         \n",
      "_________________________________________________________________\n",
      "up_sampling2d_38 (UpSampling (None, 48, 48, 32)        0         \n",
      "_________________________________________________________________\n",
      "conv2d_141 (Conv2D)          (None, 48, 48, 1)         289       \n",
      "_________________________________________________________________\n",
      "activation_51 (Activation)   (None, 48, 48, 1)         0         \n",
      "=================================================================\n",
      "Total params: 693,905\n",
      "Trainable params: 693,457\n",
      "Non-trainable params: 448\n",
      "_________________________________________________________________\n"
     ]
    },
    {
     "name": "stdout",
     "output_type": "stream",
     "text": [
      "Model: \"vae_mlp\"\n",
      "__________________________________________________________________________________________________\n",
      "Layer (type)                    Output Shape         Param #     Connected to                     \n",
      "==================================================================================================\n",
      "input_image (InputLayer)        [(None, 48, 48, 1)]  0                                            \n",
      "__________________________________________________________________________________________________\n",
      "ground_truth (InputLayer)       [(None, 1)]          0                                            \n",
      "__________________________________________________________________________________________________\n",
      "cVar (InputLayer)               [(None, 5)]          0                                            \n",
      "__________________________________________________________________________________________________\n",
      "encoder (Functional)            [(None, 24), (None,  41072       input_image[0][0]                \n",
      "                                                                 ground_truth[0][0]               \n",
      "                                                                 cVar[0][0]                       \n",
      "                                                                 input_image[0][0]                \n",
      "                                                                 ground_truth[0][0]               \n",
      "                                                                 cVar[0][0]                       \n",
      "__________________________________________________________________________________________________\n",
      "decoder (Functional)            (None, 48, 48, 1)    693905      encoder[1][2]                    \n",
      "__________________________________________________________________________________________________\n",
      "generator (Functional)          [(None, 24), (None,  182         encoder[0][5]                    \n",
      "__________________________________________________________________________________________________\n",
      "conv2d_133 (Conv2D)             (None, 48, 48, 32)   320         input_image[0][0]                \n",
      "__________________________________________________________________________________________________\n",
      "max_pooling2d_85 (MaxPooling2D) (None, 24, 24, 32)   0           conv2d_133[0][0]                 \n",
      "__________________________________________________________________________________________________\n",
      "conv2d_134 (Conv2D)             (None, 24, 24, 16)   4624        max_pooling2d_85[0][0]           \n",
      "__________________________________________________________________________________________________\n",
      "max_pooling2d_86 (MaxPooling2D) (None, 12, 12, 16)   0           conv2d_134[0][0]                 \n",
      "__________________________________________________________________________________________________\n",
      "conv2d_135 (Conv2D)             (None, 12, 12, 16)   2320        max_pooling2d_86[0][0]           \n",
      "__________________________________________________________________________________________________\n",
      "max_pooling2d_87 (MaxPooling2D) (None, 6, 6, 16)     0           conv2d_135[0][0]                 \n",
      "__________________________________________________________________________________________________\n",
      "conv2d_136 (Conv2D)             (None, 6, 6, 16)     2320        max_pooling2d_87[0][0]           \n",
      "__________________________________________________________________________________________________\n",
      "max_pooling2d_88 (MaxPooling2D) (None, 3, 3, 16)     0           conv2d_136[0][0]                 \n",
      "__________________________________________________________________________________________________\n",
      "conv2d_137 (Conv2D)             (None, 3, 3, 16)     2320        max_pooling2d_88[0][0]           \n",
      "__________________________________________________________________________________________________\n",
      "max_pooling2d_89 (MaxPooling2D) (None, 1, 1, 16)     0           conv2d_137[0][0]                 \n",
      "__________________________________________________________________________________________________\n",
      "flatten_17 (Flatten)            (None, 16)           0           max_pooling2d_89[0][0]           \n",
      "__________________________________________________________________________________________________\n",
      "dense_84 (Dense)                (None, 5)            30          cVar[0][0]                       \n",
      "__________________________________________________________________________________________________\n",
      "concatenate_17 (Concatenate)    (None, 21)           0           flatten_17[0][0]                 \n",
      "                                                                 dense_84[0][0]                   \n",
      "__________________________________________________________________________________________________\n",
      "dropout_17 (Dropout)            (None, 21)           0           concatenate_17[0][0]             \n",
      "__________________________________________________________________________________________________\n",
      "dense_85 (Dense)                (None, 48)           1056        dropout_17[0][0]                 \n",
      "__________________________________________________________________________________________________\n",
      "dense_86 (Dense)                (None, 96)           4704        dense_85[0][0]                   \n",
      "__________________________________________________________________________________________________\n",
      "z_mean_o (Dense)                (None, 48)           4656        dense_86[0][0]                   \n",
      "__________________________________________________________________________________________________\n",
      "z_log_var_o (Dense)             (None, 48)           4656        dense_86[0][0]                   \n",
      "__________________________________________________________________________________________________\n",
      "z_mean (Dense)                  (None, 24)           1176        z_mean_o[0][0]                   \n",
      "__________________________________________________________________________________________________\n",
      "z_log_var (Dense)               (None, 24)           1176        z_log_var_o[0][0]                \n",
      "__________________________________________________________________________________________________\n",
      "tf.math.subtract_61 (TFOpLambda (None, 24)           0           z_mean[0][0]                     \n",
      "                                                                 generator[0][0]                  \n",
      "__________________________________________________________________________________________________\n",
      "r_mean_1 (Dense)                (None, 48)           4656        dense_86[0][0]                   \n",
      "__________________________________________________________________________________________________\n",
      "tf.__operators__.add_48 (TFOpLa (None, 24)           0           z_log_var[0][0]                  \n",
      "__________________________________________________________________________________________________\n",
      "tf.math.square_24 (TFOpLambda)  (None, 24)           0           tf.math.subtract_61[0][0]        \n",
      "__________________________________________________________________________________________________\n",
      "tf.math.exp_48 (TFOpLambda)     (None, 1)            0           generator[0][1]                  \n",
      "__________________________________________________________________________________________________\n",
      "r_mean_2 (Dense)                (None, 24)           1176        r_mean_1[0][0]                   \n",
      "__________________________________________________________________________________________________\n",
      "tf.math.subtract_60 (TFOpLambda (None, 24)           0           tf.__operators__.add_48[0][0]    \n",
      "                                                                 generator[0][1]                  \n",
      "__________________________________________________________________________________________________\n",
      "tf.math.truediv_36 (TFOpLambda) (None, 24)           0           tf.math.square_24[0][0]          \n",
      "                                                                 tf.math.exp_48[0][0]             \n",
      "__________________________________________________________________________________________________\n",
      "tf.math.exp_49 (TFOpLambda)     (None, 24)           0           z_log_var[0][0]                  \n",
      "__________________________________________________________________________________________________\n",
      "tf.math.exp_50 (TFOpLambda)     (None, 1)            0           generator[0][1]                  \n",
      "__________________________________________________________________________________________________\n",
      "r_mean (Dense)                  (None, 1)            25          r_mean_2[0][0]                   \n",
      "__________________________________________________________________________________________________\n",
      "r_log_var_1 (Dense)             (None, 48)           4656        dense_86[0][0]                   \n",
      "__________________________________________________________________________________________________\n",
      "tf.cast_12 (TFOpLambda)         (None, 48, 48, 1)    0           input_image[0][0]                \n",
      "__________________________________________________________________________________________________\n",
      "tf.convert_to_tensor_36 (TFOpLa (None, 48, 48, 1)    0           decoder[0][0]                    \n",
      "__________________________________________________________________________________________________\n",
      "tf.math.subtract_62 (TFOpLambda (None, 24)           0           tf.math.subtract_60[0][0]        \n",
      "                                                                 tf.math.truediv_36[0][0]         \n",
      "__________________________________________________________________________________________________\n",
      "tf.math.truediv_37 (TFOpLambda) (None, 24)           0           tf.math.exp_49[0][0]             \n",
      "                                                                 tf.math.exp_50[0][0]             \n",
      "__________________________________________________________________________________________________\n",
      "tf.math.subtract_64 (TFOpLambda (None, 1)            0           r_mean[0][0]                     \n",
      "                                                                 ground_truth[0][0]               \n",
      "__________________________________________________________________________________________________\n",
      "r_log_var_2 (Dense)             (None, 24)           1176        r_log_var_1[0][0]                \n",
      "__________________________________________________________________________________________________\n",
      "tf.keras.backend.binary_crossen (None, 48, 48, 1)    0           tf.cast_12[0][0]                 \n",
      "                                                                 tf.convert_to_tensor_36[0][0]    \n",
      "__________________________________________________________________________________________________\n",
      "tf.math.subtract_63 (TFOpLambda (None, 24)           0           tf.math.subtract_62[0][0]        \n",
      "                                                                 tf.math.truediv_37[0][0]         \n",
      "__________________________________________________________________________________________________\n",
      "tf.math.square_25 (TFOpLambda)  (None, 1)            0           tf.math.subtract_64[0][0]        \n",
      "__________________________________________________________________________________________________\n",
      "r_log_var (Dense)               (None, 1)            25          r_log_var_2[0][0]                \n",
      "__________________________________________________________________________________________________\n",
      "tf.math.reduce_mean_36 (TFOpLam (None, 48, 48)       0           tf.keras.backend.binary_crossentr\n",
      "__________________________________________________________________________________________________\n",
      "tf.math.reduce_sum_12 (TFOpLamb (None,)              0           tf.math.subtract_63[0][0]        \n",
      "__________________________________________________________________________________________________\n",
      "tf.math.multiply_37 (TFOpLambda (None, 1)            0           tf.math.square_25[0][0]          \n",
      "__________________________________________________________________________________________________\n",
      "tf.math.exp_51 (TFOpLambda)     (None, 1)            0           r_log_var[0][0]                  \n",
      "__________________________________________________________________________________________________\n",
      "tf.math.reduce_mean_37 (TFOpLam (None,)              0           tf.math.reduce_mean_36[0][0]     \n",
      "__________________________________________________________________________________________________\n",
      "tf.math.multiply_36 (TFOpLambda (None,)              0           tf.math.reduce_sum_12[0][0]      \n",
      "__________________________________________________________________________________________________\n",
      "tf.math.truediv_38 (TFOpLambda) (None, 1)            0           tf.math.multiply_37[0][0]        \n",
      "                                                                 tf.math.exp_51[0][0]             \n",
      "__________________________________________________________________________________________________\n",
      "tf.math.multiply_38 (TFOpLambda (None, 1)            0           r_log_var[0][0]                  \n",
      "__________________________________________________________________________________________________\n",
      "tf.__operators__.add_50 (TFOpLa (None,)              0           tf.math.reduce_mean_37[0][0]     \n",
      "                                                                 tf.math.multiply_36[0][0]        \n",
      "__________________________________________________________________________________________________\n",
      "tf.__operators__.add_49 (TFOpLa (None, 1)            0           tf.math.truediv_38[0][0]         \n",
      "                                                                 tf.math.multiply_38[0][0]        \n",
      "__________________________________________________________________________________________________\n",
      "tf.__operators__.add_51 (TFOpLa (None, None)         0           tf.__operators__.add_50[0][0]    \n",
      "                                                                 tf.__operators__.add_49[0][0]    \n",
      "__________________________________________________________________________________________________\n",
      "tf.math.reduce_mean_38 (TFOpLam ()                   0           tf.__operators__.add_51[0][0]    \n",
      "__________________________________________________________________________________________________\n",
      "add_loss_12 (AddLoss)           ()                   0           tf.math.reduce_mean_38[0][0]     \n",
      "==================================================================================================\n",
      "Total params: 735,159\n",
      "Trainable params: 734,711\n",
      "Non-trainable params: 448\n",
      "__________________________________________________________________________________________________\n",
      "Epoch 1/100\n",
      "WARNING:tensorflow:Model was constructed with shape (None, 5) for input KerasTensor(type_spec=TensorSpec(shape=(None, 5), dtype=tf.float32, name='cVar'), name='cVar', description=\"created by layer 'cVar'\"), but it was called on an input with incompatible shape (None, 1).\n"
     ]
    },
    {
     "name": "stdout",
     "output_type": "stream",
     "text": [
      "WARNING:tensorflow:Model was constructed with shape (None, 5) for input KerasTensor(type_spec=TensorSpec(shape=(None, 5), dtype=tf.float32, name='cVar'), name='cVar', description=\"created by layer 'cVar'\"), but it was called on an input with incompatible shape (None, 1).\n"
     ]
    },
    {
     "ename": "ValueError",
     "evalue": "in user code:\n\n    /home/alexandre/anaconda3/lib/python3.9/site-packages/tensorflow/python/keras/engine/training.py:850 train_function  *\n        return step_function(self, iterator)\n    /home/alexandre/anaconda3/lib/python3.9/site-packages/tensorflow/python/keras/engine/training.py:840 step_function  **\n        outputs = model.distribute_strategy.run(run_step, args=(data,))\n    /home/alexandre/anaconda3/lib/python3.9/site-packages/tensorflow/python/distribute/distribute_lib.py:1285 run\n        return self._extended.call_for_each_replica(fn, args=args, kwargs=kwargs)\n    /home/alexandre/anaconda3/lib/python3.9/site-packages/tensorflow/python/distribute/distribute_lib.py:2833 call_for_each_replica\n        return self._call_for_each_replica(fn, args, kwargs)\n    /home/alexandre/anaconda3/lib/python3.9/site-packages/tensorflow/python/distribute/distribute_lib.py:3608 _call_for_each_replica\n        return fn(*args, **kwargs)\n    /home/alexandre/anaconda3/lib/python3.9/site-packages/tensorflow/python/keras/engine/training.py:833 run_step  **\n        outputs = model.train_step(data)\n    /home/alexandre/anaconda3/lib/python3.9/site-packages/tensorflow/python/keras/engine/training.py:790 train_step\n        y_pred = self(x, training=True)\n    /home/alexandre/anaconda3/lib/python3.9/site-packages/tensorflow/python/keras/engine/base_layer.py:1030 __call__\n        outputs = call_fn(inputs, *args, **kwargs)\n    /home/alexandre/anaconda3/lib/python3.9/site-packages/tensorflow/python/keras/engine/functional.py:420 call\n        return self._run_internal_graph(\n    /home/alexandre/anaconda3/lib/python3.9/site-packages/tensorflow/python/keras/engine/functional.py:556 _run_internal_graph\n        outputs = node.layer(*args, **kwargs)\n    /home/alexandre/anaconda3/lib/python3.9/site-packages/tensorflow/python/keras/engine/base_layer.py:1030 __call__\n        outputs = call_fn(inputs, *args, **kwargs)\n    /home/alexandre/anaconda3/lib/python3.9/site-packages/tensorflow/python/keras/engine/functional.py:420 call\n        return self._run_internal_graph(\n    /home/alexandre/anaconda3/lib/python3.9/site-packages/tensorflow/python/keras/engine/functional.py:556 _run_internal_graph\n        outputs = node.layer(*args, **kwargs)\n    /home/alexandre/anaconda3/lib/python3.9/site-packages/tensorflow/python/keras/engine/base_layer.py:1013 __call__\n        input_spec.assert_input_compatibility(self.input_spec, inputs, self.name)\n    /home/alexandre/anaconda3/lib/python3.9/site-packages/tensorflow/python/keras/engine/input_spec.py:251 assert_input_compatibility\n        raise ValueError(\n\n    ValueError: Input 0 of layer dense_84 is incompatible with the layer: expected axis -1 of input shape to have value 5 but received input with shape (None, 1)\n",
     "output_type": "error",
     "traceback": [
      "\u001b[0;31m---------------------------------------------------------------------------\u001b[0m",
      "\u001b[0;31mValueError\u001b[0m                                Traceback (most recent call last)",
      "\u001b[0;32m/tmp/ipykernel_24046/3499085042.py\u001b[0m in \u001b[0;36m<module>\u001b[0;34m\u001b[0m\n\u001b[1;32m     51\u001b[0m \u001b[0;31m#vae.save_weights('../models/vae_dnn_weights.hdf5')\u001b[0m\u001b[0;34m\u001b[0m\u001b[0;34m\u001b[0m\u001b[0m\n\u001b[1;32m     52\u001b[0m \u001b[0;34m\u001b[0m\u001b[0m\n\u001b[0;32m---> 53\u001b[0;31m history=vae.fit([train_data,train_xmax,input_cVar],\n\u001b[0m\u001b[1;32m     54\u001b[0m                 \u001b[0mepochs\u001b[0m\u001b[0;34m=\u001b[0m\u001b[0mepochs\u001b[0m\u001b[0;34m,\u001b[0m\u001b[0;34m\u001b[0m\u001b[0;34m\u001b[0m\u001b[0m\n\u001b[1;32m     55\u001b[0m                 \u001b[0mbatch_size\u001b[0m\u001b[0;34m=\u001b[0m\u001b[0mbatch_size\u001b[0m\u001b[0;34m,\u001b[0m\u001b[0;34m\u001b[0m\u001b[0;34m\u001b[0m\u001b[0m\n",
      "\u001b[0;32m~/anaconda3/lib/python3.9/site-packages/tensorflow/python/keras/engine/training.py\u001b[0m in \u001b[0;36mfit\u001b[0;34m(self, x, y, batch_size, epochs, verbose, callbacks, validation_split, validation_data, shuffle, class_weight, sample_weight, initial_epoch, steps_per_epoch, validation_steps, validation_batch_size, validation_freq, max_queue_size, workers, use_multiprocessing)\u001b[0m\n\u001b[1;32m   1176\u001b[0m                 _r=1):\n\u001b[1;32m   1177\u001b[0m               \u001b[0mcallbacks\u001b[0m\u001b[0;34m.\u001b[0m\u001b[0mon_train_batch_begin\u001b[0m\u001b[0;34m(\u001b[0m\u001b[0mstep\u001b[0m\u001b[0;34m)\u001b[0m\u001b[0;34m\u001b[0m\u001b[0;34m\u001b[0m\u001b[0m\n\u001b[0;32m-> 1178\u001b[0;31m               \u001b[0mtmp_logs\u001b[0m \u001b[0;34m=\u001b[0m \u001b[0mself\u001b[0m\u001b[0;34m.\u001b[0m\u001b[0mtrain_function\u001b[0m\u001b[0;34m(\u001b[0m\u001b[0miterator\u001b[0m\u001b[0;34m)\u001b[0m\u001b[0;34m\u001b[0m\u001b[0;34m\u001b[0m\u001b[0m\n\u001b[0m\u001b[1;32m   1179\u001b[0m               \u001b[0;32mif\u001b[0m \u001b[0mdata_handler\u001b[0m\u001b[0;34m.\u001b[0m\u001b[0mshould_sync\u001b[0m\u001b[0;34m:\u001b[0m\u001b[0;34m\u001b[0m\u001b[0;34m\u001b[0m\u001b[0m\n\u001b[1;32m   1180\u001b[0m                 \u001b[0mcontext\u001b[0m\u001b[0;34m.\u001b[0m\u001b[0masync_wait\u001b[0m\u001b[0;34m(\u001b[0m\u001b[0;34m)\u001b[0m\u001b[0;34m\u001b[0m\u001b[0;34m\u001b[0m\u001b[0m\n",
      "\u001b[0;32m~/anaconda3/lib/python3.9/site-packages/tensorflow/python/eager/def_function.py\u001b[0m in \u001b[0;36m__call__\u001b[0;34m(self, *args, **kwds)\u001b[0m\n\u001b[1;32m    887\u001b[0m \u001b[0;34m\u001b[0m\u001b[0m\n\u001b[1;32m    888\u001b[0m       \u001b[0;32mwith\u001b[0m \u001b[0mOptionalXlaContext\u001b[0m\u001b[0;34m(\u001b[0m\u001b[0mself\u001b[0m\u001b[0;34m.\u001b[0m\u001b[0m_jit_compile\u001b[0m\u001b[0;34m)\u001b[0m\u001b[0;34m:\u001b[0m\u001b[0;34m\u001b[0m\u001b[0;34m\u001b[0m\u001b[0m\n\u001b[0;32m--> 889\u001b[0;31m         \u001b[0mresult\u001b[0m \u001b[0;34m=\u001b[0m \u001b[0mself\u001b[0m\u001b[0;34m.\u001b[0m\u001b[0m_call\u001b[0m\u001b[0;34m(\u001b[0m\u001b[0;34m*\u001b[0m\u001b[0margs\u001b[0m\u001b[0;34m,\u001b[0m \u001b[0;34m**\u001b[0m\u001b[0mkwds\u001b[0m\u001b[0;34m)\u001b[0m\u001b[0;34m\u001b[0m\u001b[0;34m\u001b[0m\u001b[0m\n\u001b[0m\u001b[1;32m    890\u001b[0m \u001b[0;34m\u001b[0m\u001b[0m\n\u001b[1;32m    891\u001b[0m       \u001b[0mnew_tracing_count\u001b[0m \u001b[0;34m=\u001b[0m \u001b[0mself\u001b[0m\u001b[0;34m.\u001b[0m\u001b[0mexperimental_get_tracing_count\u001b[0m\u001b[0;34m(\u001b[0m\u001b[0;34m)\u001b[0m\u001b[0;34m\u001b[0m\u001b[0;34m\u001b[0m\u001b[0m\n",
      "\u001b[0;32m~/anaconda3/lib/python3.9/site-packages/tensorflow/python/eager/def_function.py\u001b[0m in \u001b[0;36m_call\u001b[0;34m(self, *args, **kwds)\u001b[0m\n\u001b[1;32m    931\u001b[0m       \u001b[0;31m# This is the first call of __call__, so we have to initialize.\u001b[0m\u001b[0;34m\u001b[0m\u001b[0;34m\u001b[0m\u001b[0m\n\u001b[1;32m    932\u001b[0m       \u001b[0minitializers\u001b[0m \u001b[0;34m=\u001b[0m \u001b[0;34m[\u001b[0m\u001b[0;34m]\u001b[0m\u001b[0;34m\u001b[0m\u001b[0;34m\u001b[0m\u001b[0m\n\u001b[0;32m--> 933\u001b[0;31m       \u001b[0mself\u001b[0m\u001b[0;34m.\u001b[0m\u001b[0m_initialize\u001b[0m\u001b[0;34m(\u001b[0m\u001b[0margs\u001b[0m\u001b[0;34m,\u001b[0m \u001b[0mkwds\u001b[0m\u001b[0;34m,\u001b[0m \u001b[0madd_initializers_to\u001b[0m\u001b[0;34m=\u001b[0m\u001b[0minitializers\u001b[0m\u001b[0;34m)\u001b[0m\u001b[0;34m\u001b[0m\u001b[0;34m\u001b[0m\u001b[0m\n\u001b[0m\u001b[1;32m    934\u001b[0m     \u001b[0;32mfinally\u001b[0m\u001b[0;34m:\u001b[0m\u001b[0;34m\u001b[0m\u001b[0;34m\u001b[0m\u001b[0m\n\u001b[1;32m    935\u001b[0m       \u001b[0;31m# At this point we know that the initialization is complete (or less\u001b[0m\u001b[0;34m\u001b[0m\u001b[0;34m\u001b[0m\u001b[0m\n",
      "\u001b[0;32m~/anaconda3/lib/python3.9/site-packages/tensorflow/python/eager/def_function.py\u001b[0m in \u001b[0;36m_initialize\u001b[0;34m(self, args, kwds, add_initializers_to)\u001b[0m\n\u001b[1;32m    761\u001b[0m     \u001b[0mself\u001b[0m\u001b[0;34m.\u001b[0m\u001b[0m_graph_deleter\u001b[0m \u001b[0;34m=\u001b[0m \u001b[0mFunctionDeleter\u001b[0m\u001b[0;34m(\u001b[0m\u001b[0mself\u001b[0m\u001b[0;34m.\u001b[0m\u001b[0m_lifted_initializer_graph\u001b[0m\u001b[0;34m)\u001b[0m\u001b[0;34m\u001b[0m\u001b[0;34m\u001b[0m\u001b[0m\n\u001b[1;32m    762\u001b[0m     self._concrete_stateful_fn = (\n\u001b[0;32m--> 763\u001b[0;31m         self._stateful_fn._get_concrete_function_internal_garbage_collected(  # pylint: disable=protected-access\n\u001b[0m\u001b[1;32m    764\u001b[0m             *args, **kwds))\n\u001b[1;32m    765\u001b[0m \u001b[0;34m\u001b[0m\u001b[0m\n",
      "\u001b[0;32m~/anaconda3/lib/python3.9/site-packages/tensorflow/python/eager/function.py\u001b[0m in \u001b[0;36m_get_concrete_function_internal_garbage_collected\u001b[0;34m(self, *args, **kwargs)\u001b[0m\n\u001b[1;32m   3048\u001b[0m       \u001b[0margs\u001b[0m\u001b[0;34m,\u001b[0m \u001b[0mkwargs\u001b[0m \u001b[0;34m=\u001b[0m \u001b[0;32mNone\u001b[0m\u001b[0;34m,\u001b[0m \u001b[0;32mNone\u001b[0m\u001b[0;34m\u001b[0m\u001b[0;34m\u001b[0m\u001b[0m\n\u001b[1;32m   3049\u001b[0m     \u001b[0;32mwith\u001b[0m \u001b[0mself\u001b[0m\u001b[0;34m.\u001b[0m\u001b[0m_lock\u001b[0m\u001b[0;34m:\u001b[0m\u001b[0;34m\u001b[0m\u001b[0;34m\u001b[0m\u001b[0m\n\u001b[0;32m-> 3050\u001b[0;31m       \u001b[0mgraph_function\u001b[0m\u001b[0;34m,\u001b[0m \u001b[0m_\u001b[0m \u001b[0;34m=\u001b[0m \u001b[0mself\u001b[0m\u001b[0;34m.\u001b[0m\u001b[0m_maybe_define_function\u001b[0m\u001b[0;34m(\u001b[0m\u001b[0margs\u001b[0m\u001b[0;34m,\u001b[0m \u001b[0mkwargs\u001b[0m\u001b[0;34m)\u001b[0m\u001b[0;34m\u001b[0m\u001b[0;34m\u001b[0m\u001b[0m\n\u001b[0m\u001b[1;32m   3051\u001b[0m     \u001b[0;32mreturn\u001b[0m \u001b[0mgraph_function\u001b[0m\u001b[0;34m\u001b[0m\u001b[0;34m\u001b[0m\u001b[0m\n\u001b[1;32m   3052\u001b[0m \u001b[0;34m\u001b[0m\u001b[0m\n",
      "\u001b[0;32m~/anaconda3/lib/python3.9/site-packages/tensorflow/python/eager/function.py\u001b[0m in \u001b[0;36m_maybe_define_function\u001b[0;34m(self, args, kwargs)\u001b[0m\n\u001b[1;32m   3442\u001b[0m \u001b[0;34m\u001b[0m\u001b[0m\n\u001b[1;32m   3443\u001b[0m           \u001b[0mself\u001b[0m\u001b[0;34m.\u001b[0m\u001b[0m_function_cache\u001b[0m\u001b[0;34m.\u001b[0m\u001b[0mmissed\u001b[0m\u001b[0;34m.\u001b[0m\u001b[0madd\u001b[0m\u001b[0;34m(\u001b[0m\u001b[0mcall_context_key\u001b[0m\u001b[0;34m)\u001b[0m\u001b[0;34m\u001b[0m\u001b[0;34m\u001b[0m\u001b[0m\n\u001b[0;32m-> 3444\u001b[0;31m           \u001b[0mgraph_function\u001b[0m \u001b[0;34m=\u001b[0m \u001b[0mself\u001b[0m\u001b[0;34m.\u001b[0m\u001b[0m_create_graph_function\u001b[0m\u001b[0;34m(\u001b[0m\u001b[0margs\u001b[0m\u001b[0;34m,\u001b[0m \u001b[0mkwargs\u001b[0m\u001b[0;34m)\u001b[0m\u001b[0;34m\u001b[0m\u001b[0;34m\u001b[0m\u001b[0m\n\u001b[0m\u001b[1;32m   3445\u001b[0m           \u001b[0mself\u001b[0m\u001b[0;34m.\u001b[0m\u001b[0m_function_cache\u001b[0m\u001b[0;34m.\u001b[0m\u001b[0mprimary\u001b[0m\u001b[0;34m[\u001b[0m\u001b[0mcache_key\u001b[0m\u001b[0;34m]\u001b[0m \u001b[0;34m=\u001b[0m \u001b[0mgraph_function\u001b[0m\u001b[0;34m\u001b[0m\u001b[0;34m\u001b[0m\u001b[0m\n\u001b[1;32m   3446\u001b[0m \u001b[0;34m\u001b[0m\u001b[0m\n",
      "\u001b[0;32m~/anaconda3/lib/python3.9/site-packages/tensorflow/python/eager/function.py\u001b[0m in \u001b[0;36m_create_graph_function\u001b[0;34m(self, args, kwargs, override_flat_arg_shapes)\u001b[0m\n\u001b[1;32m   3277\u001b[0m     \u001b[0marg_names\u001b[0m \u001b[0;34m=\u001b[0m \u001b[0mbase_arg_names\u001b[0m \u001b[0;34m+\u001b[0m \u001b[0mmissing_arg_names\u001b[0m\u001b[0;34m\u001b[0m\u001b[0;34m\u001b[0m\u001b[0m\n\u001b[1;32m   3278\u001b[0m     graph_function = ConcreteFunction(\n\u001b[0;32m-> 3279\u001b[0;31m         func_graph_module.func_graph_from_py_func(\n\u001b[0m\u001b[1;32m   3280\u001b[0m             \u001b[0mself\u001b[0m\u001b[0;34m.\u001b[0m\u001b[0m_name\u001b[0m\u001b[0;34m,\u001b[0m\u001b[0;34m\u001b[0m\u001b[0;34m\u001b[0m\u001b[0m\n\u001b[1;32m   3281\u001b[0m             \u001b[0mself\u001b[0m\u001b[0;34m.\u001b[0m\u001b[0m_python_function\u001b[0m\u001b[0;34m,\u001b[0m\u001b[0;34m\u001b[0m\u001b[0;34m\u001b[0m\u001b[0m\n",
      "\u001b[0;32m~/anaconda3/lib/python3.9/site-packages/tensorflow/python/framework/func_graph.py\u001b[0m in \u001b[0;36mfunc_graph_from_py_func\u001b[0;34m(name, python_func, args, kwargs, signature, func_graph, autograph, autograph_options, add_control_dependencies, arg_names, op_return_value, collections, capture_by_value, override_flat_arg_shapes)\u001b[0m\n\u001b[1;32m    997\u001b[0m         \u001b[0m_\u001b[0m\u001b[0;34m,\u001b[0m \u001b[0moriginal_func\u001b[0m \u001b[0;34m=\u001b[0m \u001b[0mtf_decorator\u001b[0m\u001b[0;34m.\u001b[0m\u001b[0munwrap\u001b[0m\u001b[0;34m(\u001b[0m\u001b[0mpython_func\u001b[0m\u001b[0;34m)\u001b[0m\u001b[0;34m\u001b[0m\u001b[0;34m\u001b[0m\u001b[0m\n\u001b[1;32m    998\u001b[0m \u001b[0;34m\u001b[0m\u001b[0m\n\u001b[0;32m--> 999\u001b[0;31m       \u001b[0mfunc_outputs\u001b[0m \u001b[0;34m=\u001b[0m \u001b[0mpython_func\u001b[0m\u001b[0;34m(\u001b[0m\u001b[0;34m*\u001b[0m\u001b[0mfunc_args\u001b[0m\u001b[0;34m,\u001b[0m \u001b[0;34m**\u001b[0m\u001b[0mfunc_kwargs\u001b[0m\u001b[0;34m)\u001b[0m\u001b[0;34m\u001b[0m\u001b[0;34m\u001b[0m\u001b[0m\n\u001b[0m\u001b[1;32m   1000\u001b[0m \u001b[0;34m\u001b[0m\u001b[0m\n\u001b[1;32m   1001\u001b[0m       \u001b[0;31m# invariant: `func_outputs` contains only Tensors, CompositeTensors,\u001b[0m\u001b[0;34m\u001b[0m\u001b[0;34m\u001b[0m\u001b[0m\n",
      "\u001b[0;32m~/anaconda3/lib/python3.9/site-packages/tensorflow/python/eager/def_function.py\u001b[0m in \u001b[0;36mwrapped_fn\u001b[0;34m(*args, **kwds)\u001b[0m\n\u001b[1;32m    670\u001b[0m         \u001b[0;31m# the function a weak reference to itself to avoid a reference cycle.\u001b[0m\u001b[0;34m\u001b[0m\u001b[0;34m\u001b[0m\u001b[0m\n\u001b[1;32m    671\u001b[0m         \u001b[0;32mwith\u001b[0m \u001b[0mOptionalXlaContext\u001b[0m\u001b[0;34m(\u001b[0m\u001b[0mcompile_with_xla\u001b[0m\u001b[0;34m)\u001b[0m\u001b[0;34m:\u001b[0m\u001b[0;34m\u001b[0m\u001b[0;34m\u001b[0m\u001b[0m\n\u001b[0;32m--> 672\u001b[0;31m           \u001b[0mout\u001b[0m \u001b[0;34m=\u001b[0m \u001b[0mweak_wrapped_fn\u001b[0m\u001b[0;34m(\u001b[0m\u001b[0;34m)\u001b[0m\u001b[0;34m.\u001b[0m\u001b[0m__wrapped__\u001b[0m\u001b[0;34m(\u001b[0m\u001b[0;34m*\u001b[0m\u001b[0margs\u001b[0m\u001b[0;34m,\u001b[0m \u001b[0;34m**\u001b[0m\u001b[0mkwds\u001b[0m\u001b[0;34m)\u001b[0m\u001b[0;34m\u001b[0m\u001b[0;34m\u001b[0m\u001b[0m\n\u001b[0m\u001b[1;32m    673\u001b[0m         \u001b[0;32mreturn\u001b[0m \u001b[0mout\u001b[0m\u001b[0;34m\u001b[0m\u001b[0;34m\u001b[0m\u001b[0m\n\u001b[1;32m    674\u001b[0m \u001b[0;34m\u001b[0m\u001b[0m\n",
      "\u001b[0;32m~/anaconda3/lib/python3.9/site-packages/tensorflow/python/framework/func_graph.py\u001b[0m in \u001b[0;36mwrapper\u001b[0;34m(*args, **kwargs)\u001b[0m\n\u001b[1;32m    984\u001b[0m           \u001b[0;32mexcept\u001b[0m \u001b[0mException\u001b[0m \u001b[0;32mas\u001b[0m \u001b[0me\u001b[0m\u001b[0;34m:\u001b[0m  \u001b[0;31m# pylint:disable=broad-except\u001b[0m\u001b[0;34m\u001b[0m\u001b[0;34m\u001b[0m\u001b[0m\n\u001b[1;32m    985\u001b[0m             \u001b[0;32mif\u001b[0m \u001b[0mhasattr\u001b[0m\u001b[0;34m(\u001b[0m\u001b[0me\u001b[0m\u001b[0;34m,\u001b[0m \u001b[0;34m\"ag_error_metadata\"\u001b[0m\u001b[0;34m)\u001b[0m\u001b[0;34m:\u001b[0m\u001b[0;34m\u001b[0m\u001b[0;34m\u001b[0m\u001b[0m\n\u001b[0;32m--> 986\u001b[0;31m               \u001b[0;32mraise\u001b[0m \u001b[0me\u001b[0m\u001b[0;34m.\u001b[0m\u001b[0mag_error_metadata\u001b[0m\u001b[0;34m.\u001b[0m\u001b[0mto_exception\u001b[0m\u001b[0;34m(\u001b[0m\u001b[0me\u001b[0m\u001b[0;34m)\u001b[0m\u001b[0;34m\u001b[0m\u001b[0;34m\u001b[0m\u001b[0m\n\u001b[0m\u001b[1;32m    987\u001b[0m             \u001b[0;32melse\u001b[0m\u001b[0;34m:\u001b[0m\u001b[0;34m\u001b[0m\u001b[0;34m\u001b[0m\u001b[0m\n\u001b[1;32m    988\u001b[0m               \u001b[0;32mraise\u001b[0m\u001b[0;34m\u001b[0m\u001b[0;34m\u001b[0m\u001b[0m\n",
      "\u001b[0;31mValueError\u001b[0m: in user code:\n\n    /home/alexandre/anaconda3/lib/python3.9/site-packages/tensorflow/python/keras/engine/training.py:850 train_function  *\n        return step_function(self, iterator)\n    /home/alexandre/anaconda3/lib/python3.9/site-packages/tensorflow/python/keras/engine/training.py:840 step_function  **\n        outputs = model.distribute_strategy.run(run_step, args=(data,))\n    /home/alexandre/anaconda3/lib/python3.9/site-packages/tensorflow/python/distribute/distribute_lib.py:1285 run\n        return self._extended.call_for_each_replica(fn, args=args, kwargs=kwargs)\n    /home/alexandre/anaconda3/lib/python3.9/site-packages/tensorflow/python/distribute/distribute_lib.py:2833 call_for_each_replica\n        return self._call_for_each_replica(fn, args, kwargs)\n    /home/alexandre/anaconda3/lib/python3.9/site-packages/tensorflow/python/distribute/distribute_lib.py:3608 _call_for_each_replica\n        return fn(*args, **kwargs)\n    /home/alexandre/anaconda3/lib/python3.9/site-packages/tensorflow/python/keras/engine/training.py:833 run_step  **\n        outputs = model.train_step(data)\n    /home/alexandre/anaconda3/lib/python3.9/site-packages/tensorflow/python/keras/engine/training.py:790 train_step\n        y_pred = self(x, training=True)\n    /home/alexandre/anaconda3/lib/python3.9/site-packages/tensorflow/python/keras/engine/base_layer.py:1030 __call__\n        outputs = call_fn(inputs, *args, **kwargs)\n    /home/alexandre/anaconda3/lib/python3.9/site-packages/tensorflow/python/keras/engine/functional.py:420 call\n        return self._run_internal_graph(\n    /home/alexandre/anaconda3/lib/python3.9/site-packages/tensorflow/python/keras/engine/functional.py:556 _run_internal_graph\n        outputs = node.layer(*args, **kwargs)\n    /home/alexandre/anaconda3/lib/python3.9/site-packages/tensorflow/python/keras/engine/base_layer.py:1030 __call__\n        outputs = call_fn(inputs, *args, **kwargs)\n    /home/alexandre/anaconda3/lib/python3.9/site-packages/tensorflow/python/keras/engine/functional.py:420 call\n        return self._run_internal_graph(\n    /home/alexandre/anaconda3/lib/python3.9/site-packages/tensorflow/python/keras/engine/functional.py:556 _run_internal_graph\n        outputs = node.layer(*args, **kwargs)\n    /home/alexandre/anaconda3/lib/python3.9/site-packages/tensorflow/python/keras/engine/base_layer.py:1013 __call__\n        input_spec.assert_input_compatibility(self.input_spec, inputs, self.name)\n    /home/alexandre/anaconda3/lib/python3.9/site-packages/tensorflow/python/keras/engine/input_spec.py:251 assert_input_compatibility\n        raise ValueError(\n\n    ValueError: Input 0 of layer dense_84 is incompatible with the layer: expected axis -1 of input shape to have value 5 but received input with shape (None, 1)\n"
     ]
    }
   ],
   "source": [
    "## Train the network\n",
    "#for train_idx, test_idx in skf.split(data_images, fake):\n",
    "    \n",
    "    #print(train_idx)\n",
    "    \n",
    "#    train_data = data_images[train_idx]\n",
    "#    train_e = np.log(yE[train_idx])\n",
    "\n",
    "#    test_data = data_images[test_idx]\n",
    "#    test_e = np.log(yE[test_idx])\n",
    "\n",
    "checkpoint_filepath = '../models/xmax_best_weights_SST_STER_Fe.h5' \n",
    "model_checkpoint_callback = ModelCheckpoint(\n",
    "                    filepath=checkpoint_filepath,\n",
    "                    save_weights_only=True,\n",
    "                    monitor='val_loss',\n",
    "                    mode='min',\n",
    "                    save_best_only=True)\n",
    "\n",
    "# instantiate the model\n",
    "vae,encoder,decoder,generator,outputs,input_image,input_r,z_mean,z_log_var,z,r_mean,r_log_var,r,pz_mean,pz_log_var = VAE_Reg(orig_dim_img,dp,L2_reg,\n",
    "                                                latent_dim,reco_loss,isVar,5,n_ft,n_conv)\n",
    "\n",
    "# Computing the Loss Function\n",
    "vae_loss = VAELoss(input_image,input_r,outputs,z_mean,z_log_var,z,r_mean,r_log_var,r,\n",
    "                   pz_mean,pz_log_var,reco_loss)\n",
    "vae.add_loss(vae_loss)\n",
    "\n",
    "######################################\n",
    "#step = tf.Variable(0, trainable=False)\n",
    "#schedule = tf.optimizers.schedules.PiecewiseConstantDecay(\n",
    "#    [200, 400, 600, 800], [1.0, 0.5, 0.25, 0.125, 0.0625])\n",
    "# lr and wd can be a function or a tensor\n",
    "#lr = 1e-3 #* schedule(step)\n",
    "#wd = lambda: 1e-2 * schedule(step)\n",
    "loss_fn = mse\n",
    "opt = Adam(learning_rate=lr) #'adam'\n",
    "#opt = tfa.optimizers.AdamW(learning_rate=lr, weight_decay=wd)\n",
    "reduce_lr = ReduceLROnPlateau(monitor='lr', factor=0.5,\n",
    "                              patience=25, min_lr=1e-6)\n",
    "\n",
    "\n",
    "\n",
    "########## Early stopping\n",
    "stop = EarlyStopping(monitor='val_loss', mode='min', patience=20)\n",
    "\n",
    "######################################\n",
    "# Compilation\n",
    "vae.compile(loss=loss_fn,optimizer=opt, metrics=['mae', 'mse'])\n",
    "vae.summary()\n",
    "#vae.save_weights('../models/vae_dnn_weights.hdf5')\n",
    "\n",
    "history=vae.fit([train_data,train_xmax,input_cVar],\n",
    "                epochs=epochs,\n",
    "                batch_size=batch_size,\n",
    "                callbacks=[model_checkpoint_callback, reduce_lr, stop], #,TensorBoard(log_dir='/tmp/autoencoder')],\n",
    "                validation_split = 0.25,\n",
    "                #validation_data=([X_valid, Y_valid]),\n",
    "                verbose = 1)\n",
    "\n",
    "vae.save_weights('../models/xmax_vae_weights_SST_STER_Fe-aug.h5')\n",
    "encoder.save_weights('../models/xmax_encoder_weights_SST_STER_Fe-aug.h5')\n",
    "generator.save_weights('../models/xmax_generator_weights_SST_STER_Fe-aug.h5')\n",
    "decoder.save_weights('../models/xmax_decoder_weights_SST_STER_Fe-aug.h5')"
   ]
  },
  {
   "cell_type": "code",
   "execution_count": 80,
   "id": "delayed-baghdad",
   "metadata": {},
   "outputs": [],
   "source": [
    "vae.load_weights('../models/xmax_best_weights_SST_STER_Fe.h5')\n",
    "vae.compile(loss=loss_fn,optimizer=opt)"
   ]
  },
  {
   "cell_type": "code",
   "execution_count": 81,
   "id": "operational-engine",
   "metadata": {},
   "outputs": [
    {
     "data": {
      "image/png": "[encoded data removed]",
      "text/plain": [
       "<Figure size 432x360 with 1 Axes>"
      ]
     },
     "metadata": {
      "needs_background": "light"
     },
     "output_type": "display_data"
    }
   ],
   "source": [
    "plt.figure(figsize=(6,5))\n",
    "plt.plot(history.history['loss'], lw=2, color='blue')\n",
    "plt.plot(history.history['val_loss'], lw=2, color='orange')\n",
    "plt.title('Model Loss, SST, Stereo, Fe, Augmented',size=14)\n",
    "plt.ylabel('Loss',size=14)\n",
    "plt.xlabel('epoch',size=14)\n",
    "plt.grid(True)\n",
    "#plt.yscale('log')\n",
    "plt.legend(['train','test'], loc='best')\n",
    "#plt.savefig('../figures/xmax_loss_vae_sst_ster_Fe-aug.pdf')\n",
    "plt.show()"
   ]
  },
  {
   "cell_type": "code",
   "execution_count": 82,
   "id": "known-plate",
   "metadata": {},
   "outputs": [
    {
     "name": "stdout",
     "output_type": "stream",
     "text": [
      "MSE:  0.03060618077385066\n",
      "R2:  -0.031298838859638245\n"
     ]
    }
   ],
   "source": [
    "# testing\n",
    "\n",
    "pix = []\n",
    "ypred = np.zeros(len(test_xmax))\n",
    "for k in range(100):\n",
    "    [z_mean, z_log_var, z, r_mean, r_log_var, r_vae] = encoder.predict([test_data,test_xmax,test_e],batch_size=batch_size)\n",
    "    ypred = ypred+r_vae[:,0]\n",
    "    pix.append([r_vae[100][0]])\n",
    "    \n",
    "ypred = ypred/100\n",
    "\n",
    "#filename = 'prmean_squared_error(test_e,ypred)ediction_'+str(dp)+'_'+str(L2_reg)+'.npy'\n",
    "#np.save(filename,pred)\n",
    "MSE_test = mean_squared_error(test_xmax,ypred)\n",
    "R2_test = r2_score(test_xmax, ypred)\n",
    "## CC accuracy\n",
    "print(\"MSE: \",MSE_test)\n",
    "print(\"R2: \",R2_test)"
   ]
  },
  {
   "cell_type": "code",
   "execution_count": null,
   "id": "c6934780",
   "metadata": {},
   "outputs": [],
   "source": [
    "#pix"
   ]
  },
  {
   "cell_type": "code",
   "execution_count": null,
   "id": "e7639e76",
   "metadata": {},
   "outputs": [],
   "source": [
    "plt.hist(r_vae[:,0],bins=20,histtype='step')\n",
    "plt.show()"
   ]
  },
  {
   "cell_type": "code",
   "execution_count": null,
   "id": "2ebe1292",
   "metadata": {},
   "outputs": [],
   "source": [
    "len(r_vae)"
   ]
  },
  {
   "cell_type": "code",
   "execution_count": null,
   "id": "c33e1db6",
   "metadata": {},
   "outputs": [],
   "source": [
    "def chi2(a,b):\n",
    "    x2 = (a-b)**2\n",
    "    return np.sum(x2/a)"
   ]
  },
  {
   "cell_type": "code",
   "execution_count": 96,
   "id": "2545d3a1",
   "metadata": {},
   "outputs": [
    {
     "ename": "NameError",
     "evalue": "name 'chi2' is not defined",
     "output_type": "error",
     "traceback": [
      "\u001b[0;31m---------------------------------------------------------------------------\u001b[0m",
      "\u001b[0;31mNameError\u001b[0m                                 Traceback (most recent call last)",
      "\u001b[0;32m/tmp/ipykernel_24046/1766051690.py\u001b[0m in \u001b[0;36m<module>\u001b[0;34m\u001b[0m\n\u001b[1;32m      2\u001b[0m \u001b[0ma\u001b[0m\u001b[0;34m,\u001b[0m \u001b[0m_\u001b[0m \u001b[0;34m=\u001b[0m \u001b[0mnp\u001b[0m\u001b[0;34m.\u001b[0m\u001b[0mhistogram\u001b[0m\u001b[0;34m(\u001b[0m\u001b[0mnp\u001b[0m\u001b[0;34m.\u001b[0m\u001b[0mexp\u001b[0m\u001b[0;34m(\u001b[0m\u001b[0mtest_xmax\u001b[0m\u001b[0;34m)\u001b[0m\u001b[0;34m,\u001b[0m\u001b[0mbins\u001b[0m\u001b[0;34m=\u001b[0m\u001b[0mnbins\u001b[0m\u001b[0;34m)\u001b[0m\u001b[0;34m\u001b[0m\u001b[0;34m\u001b[0m\u001b[0m\n\u001b[1;32m      3\u001b[0m \u001b[0mb\u001b[0m\u001b[0;34m,\u001b[0m \u001b[0m_\u001b[0m \u001b[0;34m=\u001b[0m \u001b[0mnp\u001b[0m\u001b[0;34m.\u001b[0m\u001b[0mhistogram\u001b[0m\u001b[0;34m(\u001b[0m\u001b[0mnp\u001b[0m\u001b[0;34m.\u001b[0m\u001b[0mexp\u001b[0m\u001b[0;34m(\u001b[0m\u001b[0mypred\u001b[0m\u001b[0;34m)\u001b[0m\u001b[0;34m,\u001b[0m\u001b[0mbins\u001b[0m\u001b[0;34m=\u001b[0m\u001b[0mnbins\u001b[0m\u001b[0;34m)\u001b[0m\u001b[0;34m\u001b[0m\u001b[0;34m\u001b[0m\u001b[0m\n\u001b[0;32m----> 4\u001b[0;31m \u001b[0mxpdof\u001b[0m \u001b[0;34m=\u001b[0m \u001b[0mchi2\u001b[0m\u001b[0;34m(\u001b[0m\u001b[0ma\u001b[0m\u001b[0;34m,\u001b[0m\u001b[0mb\u001b[0m\u001b[0;34m)\u001b[0m\u001b[0;34m/\u001b[0m\u001b[0mlen\u001b[0m\u001b[0;34m(\u001b[0m\u001b[0ma\u001b[0m\u001b[0;34m)\u001b[0m\u001b[0;34m\u001b[0m\u001b[0;34m\u001b[0m\u001b[0m\n\u001b[0m",
      "\u001b[0;31mNameError\u001b[0m: name 'chi2' is not defined"
     ]
    }
   ],
   "source": [
    "nbins = np.arange(120,420,20)\n",
    "a, _ = np.histogram(np.exp(test_xmax),bins=nbins)\n",
    "b, _ = np.histogram(np.exp(ypred),bins=nbins)\n",
    "xpdof = chi2(a,b)/len(a)"
   ]
  },
  {
   "cell_type": "code",
   "execution_count": 83,
   "id": "dense-rainbow",
   "metadata": {},
   "outputs": [
    {
     "data": {
      "image/png": "[encoded data removed]",
      "text/plain": [
       "<Figure size 432x288 with 1 Axes>"
      ]
     },
     "metadata": {
      "needs_background": "light"
     },
     "output_type": "display_data"
    }
   ],
   "source": [
    "plt.scatter(r_vae[:,0], test_xmax, s=2)\n",
    "plt.scatter(ypred, test_xmax, s=2)\n",
    "plt.plot([5,6],[5,6],lw=2,color='red')\n",
    "#plt.xlim([0,11])\n",
    "#plt.ylim([0,11])\n",
    "plt.grid(True)\n",
    "plt.xlabel(r'$log(X_{max}^{pred})$',size=14)\n",
    "plt.ylabel(r'$log(X_{max}^{true})$',size=14)\n",
    "plt.text(5,5.85,\"MSE=%.3f , R2=%.3f\"%(MSE_test,R2_test))\n",
    "plt.title('SST, Stereo, Fe, Augmented',size=14)\n",
    "#plt.savefig('../figures/xmax_true_pred_vae_sst_ster_Fe-aug.pdf')\n",
    "plt.show()"
   ]
  },
  {
   "cell_type": "code",
   "execution_count": 97,
   "id": "5e59cddb",
   "metadata": {},
   "outputs": [
    {
     "data": {
      "image/png": "[encoded data removed]",
      "text/plain": [
       "<Figure size 432x288 with 1 Axes>"
      ]
     },
     "metadata": {
      "needs_background": "light"
     },
     "output_type": "display_data"
    }
   ],
   "source": [
    "plt.hist(np.exp(test_xmax),bins=nbins,lw=2,histtype='step',label='True')\n",
    "plt.hist(np.exp(r_vae[:,0]),bins=nbins,lw=2,histtype='step',label='Predicted')\n",
    "#plt.hist(np.exp(ypred),bins=nbins,lw=2,histtype='step',label='Predicted-mean')\n",
    "plt.xlabel(r'$X_{max}$',size=14)\n",
    "plt.legend(loc='best')\n",
    "plt.yscale('log')\n",
    "#plt.text(120,50,r\"$\\chi^2$/dof=%.3f\"%(xpdof),size=14)\n",
    "#plt.savefig('../figures/xmax_vae_sst_ster_Fe-aug.pdf')\n",
    "plt.show()"
   ]
  },
  {
   "cell_type": "code",
   "execution_count": null,
   "id": "e5a1347e",
   "metadata": {},
   "outputs": [],
   "source": []
  }
 ],
 "metadata": {
  "kernelspec": {
   "display_name": "Python 3 (ipykernel)",
   "language": "python",
   "name": "python3"
  },
  "language_info": {
   "codemirror_mode": {
    "name": "ipython",
    "version": 3
   },
   "file_extension": ".py",
   "mimetype": "text/x-python",
   "name": "python",
   "nbconvert_exporter": "python",
   "pygments_lexer": "ipython3",
   "version": "3.9.6"
  }
 },
 "nbformat": 4,
 "nbformat_minor": 5
}
