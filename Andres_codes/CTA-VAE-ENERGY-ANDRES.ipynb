{
 "cells": [
  {
   "cell_type": "code",
   "execution_count": 1,
   "id": "74ec2b78",
   "metadata": {},
   "outputs": [],
   "source": [
    "import h5py\n",
    "import numpy as np\n",
    "import matplotlib.pyplot as plt\n",
    "from matplotlib import rc\n",
    "import pandas as pd\n",
    "\n",
    "from __future__ import absolute_import\n",
    "from __future__ import division\n",
    "from __future__ import print_function\n",
    "\n",
    "from tensorflow.keras.layers import Lambda, Input, Dense, Reshape, RepeatVector, Dropout, Conv2D, Flatten\n",
    "from tensorflow.keras.models import Model\n",
    "from tensorflow.keras.datasets import mnist\n",
    "from tensorflow.keras.losses import mse, binary_crossentropy, mean_absolute_error\n",
    "from tensorflow.keras.utils import plot_model\n",
    "from tensorflow.keras import backend as K\n",
    "from tensorflow.keras.constraints import unit_norm, max_norm\n",
    "\n",
    "from scipy import stats\n",
    "import pandas as pd\n",
    "import numpy as np\n",
    "import matplotlib\n",
    "import matplotlib.pyplot as plt\n",
    "import argparse\n",
    "import os\n",
    "from sklearn.manifold import MDS\n",
    "from sklearn.model_selection import StratifiedKFold\n",
    "from sklearn.metrics import mean_squared_error, r2_score"
   ]
  },
  {
   "cell_type": "markdown",
   "id": "graduate-clock",
   "metadata": {},
   "source": [
    "# LOADING THE DATASET"
   ]
  },
  {
   "cell_type": "code",
   "execution_count": 2,
   "id": "worldwide-deficit",
   "metadata": {},
   "outputs": [
    {
     "data": {
      "text/plain": [
       "<KeysViewHDF5 ['MST', 'SST']>"
      ]
     },
     "execution_count": 2,
     "metadata": {},
     "output_type": "execute_result"
    }
   ],
   "source": [
    "hf=h5py.File(\"/scratch/p305197/my-test/notebooks/VAE/img_p+Fe_MST+SST_10000_NEW.hdf5\", 'r')\n",
    "hf.keys()"
   ]
  },
  {
   "cell_type": "markdown",
   "id": "muslim-location",
   "metadata": {},
   "source": [
    "# SST (48X48) and MST(112X112) IMAGES"
   ]
  },
  {
   "cell_type": "code",
   "execution_count": 3,
   "id": "occupied-jones",
   "metadata": {},
   "outputs": [
    {
     "data": {
      "text/plain": [
       "<KeysViewHDF5 ['ENERGY', 'EVENT_ID', 'LABEL', 'OBS_ID', 'XMAX', 'X_MONO', 'X_STEREO', 'Y']>"
      ]
     },
     "execution_count": 3,
     "metadata": {},
     "output_type": "execute_result"
    }
   ],
   "source": [
    "data_MST = hf['MST']\n",
    "data_SST = hf['SST']\n",
    "data_MST.keys()"
   ]
  },
  {
   "cell_type": "markdown",
   "id": "valuable-protection",
   "metadata": {},
   "source": [
    "# MONO (1 TELESCOPE) and STEREO(>1 TELESCOPES)"
   ]
  },
  {
   "cell_type": "code",
   "execution_count": 4,
   "id": "handed-circus",
   "metadata": {},
   "outputs": [],
   "source": [
    "imgs_MST_MONO = data_MST['X_MONO']\n",
    "imgs_MST_STER = data_MST['X_STEREO']\n",
    "imgs_SST_MONO = data_SST['X_MONO']\n",
    "imgs_SST_STER = data_SST['X_STEREO']\n",
    "\n",
    "\n",
    "# separated by species\n",
    "imgs_MST_MONO_Fe = imgs_MST_MONO[0]\n",
    "imgs_MST_MONO_p  = imgs_MST_MONO[1]\n",
    "imgs_MST_STER_Fe = imgs_MST_STER[0]\n",
    "imgs_MST_STER_p  = imgs_MST_STER[1]\n",
    "\n",
    "imgs_SST_MONO_Fe = imgs_SST_MONO[0]\n",
    "imgs_SST_MONO_p  = imgs_SST_MONO[1]\n",
    "imgs_SST_STER_Fe = imgs_SST_STER[0]\n",
    "imgs_SST_STER_p  = imgs_SST_STER[1]\n",
    "\n",
    "#p+Fe images\n",
    "imgs_MST_MONO_Fe_p = np.concatenate((imgs_MST_MONO_Fe, imgs_MST_MONO_p), axis=0)\n",
    "imgs_MST_STER_Fe_p = np.concatenate((imgs_MST_STER_Fe, imgs_MST_STER_p), axis=0)\n",
    "\n",
    "imgs_SST_MONO_Fe_p = np.concatenate((imgs_SST_MONO_Fe, imgs_SST_MONO_p), axis=0)\n",
    "imgs_SST_STER_Fe_p = np.concatenate((imgs_SST_STER_Fe, imgs_SST_STER_p), axis=0)"
   ]
  },
  {
   "cell_type": "markdown",
   "id": "manufactured-certification",
   "metadata": {},
   "source": [
    "# ENERGY, XMAX, Y"
   ]
  },
  {
   "cell_type": "code",
   "execution_count": 5,
   "id": "logical-bolivia",
   "metadata": {},
   "outputs": [],
   "source": [
    "# XMAX by species\n",
    "E_MST_Fe = data_MST['ENERGY'][0]\n",
    "E_MST_p  = data_MST['ENERGY'][1]\n",
    "XMAX_MST_Fe = data_MST['XMAX'][0]\n",
    "XMAX_MST_p  = data_MST['XMAX'][1]\n",
    "\n",
    "E_SST_Fe = data_SST['ENERGY'][0]\n",
    "E_SST_p  = data_SST['ENERGY'][1]\n",
    "XMAX_SST_Fe = data_SST['XMAX'][0]\n",
    "XMAX_SST_p  = data_SST['XMAX'][1]\n",
    "\n",
    "#p+Fe\n",
    "E_MST_Fe_p = np.concatenate((E_MST_Fe,E_MST_p), axis=0)\n",
    "E_SST_Fe_p = np.concatenate((E_SST_Fe,E_SST_p), axis=0)\n",
    "XMAX_MST_Fe_p = np.concatenate((E_MST_Fe,E_MST_p), axis=0)\n",
    "XMAX_SST_Fe_p = np.concatenate((E_SST_Fe,E_SST_p), axis=0)"
   ]
  },
  {
   "cell_type": "markdown",
   "id": "retired-ticket",
   "metadata": {},
   "source": [
    "# SETTING THE PARAMETERS"
   ]
  },
  {
   "cell_type": "code",
   "execution_count": 6,
   "id": "related-falls",
   "metadata": {},
   "outputs": [],
   "source": [
    "# Setting the Hyperparameters\n",
    "## CNN Parameters \n",
    "# Drop out\n",
    "dp = 0.25\n",
    "# Number of Filters\n",
    "n_ft = 24 #24\n",
    "# Number of Conv Layers\n",
    "n_conv = 3 #3\n",
    "# Dimension of the Latent Space\n",
    "latent_dim = 24\n",
    "# L2 regularization\n",
    "L2_reg= 0\n",
    "# Learning Rate\n",
    "lr = 0.001 #2e-3\n",
    "# Epochs\n",
    "epochs = 10 #200\n",
    "# batch size\n",
    "batch_size = 32 #64\n",
    "\n",
    "# VAE-Loss\n",
    "# reco_loss = 'binary'\n",
    "reco_loss = 'mse' ## ANdres choice\n",
    "\n",
    "# augmentation/transfromation of images\n",
    "isAug = False # True\n",
    "isFlip= False\n",
    "isEdge= False\n",
    "aug_size = 3000\n",
    "\n",
    "# auxiliary variable\n",
    "isVar = True #False\n",
    "#aux_file = '../data/image_features_SST_MONO_Fe_p.csv'\n",
    "aux_file = '/scratch/p305197/my-test/notebooks/VAE/data/image_features_SST_MONO_Fe_p.csv' ## For Andres's local folder\n",
    "#yX    = aux_features(aux_file)[:,:-2]\n",
    "yX    = XMAX_SST_Fe_p\n",
    "#n_aux = yX.shape[1]\n",
    "#n_aux = yX.shape[0]\n",
    "#print(c)"
   ]
  },
  {
   "cell_type": "markdown",
   "id": "everyday-automation",
   "metadata": {},
   "source": [
    "# TRAIN/TEST SPLIT"
   ]
  },
  {
   "cell_type": "code",
   "execution_count": 7,
   "id": "enhanced-female",
   "metadata": {},
   "outputs": [
    {
     "name": "stdout",
     "output_type": "stream",
     "text": [
      "1111adsadasdas\n",
      "asdadadasdasdasdas\n",
      "SST-MONO-p+Fe [48, 48] 1\n"
     ]
    }
   ],
   "source": [
    "# PARTICLE AND CASE\n",
    "part = 'p+Fe'\n",
    "caso = 'SST-MONO-'\n",
    "\n",
    "dim_r = 1\n",
    "\n",
    "if part=='p':\n",
    "    caso = caso+part\n",
    "    fold = 'Energy/Proton/'\n",
    "elif part=='Fe':\n",
    "    caso = caso+part\n",
    "    fold = 'Energy/Iron/'\n",
    "    \n",
    "elif part=='p+Fe':\n",
    "    caso = caso+part\n",
    "    fold = 'Energy/Iron+Proton/'\n",
    "    print('1111adsadasdas')\n",
    "\n",
    "if caso=='SST-MONO-Fe':\n",
    "    leg = r'Iron, $48\\times 48$, Mono'\n",
    "    data_images =imgs_SST_MONO_Fe\n",
    "    dim_img = [data_images.shape[1],data_images.shape[2]]\n",
    "    yE = np.log(E_SST_Fe)\n",
    "    yX = aux_features(aux_file)[:,:-2] #not including E,Xmax\n",
    "    \n",
    "elif caso=='SST-MONO-p+Fe':\n",
    "    leg = r'Iron+Proton, $48\\times 48$, Mono'\n",
    "    data_images =imgs_SST_MONO_Fe_p\n",
    "    dim_img = [data_images.shape[1],data_images.shape[2]]\n",
    "    yE = np.log(E_SST_Fe_p)\n",
    "    yE = E_SST_Fe_p\n",
    "    #yX = aux_features(aux_file)[:,:-2] #not including E,Xmax\n",
    "    yX = XMAX_SST_Fe_p\n",
    "    print('asdadadasdasdasdas')\n",
    "\n",
    "print(caso, dim_img, dim_r)\n",
    "fake = np.zeros((data_images.shape[0]))\n",
    "pred = np.zeros((yE.shape))"
   ]
  },
  {
   "cell_type": "code",
   "execution_count": 8,
   "id": "9a003746",
   "metadata": {},
   "outputs": [
    {
     "data": {
      "text/plain": [
       "(299.6600036621094, 1.0016049146652222)"
      ]
     },
     "execution_count": 8,
     "metadata": {},
     "output_type": "execute_result"
    }
   ],
   "source": [
    "max(yE), min(yE)"
   ]
  },
  {
   "cell_type": "code",
   "execution_count": 9,
   "id": "3dab529c",
   "metadata": {},
   "outputs": [
    {
     "data": {
      "text/plain": [
       "((20000, 48, 48, 1), (20000,))"
      ]
     },
     "execution_count": 9,
     "metadata": {},
     "output_type": "execute_result"
    }
   ],
   "source": [
    "np.shape(data_images), np.shape(yX)"
   ]
  },
  {
   "cell_type": "code",
   "execution_count": 10,
   "id": "e0ee5d7c",
   "metadata": {},
   "outputs": [
    {
     "data": {
      "text/plain": [
       "'SST-MONO-p+Fe'"
      ]
     },
     "execution_count": 10,
     "metadata": {},
     "output_type": "execute_result"
    }
   ],
   "source": [
    "from sklearn.model_selection import StratifiedKFold, train_test_split\n",
    "caso"
   ]
  },
  {
   "cell_type": "code",
   "execution_count": 11,
   "id": "e229f14e",
   "metadata": {},
   "outputs": [],
   "source": [
    "# Train/Test split\n",
    "rs = 42\n",
    "if isEdge:\n",
    "    #data_images = median_filter(data_images,2)\n",
    "    data_images = enhance_edges(data_images)\n",
    "    \n",
    "train_data, test_data, train_e, test_e = train_test_split(data_images,yE,test_size=0.33,\n",
    "                                                          shuffle=True,random_state=rs)\n",
    "\n",
    "_, _, train_xmax, test_xmax            = train_test_split(data_images,yX,test_size=0.33,\n",
    "                                                          shuffle=True,random_state=rs)\n"
   ]
  },
  {
   "cell_type": "code",
   "execution_count": 12,
   "id": "3c613f22",
   "metadata": {},
   "outputs": [
    {
     "data": {
      "text/plain": [
       "((13400, 48, 48, 1), (6600, 48, 48, 1), (13400,), (6600,), (13400,), (6600,))"
      ]
     },
     "execution_count": 12,
     "metadata": {},
     "output_type": "execute_result"
    }
   ],
   "source": [
    "np.shape(train_data), np.shape(test_data), np.shape(train_e), np.shape(test_e), np.shape(train_xmax), np.shape(test_xmax)"
   ]
  },
  {
   "cell_type": "code",
   "execution_count": 13,
   "id": "ddba47b3",
   "metadata": {},
   "outputs": [],
   "source": [
    "train_e = train_e.reshape(len(train_e),1)\n",
    "test_e  = test_e.reshape(len(test_e),1)\n",
    "train_xmax  = train_xmax.reshape(len(train_xmax),1)\n",
    "test_xmax  = test_xmax.reshape(len(test_xmax),1)"
   ]
  },
  {
   "cell_type": "code",
   "execution_count": 14,
   "id": "a4e8bbae",
   "metadata": {},
   "outputs": [
    {
     "data": {
      "text/plain": [
       "(13400, 1)"
      ]
     },
     "execution_count": 14,
     "metadata": {},
     "output_type": "execute_result"
    }
   ],
   "source": [
    "np.shape(train_e)"
   ]
  },
  {
   "cell_type": "code",
   "execution_count": null,
   "id": "05c6b39e",
   "metadata": {},
   "outputs": [],
   "source": []
  },
  {
   "cell_type": "markdown",
   "id": "affected-investor",
   "metadata": {},
   "source": [
    "# VARIATIONAL AUTO-ENCODER MODEL"
   ]
  },
  {
   "cell_type": "code",
   "execution_count": 15,
   "id": "b78308f7",
   "metadata": {},
   "outputs": [],
   "source": [
    "# reparameterization trick\n",
    "# instead of sampling from Q(z|X), sample eps = N(0,I)\n",
    "# z = z_mean + sqrt(var)*eps\n",
    "def sampling(args):\n",
    "    \"\"\"Reparameterization trick by sampling fr an isotropic unit Gaussian.\n",
    "    # Arguments:\n",
    "        args (tensor): mean and log of variance of Q(z|X)\n",
    "    # Returns:\n",
    "        z (tensor): sampled latent vector\n",
    "    \"\"\"\n",
    "\n",
    "    z_mean, z_log_var = args\n",
    "    batch = K.shape(z_mean)[0]\n",
    "    dim = K.int_shape(z_mean)[1]\n",
    "    # by default, random_normal has mean=0 and std=1.0\n",
    "    epsilon = K.random_normal(shape=(batch, dim))\n",
    "    thre = K.random_uniform(shape=(batch,1))\n",
    "    return z_mean + K.exp(0.5 * z_log_var) * epsilon"
   ]
  },
  {
   "cell_type": "code",
   "execution_count": 278,
   "id": "82d18910",
   "metadata": {},
   "outputs": [],
   "source": [
    "# Load Toy Example Data\n",
    "training_feature = np.loadtxt('X.txt')\n",
    "training_feature.shape\n",
    "\n",
    "Y = np.loadtxt('Y.txt')\n",
    "ground_truth_r = Y\n",
    "\n",
    "np.random.seed(seed=0)\n",
    "\n",
    "original_dim = training_feature.shape[1]\n",
    "num_train = training_feature.shape[0]"
   ]
  },
  {
   "cell_type": "code",
   "execution_count": 281,
   "id": "c4074378",
   "metadata": {},
   "outputs": [
    {
     "data": {
      "text/plain": [
       "((245, 301), (245,))"
      ]
     },
     "execution_count": 281,
     "metadata": {},
     "output_type": "execute_result"
    }
   ],
   "source": [
    "np.shape(training_feature), np.shape(ground_truth_r)"
   ]
  },
  {
   "cell_type": "code",
   "execution_count": null,
   "id": "775b82d0",
   "metadata": {},
   "outputs": [],
   "source": []
  },
  {
   "cell_type": "code",
   "execution_count": 196,
   "id": "09f2eec5",
   "metadata": {},
   "outputs": [],
   "source": [
    "# Load Toy Example Data\n",
    "training_feature_pre = np.log10(train_e)\n",
    "training_feature_pre.shape\n",
    "\n",
    "Y = np.log10(train_e)\n",
    "ground_truth_r = Y\n",
    "\n",
    "np.random.seed(seed=0)\n",
    "\n",
    "original_dim = training_feature_pre.shape[1]\n",
    "num_train = training_feature_pre.shape[0]"
   ]
  },
  {
   "cell_type": "code",
   "execution_count": 197,
   "id": "260235c8",
   "metadata": {},
   "outputs": [
    {
     "data": {
      "text/plain": [
       "array([[1.72903612],\n",
       "       [0.29979426],\n",
       "       [1.34260876],\n",
       "       ...,\n",
       "       [0.91411159],\n",
       "       [2.00351504],\n",
       "       [0.21171079]])"
      ]
     },
     "execution_count": 197,
     "metadata": {},
     "output_type": "execute_result"
    }
   ],
   "source": [
    "training_feature_pre"
   ]
  },
  {
   "cell_type": "code",
   "execution_count": 173,
   "id": "66350e32",
   "metadata": {},
   "outputs": [],
   "source": [
    "def normalize(input_list):\n",
    "    #std_dev = np.std(input_list)\n",
    "    #mean = np.mean(input_list)\n",
    "    #normalised_input = (input_list - mean) / std_dev \n",
    "    #return normalised_input\n",
    "\n",
    "    x_min = np.min(input_list)\n",
    "    x_max = np.max(input_list)\n",
    "    delta = x_max-x_min\n",
    "    return (input_list-x_min)/delta"
   ]
  },
  {
   "cell_type": "code",
   "execution_count": 198,
   "id": "a4216366",
   "metadata": {},
   "outputs": [],
   "source": [
    "training_feature = training_feature_pre #normalize(training_feature_pre)\n",
    "Y = training_feature_pre #normalize(np.log10(train_e))\n",
    "ground_truth_r = Y"
   ]
  },
  {
   "cell_type": "code",
   "execution_count": 199,
   "id": "973b7ee4",
   "metadata": {},
   "outputs": [
    {
     "data": {
      "text/plain": [
       "array([[1.72903612],\n",
       "       [0.29979426],\n",
       "       [1.34260876],\n",
       "       ...,\n",
       "       [0.91411159],\n",
       "       [2.00351504],\n",
       "       [0.21171079]])"
      ]
     },
     "execution_count": 199,
     "metadata": {},
     "output_type": "execute_result"
    }
   ],
   "source": [
    "training_feature"
   ]
  },
  {
   "cell_type": "code",
   "execution_count": 200,
   "id": "56600e00",
   "metadata": {},
   "outputs": [
    {
     "data": {
      "text/plain": [
       "array([[1.72903612],\n",
       "       [0.29979426],\n",
       "       [1.34260876],\n",
       "       ...,\n",
       "       [0.91411159],\n",
       "       [2.00351504],\n",
       "       [0.21171079]])"
      ]
     },
     "execution_count": 200,
     "metadata": {},
     "output_type": "execute_result"
    }
   ],
   "source": [
    "ground_truth_r"
   ]
  },
  {
   "cell_type": "code",
   "execution_count": 201,
   "id": "c34f0d9f",
   "metadata": {},
   "outputs": [
    {
     "data": {
      "text/plain": [
       "(1, 13400)"
      ]
     },
     "execution_count": 201,
     "metadata": {},
     "output_type": "execute_result"
    }
   ],
   "source": [
    "original_dim, num_train"
   ]
  },
  {
   "cell_type": "code",
   "execution_count": 202,
   "id": "4695d607",
   "metadata": {},
   "outputs": [
    {
     "data": {
      "text/plain": [
       "(1, 13400)"
      ]
     },
     "execution_count": 202,
     "metadata": {},
     "output_type": "execute_result"
    }
   ],
   "source": [
    "from tensorflow.keras.layers import Conv2D, MaxPool2D\n",
    "original_dim, num_train"
   ]
  },
  {
   "cell_type": "code",
   "execution_count": 203,
   "id": "9235bb08",
   "metadata": {},
   "outputs": [
    {
     "ename": "AttributeError",
     "evalue": "module 'tensorflow' has no attribute 'GPUOptions'",
     "output_type": "error",
     "traceback": [
      "\u001b[0;31m---------------------------------------------------------------------------\u001b[0m",
      "\u001b[0;31mAttributeError\u001b[0m                            Traceback (most recent call last)",
      "Cell \u001b[0;32mIn[203], line 1\u001b[0m\n\u001b[0;32m----> 1\u001b[0m gpu_options \u001b[38;5;241m=\u001b[39m \u001b[43mtf\u001b[49m\u001b[38;5;241;43m.\u001b[39;49m\u001b[43mGPUOptions\u001b[49m(allow_growth\u001b[38;5;241m=\u001b[39m\u001b[38;5;28;01mTrue\u001b[39;00m)\n\u001b[1;32m      2\u001b[0m session \u001b[38;5;241m=\u001b[39m tf\u001b[38;5;241m.\u001b[39mInteractiveSession(config\u001b[38;5;241m=\u001b[39mtf\u001b[38;5;241m.\u001b[39mConfigProto(gpu_options\u001b[38;5;241m=\u001b[39mgpu_options))\n",
      "\u001b[0;31mAttributeError\u001b[0m: module 'tensorflow' has no attribute 'GPUOptions'"
     ]
    }
   ],
   "source": [
    "gpu_options = tf.GPUOptions(allow_growth=True)\n",
    "session = tf.InteractiveSession(config=tf.ConfigProto(gpu_options=gpu_options))"
   ]
  },
  {
   "cell_type": "code",
   "execution_count": 282,
   "id": "d0214492",
   "metadata": {},
   "outputs": [
    {
     "name": "stdout",
     "output_type": "stream",
     "text": [
      "Model: \"encoder\"\n",
      "__________________________________________________________________________________________________\n",
      " Layer (type)                   Output Shape         Param #     Connected to                     \n",
      "==================================================================================================\n",
      " encoder_input (InputLayer)     [(None, 301)]        0           []                               \n",
      "                                                                                                  \n",
      " dropout_19 (Dropout)           (None, 301)          0           ['encoder_input[0][0]']          \n",
      "                                                                                                  \n",
      " encoder_intermediate (Dense)   (None, 128)          38656       ['dropout_19[0][0]']             \n",
      "                                                                                                  \n",
      " encoder_intermediate_2 (Dense)  (None, 32)          4128        ['encoder_intermediate[0][0]']   \n",
      "                                                                                                  \n",
      " r_mean (Dense)                 (None, 1)            33          ['encoder_intermediate_2[0][0]'] \n",
      "                                                                                                  \n",
      " r_log_var (Dense)              (None, 1)            33          ['encoder_intermediate_2[0][0]'] \n",
      "                                                                                                  \n",
      " z_mean (Dense)                 (None, 16)           528         ['encoder_intermediate_2[0][0]'] \n",
      "                                                                                                  \n",
      " z_log_var (Dense)              (None, 16)           528         ['encoder_intermediate_2[0][0]'] \n",
      "                                                                                                  \n",
      " r (Lambda)                     (None, 1)            0           ['r_mean[0][0]',                 \n",
      "                                                                  'r_log_var[0][0]']              \n",
      "                                                                                                  \n",
      " ground_truth (InputLayer)      [(None, 1)]          0           []                               \n",
      "                                                                                                  \n",
      " z (Lambda)                     (None, 16)           0           ['z_mean[0][0]',                 \n",
      "                                                                  'z_log_var[0][0]']              \n",
      "                                                                                                  \n",
      " pz_mean (Dense)                (None, 16)           32          ['r[0][0]']                      \n",
      "                                                                                                  \n",
      "==================================================================================================\n",
      "Total params: 43,938\n",
      "Trainable params: 43,938\n",
      "Non-trainable params: 0\n",
      "__________________________________________________________________________________________________\n",
      "Model: \"decoder\"\n",
      "_________________________________________________________________\n",
      " Layer (type)                Output Shape              Param #   \n",
      "=================================================================\n",
      " z_sampling (InputLayer)     [(None, 16)]              0         \n",
      "                                                                 \n",
      " dense_48 (Dense)            (None, 32)                544       \n",
      "                                                                 \n",
      " dense_49 (Dense)            (None, 128)               4224      \n",
      "                                                                 \n",
      " dense_50 (Dense)            (None, 301)               38829     \n",
      "                                                                 \n",
      "=================================================================\n",
      "Total params: 43,597\n",
      "Trainable params: 43,597\n",
      "Non-trainable params: 0\n",
      "_________________________________________________________________\n",
      "Model: \"vae_mlp\"\n",
      "__________________________________________________________________________________________________\n",
      " Layer (type)                   Output Shape         Param #     Connected to                     \n",
      "==================================================================================================\n",
      " encoder_input (InputLayer)     [(None, 301)]        0           []                               \n",
      "                                                                                                  \n",
      " ground_truth (InputLayer)      [(None, 1)]          0           []                               \n",
      "                                                                                                  \n",
      " encoder (Functional)           [(None, 16),         43938       ['encoder_input[0][0]',          \n",
      "                                 (None, 16),                      'ground_truth[0][0]']           \n",
      "                                 (None, 16),                                                      \n",
      "                                 (None, 1),                                                       \n",
      "                                 (None, 1),                                                       \n",
      "                                 (None, 1),                                                       \n",
      "                                 (None, 16)]                                                      \n",
      "                                                                                                  \n",
      " decoder (Functional)           (None, 301)          43597       ['encoder[0][2]']                \n",
      "                                                                                                  \n",
      "==================================================================================================\n",
      "Total params: 87,535\n",
      "Trainable params: 87,535\n",
      "Non-trainable params: 0\n",
      "__________________________________________________________________________________________________\n"
     ]
    }
   ],
   "source": [
    "## Build VAE-Regression Model\n",
    "input_shape_x = (original_dim, )\n",
    "input_shape_r = (1, )\n",
    "\n",
    "intermediate_dim = 32\n",
    "batch_size = 64\n",
    "latent_dim = 16\n",
    "epochs = 4\n",
    "\n",
    "# VAE model = encoder + decoder\n",
    "# build encoder model\n",
    "inputs_r = Input(shape=input_shape_r, name='ground_truth')\n",
    "inputs_x = Input(shape=input_shape_x, name='encoder_input')\n",
    "inputs_x_dropout = Dropout(0.25)(inputs_x)\n",
    "\n",
    "#inputs_r = Input(shape=(original_dim, original_dim, 1), name='ground_truth')\n",
    "#inputs_x = Input(shape=(original_dim, original_dim, 1), name='encoder_input')\n",
    "#inputs_x = Conv2D(input_shape=(original_dim, original_dim, 1),filters=64,kernel_size=(3,3),padding=\"same\", activation=\"relu\")(inputs_x)\n",
    "#inputs_x = Conv2D(64, kernel_size=(3, 3),padding='same')(inputs_x)\n",
    "#inputs_x_dropout = Dropout(0.25)(inputs_x)\n",
    "#inputs_x_dropout = Flatten()(inputs_x_dropout)\n",
    "\n",
    "inter_x1 = Dense(128, activation='tanh', name='encoder_intermediate')(inputs_x_dropout)\n",
    "inter_x2 = Dense(intermediate_dim, activation='tanh', name='encoder_intermediate_2')(inter_x1)\n",
    "\n",
    "# posterior on Y; probablistic regressor\n",
    "r_mean = Dense(1, name='r_mean')(inter_x2)\n",
    "r_log_var = Dense(1, name='r_log_var')(inter_x2)\n",
    "\n",
    "# q(z|x)\n",
    "z_mean = Dense(latent_dim, name='z_mean')(inter_x2)\n",
    "z_log_var = Dense(latent_dim, name='z_log_var')(inter_x2)\n",
    "\n",
    "# use reparameterization trick to push the sampling out as input\n",
    "z = Lambda(sampling, output_shape=(latent_dim,), name='z')([z_mean, z_log_var])\n",
    "r = Lambda(sampling, output_shape=(1,), name='r')([r_mean, r_log_var])\n",
    "\n",
    "# latent generator (simplified)\n",
    "pz_mean = Dense(latent_dim, name='pz_mean',kernel_constraint=unit_norm())(r)\n",
    "# pz_log_var = Dense(1, name='pz_log_var')(r)\n",
    "\n",
    "# instantiate encoder model\n",
    "encoder = Model([inputs_x,inputs_r], [z_mean, z_log_var, z, r_mean, r_log_var, r, pz_mean], name='encoder')\n",
    "encoder.summary()\n",
    "\n",
    "# build decoder model\n",
    "latent_inputs = Input(shape=(latent_dim,), name='z_sampling')\n",
    "inter_y1 = Dense(intermediate_dim, activation='tanh')(latent_inputs)\n",
    "inter_y2 = Dense(128, activation='tanh')(inter_y1)\n",
    "outputs = Dense(original_dim)(inter_y2)\n",
    "\n",
    "# instantiate decoder model\n",
    "decoder = Model(latent_inputs, outputs, name='decoder')\n",
    "decoder.summary()\n",
    "#plot_model(decoder, to_file='vae_mlp_decoder.png', show_shapes=True)\n",
    "\n",
    "# instantiate VAE model\n",
    "outputs = decoder(encoder([inputs_x,inputs_r])[2])\n",
    "vae = Model([inputs_x,inputs_r], outputs, name='vae_mlp')\n",
    "vae.summary()"
   ]
  },
  {
   "cell_type": "code",
   "execution_count": 299,
   "id": "bf04435b",
   "metadata": {},
   "outputs": [
    {
     "name": "stdout",
     "output_type": "stream",
     "text": [
      "Model: \"encoder\"\n",
      "__________________________________________________________________________________________________\n",
      " Layer (type)                   Output Shape         Param #     Connected to                     \n",
      "==================================================================================================\n",
      " encoder_input (InputLayer)     [(None, 301)]        0           []                               \n",
      "                                                                                                  \n",
      " dropout_20 (Dropout)           (None, 301)          0           ['encoder_input[0][0]']          \n",
      "                                                                                                  \n",
      " encoder_intermediate (Dense)   (None, 128)          38656       ['dropout_20[0][0]']             \n",
      "                                                                                                  \n",
      " encoder_intermediate_2 (Dense)  (None, 32)          4128        ['encoder_intermediate[0][0]']   \n",
      "                                                                                                  \n",
      " r_mean (Dense)                 (None, 1)            33          ['encoder_intermediate_2[0][0]'] \n",
      "                                                                                                  \n",
      " r_log_var (Dense)              (None, 1)            33          ['encoder_intermediate_2[0][0]'] \n",
      "                                                                                                  \n",
      " z_mean (Dense)                 (None, 8)            264         ['encoder_intermediate_2[0][0]'] \n",
      "                                                                                                  \n",
      " z_log_var (Dense)              (None, 8)            264         ['encoder_intermediate_2[0][0]'] \n",
      "                                                                                                  \n",
      " r (Lambda)                     (None, 1)            0           ['r_mean[0][0]',                 \n",
      "                                                                  'r_log_var[0][0]']              \n",
      "                                                                                                  \n",
      " ground_truth (InputLayer)      [(None, 1)]          0           []                               \n",
      "                                                                                                  \n",
      " z (Lambda)                     (None, 8)            0           ['z_mean[0][0]',                 \n",
      "                                                                  'z_log_var[0][0]']              \n",
      "                                                                                                  \n",
      " pz_mean (Dense)                (None, 8)            16          ['r[0][0]']                      \n",
      "                                                                                                  \n",
      "==================================================================================================\n",
      "Total params: 43,394\n",
      "Trainable params: 43,394\n",
      "Non-trainable params: 0\n",
      "__________________________________________________________________________________________________\n",
      "Model: \"decoder\"\n",
      "_________________________________________________________________\n",
      " Layer (type)                Output Shape              Param #   \n",
      "=================================================================\n",
      " z_sampling (InputLayer)     [(None, 8)]               0         \n",
      "                                                                 \n",
      " dense_51 (Dense)            (None, 32)                288       \n",
      "                                                                 \n",
      " dense_52 (Dense)            (None, 128)               4224      \n",
      "                                                                 \n",
      " dense_53 (Dense)            (None, 301)               38829     \n",
      "                                                                 \n",
      "=================================================================\n",
      "Total params: 43,341\n",
      "Trainable params: 43,341\n",
      "Non-trainable params: 0\n",
      "_________________________________________________________________\n",
      "Model: \"vae_mlp\"\n",
      "__________________________________________________________________________________________________\n",
      " Layer (type)                   Output Shape         Param #     Connected to                     \n",
      "==================================================================================================\n",
      " encoder_input (InputLayer)     [(None, 301)]        0           []                               \n",
      "                                                                                                  \n",
      " ground_truth (InputLayer)      [(None, 1)]          0           []                               \n",
      "                                                                                                  \n",
      " encoder (Functional)           [(None, 8),          43394       ['encoder_input[0][0]',          \n",
      "                                 (None, 8),                       'ground_truth[0][0]']           \n",
      "                                 (None, 8),                                                       \n",
      "                                 (None, 1),                                                       \n",
      "                                 (None, 1),                                                       \n",
      "                                 (None, 1),                                                       \n",
      "                                 (None, 8)]                                                       \n",
      "                                                                                                  \n",
      " decoder (Functional)           (None, 301)          43341       ['encoder[0][2]']                \n",
      "                                                                                                  \n",
      "==================================================================================================\n",
      "Total params: 86,735\n",
      "Trainable params: 86,735\n",
      "Non-trainable params: 0\n",
      "__________________________________________________________________________________________________\n"
     ]
    }
   ],
   "source": [
    "## Build VAE-Regression Model\n",
    "input_shape_x = (original_dim, )\n",
    "input_shape_r = (1, )\n",
    "\n",
    "intermediate_dim = 32\n",
    "batch_size = 64\n",
    "latent_dim = 8\n",
    "epochs = 100\n",
    "\n",
    "# VAE model = encoder + decoder\n",
    "# build encoder model\n",
    "inputs_r = Input(shape=input_shape_r, name='ground_truth')\n",
    "inputs_x = Input(shape=input_shape_x, name='encoder_input')\n",
    "inputs_x_dropout = Dropout(0.25)(inputs_x)\n",
    "\n",
    "inter_x1 = Dense(128, activation='tanh', name='encoder_intermediate')(inputs_x_dropout)\n",
    "inter_x2 = Dense(intermediate_dim, activation='tanh', name='encoder_intermediate_2')(inter_x1)\n",
    "\n",
    "# posterior on Y; probablistic regressor\n",
    "r_mean = Dense(1, name='r_mean')(inter_x2)\n",
    "r_log_var = Dense(1, name='r_log_var')(inter_x2)\n",
    "\n",
    "# q(z|x)\n",
    "z_mean = Dense(latent_dim, name='z_mean')(inter_x2)\n",
    "z_log_var = Dense(latent_dim, name='z_log_var')(inter_x2)\n",
    "\n",
    "# use reparameterization trick to push the sampling out as input\n",
    "z = Lambda(sampling, output_shape=(latent_dim,), name='z')([z_mean, z_log_var])\n",
    "r = Lambda(sampling, output_shape=(1,), name='r')([r_mean, r_log_var])\n",
    "\n",
    "# latent generator (simplified)\n",
    "pz_mean = Dense(latent_dim, name='pz_mean',kernel_constraint=unit_norm())(r)\n",
    "# pz_log_var = Dense(1, name='pz_log_var')(r)\n",
    "\n",
    "# instantiate encoder model\n",
    "encoder = Model([inputs_x,inputs_r], [z_mean, z_log_var, z, r_mean, r_log_var, r, pz_mean], name='encoder')\n",
    "encoder.summary()\n",
    "\n",
    "# build decoder model\n",
    "latent_inputs = Input(shape=(latent_dim,), name='z_sampling')\n",
    "inter_y1 = Dense(intermediate_dim, activation='tanh')(latent_inputs)\n",
    "inter_y2 = Dense(128, activation='tanh')(inter_y1)\n",
    "outputs = Dense(original_dim)(inter_y2)\n",
    "\n",
    "# instantiate decoder model\n",
    "decoder = Model(latent_inputs, outputs, name='decoder')\n",
    "decoder.summary()\n",
    "#plot_model(decoder, to_file='vae_mlp_decoder.png', show_shapes=True)\n",
    "\n",
    "# instantiate VAE model\n",
    "outputs = decoder(encoder([inputs_x,inputs_r])[2])\n",
    "vae = Model([inputs_x,inputs_r], outputs, name='vae_mlp')\n",
    "vae.summary()"
   ]
  },
  {
   "cell_type": "code",
   "execution_count": 300,
   "id": "cba1e17c",
   "metadata": {},
   "outputs": [],
   "source": [
    "import tensorflow as tf\n",
    "from tensorflow.keras import backend as K"
   ]
  },
  {
   "cell_type": "code",
   "execution_count": 301,
   "id": "18422825",
   "metadata": {},
   "outputs": [
    {
     "name": "stdout",
     "output_type": "stream",
     "text": [
      "Model: \"vae_mlp\"\n",
      "__________________________________________________________________________________________________\n",
      " Layer (type)                   Output Shape         Param #     Connected to                     \n",
      "==================================================================================================\n",
      " encoder_input (InputLayer)     [(None, 301)]        0           []                               \n",
      "                                                                                                  \n",
      " ground_truth (InputLayer)      [(None, 1)]          0           []                               \n",
      "                                                                                                  \n",
      " encoder (Functional)           [(None, 8),          43394       ['encoder_input[0][0]',          \n",
      "                                 (None, 8),                       'ground_truth[0][0]']           \n",
      "                                 (None, 8),                                                       \n",
      "                                 (None, 1),                                                       \n",
      "                                 (None, 1),                                                       \n",
      "                                 (None, 1),                                                       \n",
      "                                 (None, 8)]                                                       \n",
      "                                                                                                  \n",
      " decoder (Functional)           (None, 301)          43341       ['encoder[0][2]']                \n",
      "                                                                                                  \n",
      " dropout_20 (Dropout)           (None, 301)          0           ['encoder_input[0][0]']          \n",
      "                                                                                                  \n",
      " encoder_intermediate (Dense)   (None, 128)          38656       ['dropout_20[0][0]']             \n",
      "                                                                                                  \n",
      " encoder_intermediate_2 (Dense)  (None, 32)          4128        ['encoder_intermediate[0][0]']   \n",
      "                                                                                                  \n",
      " r_mean (Dense)                 (None, 1)            33          ['encoder_intermediate_2[0][0]'] \n",
      "                                                                                                  \n",
      " r_log_var (Dense)              (None, 1)            33          ['encoder_intermediate_2[0][0]'] \n",
      "                                                                                                  \n",
      " r (Lambda)                     (None, 1)            0           ['r_mean[0][0]',                 \n",
      "                                                                  'r_log_var[0][0]']              \n",
      "                                                                                                  \n",
      " z_mean (Dense)                 (None, 8)            264         ['encoder_intermediate_2[0][0]'] \n",
      "                                                                                                  \n",
      " pz_mean (Dense)                (None, 8)            16          ['r[0][0]']                      \n",
      "                                                                                                  \n",
      " z_log_var (Dense)              (None, 8)            264         ['encoder_intermediate_2[0][0]'] \n",
      "                                                                                                  \n",
      " tf.math.subtract_82 (TFOpLambd  (None, 8)           0           ['z_mean[0][0]',                 \n",
      " a)                                                               'pz_mean[0][0]']                \n",
      "                                                                                                  \n",
      " tf.__operators__.add_90 (TFOpL  (None, 8)           0           ['z_log_var[0][0]']              \n",
      " ambda)                                                                                           \n",
      "                                                                                                  \n",
      " tf.math.square_42 (TFOpLambda)  (None, 8)           0           ['tf.math.subtract_82[0][0]']    \n",
      "                                                                                                  \n",
      " tf.convert_to_tensor_30 (TFOpL  (None, 301)         0           ['decoder[0][0]']                \n",
      " ambda)                                                                                           \n",
      "                                                                                                  \n",
      " tf.cast_24 (TFOpLambda)        (None, 301)          0           ['encoder_input[0][0]']          \n",
      "                                                                                                  \n",
      " tf.math.subtract_83 (TFOpLambd  (None, 8)           0           ['tf.__operators__.add_90[0][0]',\n",
      " a)                                                               'tf.math.square_42[0][0]']      \n",
      "                                                                                                  \n",
      " tf.math.exp_36 (TFOpLambda)    (None, 8)            0           ['z_log_var[0][0]']              \n",
      "                                                                                                  \n",
      " tf.math.subtract_85 (TFOpLambd  (None, 1)           0           ['r_mean[0][0]',                 \n",
      " a)                                                               'ground_truth[0][0]']           \n",
      "                                                                                                  \n",
      " tf.math.subtract_81 (TFOpLambd  (None, 301)         0           ['tf.convert_to_tensor_30[0][0]',\n",
      " a)                                                               'tf.cast_24[0][0]']             \n",
      "                                                                                                  \n",
      " tf.math.subtract_84 (TFOpLambd  (None, 8)           0           ['tf.math.subtract_83[0][0]',    \n",
      " a)                                                               'tf.math.exp_36[0][0]']         \n",
      "                                                                                                  \n",
      " tf.math.square_43 (TFOpLambda)  (None, 1)           0           ['tf.math.subtract_85[0][0]']    \n",
      "                                                                                                  \n",
      " tf.math.abs_3 (TFOpLambda)     (None, 301)          0           ['tf.math.subtract_81[0][0]']    \n",
      "                                                                                                  \n",
      " tf.math.reduce_sum_18 (TFOpLam  (None,)             0           ['tf.math.subtract_84[0][0]']    \n",
      " bda)                                                                                             \n",
      "                                                                                                  \n",
      " tf.math.multiply_61 (TFOpLambd  (None, 1)           0           ['tf.math.square_43[0][0]']      \n",
      " a)                                                                                               \n",
      "                                                                                                  \n",
      " tf.math.exp_37 (TFOpLambda)    (None, 1)            0           ['r_log_var[0][0]']              \n",
      "                                                                                                  \n",
      " tf.math.reduce_mean_48 (TFOpLa  (None,)             0           ['tf.math.abs_3[0][0]']          \n",
      " mbda)                                                                                            \n",
      "                                                                                                  \n",
      " tf.math.multiply_60 (TFOpLambd  (None,)             0           ['tf.math.reduce_sum_18[0][0]']  \n",
      " a)                                                                                               \n",
      "                                                                                                  \n",
      " tf.math.truediv_24 (TFOpLambda  (None, 1)           0           ['tf.math.multiply_61[0][0]',    \n",
      " )                                                                'tf.math.exp_37[0][0]']         \n",
      "                                                                                                  \n",
      " tf.math.multiply_62 (TFOpLambd  (None, 1)           0           ['r_log_var[0][0]']              \n",
      " a)                                                                                               \n",
      "                                                                                                  \n",
      " tf.__operators__.add_92 (TFOpL  (None,)             0           ['tf.math.reduce_mean_48[0][0]', \n",
      " ambda)                                                           'tf.math.multiply_60[0][0]']    \n",
      "                                                                                                  \n",
      " tf.__operators__.add_91 (TFOpL  (None, 1)           0           ['tf.math.truediv_24[0][0]',     \n",
      " ambda)                                                           'tf.math.multiply_62[0][0]']    \n",
      "                                                                                                  \n",
      " tf.__operators__.add_93 (TFOpL  (None, None)        0           ['tf.__operators__.add_92[0][0]',\n",
      " ambda)                                                           'tf.__operators__.add_91[0][0]']\n",
      "                                                                                                  \n",
      " tf.math.reduce_mean_49 (TFOpLa  ()                  0           ['tf.__operators__.add_93[0][0]']\n",
      " mbda)                                                                                            \n",
      "                                                                                                  \n",
      " add_loss_22 (AddLoss)          ()                   0           ['tf.math.reduce_mean_49[0][0]'] \n",
      "                                                                                                  \n",
      "==================================================================================================\n",
      "Total params: 86,735\n",
      "Trainable params: 86,735\n",
      "Non-trainable params: 0\n",
      "__________________________________________________________________________________________________\n"
     ]
    }
   ],
   "source": [
    "##Customize Lost Function of the VAE Model\n",
    "models = (encoder, decoder)\n",
    "\n",
    "#reconstruction_loss = K.tf.divide(0.5*K.sum(K.square(inputs_x-outputs), axis=-1), K.exp(outputs_var)) + 0.5*original_dim*outputs_var\n",
    "#reconstruction_loss = mse(inputs_x,outputs)\n",
    "reconstruction_loss = mean_absolute_error(inputs_x,outputs)\n",
    "\n",
    "\n",
    "#kl_loss = 1 + z_log_var - pz_log_var - K.tf.divide(K.square(z_mean-pz_mean),K.exp(pz_log_var)) - K.tf.divide(K.exp(z_log_var),K.exp(pz_log_var))\n",
    "kl_loss = 1 + z_log_var - K.square(z_mean-pz_mean) - K.exp(z_log_var)\n",
    "kl_loss = -0.5*K.sum(kl_loss, axis=-1)\n",
    "label_loss = tf.divide(0.5*K.square(r_mean - inputs_r), K.exp(r_log_var)) +  0.5 * r_log_var\n",
    "\n",
    "vae_loss = K.mean(reconstruction_loss+kl_loss+label_loss)\n",
    "\n",
    "vae.add_loss(vae_loss)\n",
    "vae.compile(optimizer='adam')\n",
    "vae.summary()\n",
    "vae.save_weights('random_weights.h5')"
   ]
  },
  {
   "cell_type": "code",
   "execution_count": 302,
   "id": "22670156",
   "metadata": {},
   "outputs": [
    {
     "data": {
      "text/plain": [
       "((245,), 245)"
      ]
     },
     "execution_count": 302,
     "metadata": {},
     "output_type": "execute_result"
    }
   ],
   "source": [
    "ground_truth_r.shape,ground_truth_r.shape[0]"
   ]
  },
  {
   "cell_type": "code",
   "execution_count": 303,
   "id": "0636a465",
   "metadata": {},
   "outputs": [],
   "source": [
    "# ref: https://stackoverflow.com/questions/41117740/tensorflow-crashes-with-cublas-status-alloc-failed\n",
    "import tensorflow as tf\n",
    "config = tf.compat.v1.ConfigProto(gpu_options = \n",
    "                         tf.compat.v1.GPUOptions(per_process_gpu_memory_fraction=0.8)\n",
    "# device_count = {'GPU': 1}\n",
    ")\n",
    "config.gpu_options.allow_growth = True\n",
    "session = tf.compat.v1.Session(config=config)\n",
    "tf.compat.v1.keras.backend.set_session(session)"
   ]
  },
  {
   "cell_type": "code",
   "execution_count": 304,
   "id": "6a861bc8",
   "metadata": {},
   "outputs": [],
   "source": [
    "intermediate_dim = 32\n",
    "batch_size = 64\n",
    "latent_dim = 8\n",
    "epochs = 100"
   ]
  },
  {
   "cell_type": "code",
   "execution_count": 305,
   "id": "883305d9",
   "metadata": {
    "scrolled": true
   },
   "outputs": [
    {
     "name": "stdout",
     "output_type": "stream",
     "text": [
      "[ 25  26  27  28  29  30  31  32  33  34  35  36  37  38  39  40  41  42\n",
      "  43  44  45  46  47  48  49  50  51  52  53  54  55  56  57  58  59  60\n",
      "  61  62  63  64  65  66  67  68  69  70  71  72  73  74  75  76  77  78\n",
      "  79  80  81  82  83  84  85  86  87  88  89  90  91  92  93  94  95  96\n",
      "  97  98  99 100 101 102 103 104 105 106 107 108 109 110 111 112 113 114\n",
      " 115 116 117 118 119 120 121 122 123 124 125 126 127 128 129 130 131 132\n",
      " 133 134 135 136 137 138 139 140 141 142 143 144 145 146 147 148 149 150\n",
      " 151 152 153 154 155 156 157 158 159 160 161 162 163 164 165 166 167 168\n",
      " 169 170 171 172 173 174 175 176 177 178 179 180 181 182 183 184 185 186\n",
      " 187 188 189 190 191 192 193 194 195 196 197 198 199 200 201 202 203 204\n",
      " 205 206 207 208 209 210 211 212 213 214 215 216 217 218 219 220 221 222\n",
      " 223 224 225 226 227 228 229 230 231 232 233 234 235 236 237 238 239 240\n",
      " 241 242 243 244] [ 0  1  2  3  4  5  6  7  8  9 10 11 12 13 14 15 16 17 18 19 20 21 22 23\n",
      " 24] 220 25 0.10204081632653061\n",
      "(25, 301) (25,)\n",
      "Epoch 1/100\n",
      "4/4 [==============================] - 1s 5ms/step - loss: 11.2378\n",
      "Epoch 2/100\n",
      "4/4 [==============================] - 0s 5ms/step - loss: 10.8389\n",
      "Epoch 3/100\n",
      "4/4 [==============================] - 0s 5ms/step - loss: 9.5988\n",
      "Epoch 4/100\n",
      "4/4 [==============================] - 0s 5ms/step - loss: 8.6233\n",
      "Epoch 5/100\n",
      "4/4 [==============================] - 0s 5ms/step - loss: 9.0419\n",
      "Epoch 6/100\n",
      "4/4 [==============================] - 0s 5ms/step - loss: 6.4019\n",
      "Epoch 7/100\n",
      "4/4 [==============================] - 0s 5ms/step - loss: 7.3836\n",
      "Epoch 8/100\n",
      "4/4 [==============================] - 0s 5ms/step - loss: 6.2923\n",
      "Epoch 9/100\n",
      "4/4 [==============================] - 0s 5ms/step - loss: 6.3153\n",
      "Epoch 10/100\n",
      "4/4 [==============================] - 0s 5ms/step - loss: 5.8763\n",
      "Epoch 11/100\n",
      "4/4 [==============================] - 0s 5ms/step - loss: 5.1319\n",
      "Epoch 12/100\n",
      "4/4 [==============================] - 0s 5ms/step - loss: 5.5916\n",
      "Epoch 13/100\n",
      "4/4 [==============================] - 0s 5ms/step - loss: 5.9446\n",
      "Epoch 14/100\n",
      "4/4 [==============================] - 0s 5ms/step - loss: 4.6535\n",
      "Epoch 15/100\n",
      "4/4 [==============================] - 0s 5ms/step - loss: 5.2851\n",
      "Epoch 16/100\n",
      "4/4 [==============================] - 0s 5ms/step - loss: 4.6192\n",
      "Epoch 17/100\n",
      "4/4 [==============================] - 0s 5ms/step - loss: 4.0229\n",
      "Epoch 18/100\n",
      "4/4 [==============================] - 0s 5ms/step - loss: 4.2078\n",
      "Epoch 19/100\n",
      "4/4 [==============================] - 0s 5ms/step - loss: 4.4318\n",
      "Epoch 20/100\n",
      "4/4 [==============================] - 0s 5ms/step - loss: 4.1006\n",
      "Epoch 21/100\n",
      "4/4 [==============================] - 0s 5ms/step - loss: 3.7862\n",
      "Epoch 22/100\n",
      "4/4 [==============================] - 0s 5ms/step - loss: 3.8124\n",
      "Epoch 23/100\n",
      "4/4 [==============================] - 0s 5ms/step - loss: 3.8600\n",
      "Epoch 24/100\n",
      "4/4 [==============================] - 0s 5ms/step - loss: 3.2408\n",
      "Epoch 25/100\n",
      "4/4 [==============================] - 0s 5ms/step - loss: 3.7129\n",
      "Epoch 26/100\n",
      "4/4 [==============================] - 0s 5ms/step - loss: 3.1178\n",
      "Epoch 27/100\n",
      "4/4 [==============================] - 0s 5ms/step - loss: 3.5356\n",
      "Epoch 28/100\n",
      "4/4 [==============================] - 0s 5ms/step - loss: 3.7011\n",
      "Epoch 29/100\n",
      "4/4 [==============================] - 0s 5ms/step - loss: 3.0667\n",
      "Epoch 30/100\n",
      "4/4 [==============================] - 0s 5ms/step - loss: 3.1347\n",
      "Epoch 31/100\n",
      "4/4 [==============================] - 0s 5ms/step - loss: 3.5190\n",
      "Epoch 32/100\n",
      "4/4 [==============================] - 0s 5ms/step - loss: 3.1303\n",
      "Epoch 33/100\n",
      "4/4 [==============================] - 0s 5ms/step - loss: 2.7766\n",
      "Epoch 34/100\n",
      "4/4 [==============================] - 0s 5ms/step - loss: 3.1773\n",
      "Epoch 35/100\n",
      "4/4 [==============================] - 0s 5ms/step - loss: 2.9219\n",
      "Epoch 36/100\n",
      "4/4 [==============================] - 0s 5ms/step - loss: 2.9527\n",
      "Epoch 37/100\n",
      "4/4 [==============================] - 0s 5ms/step - loss: 2.8025\n",
      "Epoch 38/100\n",
      "4/4 [==============================] - 0s 5ms/step - loss: 2.6927\n",
      "Epoch 39/100\n",
      "4/4 [==============================] - 0s 5ms/step - loss: 2.1881\n",
      "Epoch 40/100\n",
      "4/4 [==============================] - 0s 5ms/step - loss: 2.3069\n",
      "Epoch 41/100\n",
      "4/4 [==============================] - 0s 5ms/step - loss: 2.1937\n",
      "Epoch 42/100\n",
      "4/4 [==============================] - 0s 5ms/step - loss: 2.2062\n",
      "Epoch 43/100\n",
      "4/4 [==============================] - 0s 5ms/step - loss: 2.1506\n",
      "Epoch 44/100\n",
      "4/4 [==============================] - 0s 5ms/step - loss: 2.1969\n",
      "Epoch 45/100\n",
      "4/4 [==============================] - 0s 5ms/step - loss: 2.1386\n",
      "Epoch 46/100\n",
      "4/4 [==============================] - 0s 5ms/step - loss: 2.1955\n",
      "Epoch 47/100\n",
      "4/4 [==============================] - 0s 5ms/step - loss: 2.2041\n",
      "Epoch 48/100\n",
      "4/4 [==============================] - 0s 5ms/step - loss: 2.1439\n",
      "Epoch 49/100\n",
      "4/4 [==============================] - 0s 5ms/step - loss: 1.6992\n",
      "Epoch 50/100\n",
      "4/4 [==============================] - 0s 5ms/step - loss: 2.2302\n",
      "Epoch 51/100\n",
      "4/4 [==============================] - 0s 5ms/step - loss: 1.7307\n",
      "Epoch 52/100\n",
      "4/4 [==============================] - 0s 5ms/step - loss: 1.7363\n",
      "Epoch 53/100\n",
      "4/4 [==============================] - 0s 5ms/step - loss: 1.6179\n",
      "Epoch 54/100\n",
      "4/4 [==============================] - 0s 5ms/step - loss: 1.5515\n",
      "Epoch 55/100\n",
      "4/4 [==============================] - 0s 5ms/step - loss: 1.6166\n",
      "Epoch 56/100\n",
      "4/4 [==============================] - 0s 5ms/step - loss: 1.5514\n",
      "Epoch 57/100\n",
      "4/4 [==============================] - 0s 5ms/step - loss: 1.6232\n",
      "Epoch 58/100\n",
      "4/4 [==============================] - 0s 5ms/step - loss: 1.6126\n",
      "Epoch 59/100\n",
      "4/4 [==============================] - 0s 5ms/step - loss: 1.3680\n",
      "Epoch 60/100\n",
      "4/4 [==============================] - 0s 5ms/step - loss: 1.4134\n",
      "Epoch 61/100\n",
      "4/4 [==============================] - 0s 5ms/step - loss: 1.2117\n",
      "Epoch 62/100\n",
      "4/4 [==============================] - 0s 6ms/step - loss: 1.1659\n",
      "Epoch 63/100\n",
      "4/4 [==============================] - 0s 5ms/step - loss: 1.2907\n",
      "Epoch 64/100\n",
      "4/4 [==============================] - 0s 5ms/step - loss: 1.4607\n",
      "Epoch 65/100\n",
      "4/4 [==============================] - 0s 5ms/step - loss: 1.2056\n",
      "Epoch 66/100\n",
      "4/4 [==============================] - 0s 5ms/step - loss: 1.2896\n",
      "Epoch 67/100\n",
      "4/4 [==============================] - 0s 5ms/step - loss: 1.1363\n",
      "Epoch 68/100\n",
      "4/4 [==============================] - 0s 5ms/step - loss: 1.1891\n",
      "Epoch 69/100\n",
      "4/4 [==============================] - 0s 5ms/step - loss: 1.0782\n",
      "Epoch 70/100\n",
      "4/4 [==============================] - 0s 5ms/step - loss: 1.0994\n",
      "Epoch 71/100\n",
      "4/4 [==============================] - 0s 5ms/step - loss: 1.1234\n",
      "Epoch 72/100\n",
      "4/4 [==============================] - 0s 5ms/step - loss: 1.0152\n",
      "Epoch 73/100\n",
      "4/4 [==============================] - 0s 5ms/step - loss: 0.9121\n",
      "Epoch 74/100\n",
      "4/4 [==============================] - 0s 5ms/step - loss: 1.0075\n",
      "Epoch 75/100\n",
      "4/4 [==============================] - 0s 5ms/step - loss: 1.0122\n",
      "Epoch 76/100\n",
      "4/4 [==============================] - 0s 5ms/step - loss: 1.0688\n",
      "Epoch 77/100\n",
      "4/4 [==============================] - 0s 5ms/step - loss: 1.0664\n",
      "Epoch 78/100\n",
      "4/4 [==============================] - 0s 5ms/step - loss: 1.0524\n",
      "Epoch 79/100\n",
      "4/4 [==============================] - 0s 5ms/step - loss: 1.0416\n",
      "Epoch 80/100\n",
      "4/4 [==============================] - 0s 5ms/step - loss: 0.9299\n",
      "Epoch 81/100\n",
      "4/4 [==============================] - 0s 5ms/step - loss: 0.9374\n",
      "Epoch 82/100\n",
      "4/4 [==============================] - 0s 5ms/step - loss: 0.7996\n",
      "Epoch 83/100\n",
      "4/4 [==============================] - 0s 5ms/step - loss: 0.8549\n",
      "Epoch 84/100\n",
      "4/4 [==============================] - 0s 4ms/step - loss: 0.7361\n",
      "Epoch 85/100\n",
      "4/4 [==============================] - 0s 4ms/step - loss: 0.8744\n",
      "Epoch 86/100\n",
      "4/4 [==============================] - 0s 5ms/step - loss: 0.7978\n",
      "Epoch 87/100\n",
      "4/4 [==============================] - 0s 5ms/step - loss: 0.9078\n",
      "Epoch 88/100\n",
      "4/4 [==============================] - 0s 5ms/step - loss: 0.7743\n",
      "Epoch 89/100\n",
      "4/4 [==============================] - 0s 5ms/step - loss: 0.6741\n",
      "Epoch 90/100\n",
      "4/4 [==============================] - 0s 5ms/step - loss: 0.6679\n",
      "Epoch 91/100\n",
      "4/4 [==============================] - 0s 5ms/step - loss: 0.6776\n"
     ]
    },
    {
     "name": "stdout",
     "output_type": "stream",
     "text": [
      "Epoch 92/100\n",
      "4/4 [==============================] - 0s 5ms/step - loss: 0.5487\n",
      "Epoch 93/100\n",
      "4/4 [==============================] - 0s 5ms/step - loss: 0.7251\n",
      "Epoch 94/100\n",
      "4/4 [==============================] - 0s 5ms/step - loss: 0.6765\n",
      "Epoch 95/100\n",
      "4/4 [==============================] - 0s 5ms/step - loss: 0.5463\n",
      "Epoch 96/100\n",
      "4/4 [==============================] - 0s 5ms/step - loss: 0.7163\n",
      "Epoch 97/100\n",
      "4/4 [==============================] - 0s 5ms/step - loss: 0.4345\n",
      "Epoch 98/100\n",
      "4/4 [==============================] - 0s 5ms/step - loss: 0.7046\n",
      "Epoch 99/100\n",
      "4/4 [==============================] - 0s 5ms/step - loss: 0.5544\n",
      "Epoch 100/100\n",
      "4/4 [==============================] - 0s 5ms/step - loss: 0.5933\n"
     ]
    }
   ],
   "source": [
    "## Train the network\n",
    "np.random.seed(0)\n",
    "skf = StratifiedKFold(n_splits=10)\n",
    "pred = np.zeros((ground_truth_r.shape))\n",
    "fake = np.zeros((ground_truth_r.shape[0]))\n",
    "fake[:300] = 1\n",
    "\n",
    "# Run 5-fold CV\n",
    "for train_idx, test_idx in skf.split(training_feature,fake):\n",
    "    print(train_idx, test_idx, len(train_idx), len(test_idx), len(test_idx)/ground_truth_r.shape[0])\n",
    "    training_feature_sk = training_feature[train_idx,:]\n",
    "    training_score = ground_truth_r[train_idx]\n",
    "    \n",
    "    testing_feature_sk = training_feature[test_idx,:]\n",
    "    testing_score = ground_truth_r[test_idx]    \n",
    "    print(np.shape(testing_feature_sk), np.shape(testing_score))\n",
    "    vae.load_weights('random_weights.h5')\n",
    "    vae.fit([training_feature_sk,training_score],epochs=epochs,batch_size=batch_size,verbose = 1)\n",
    "    \n",
    "    \n",
    "    [z_mean, z_log_var, z, r_mean, r_log_var, r_vae, pz_mean] = encoder.predict([testing_feature_sk,testing_score],batch_size=batch_size)\n",
    "    pred[test_idx] = r_mean[:,0]\n",
    "    #pred[test_idx] = r_mean[:]\n",
    "    break"
   ]
  },
  {
   "cell_type": "code",
   "execution_count": 296,
   "id": "d49daf13",
   "metadata": {},
   "outputs": [
    {
     "data": {
      "text/plain": [
       "((25, 1),\n",
       " (25,),\n",
       " (245,),\n",
       " array([ 0,  1,  2,  3,  4,  5,  6,  7,  8,  9, 10, 11, 12, 13, 14, 15, 16,\n",
       "        17, 18, 19, 20, 21, 22, 23, 24]))"
      ]
     },
     "execution_count": 296,
     "metadata": {},
     "output_type": "execute_result"
    }
   ],
   "source": [
    "np.shape(r_mean),np.shape(r_mean[:,0]), np.shape(pred), test_idx"
   ]
  },
  {
   "cell_type": "code",
   "execution_count": 306,
   "id": "4d74918c",
   "metadata": {},
   "outputs": [
    {
     "data": {
      "text/plain": [
       "(array([-0.74320394,  0.12809403,  0.10396877,  1.40283883, -0.94259197,\n",
       "         0.90116143,  1.13273227, -0.39386222, -0.11633682,  0.79163867,\n",
       "         0.83176035,  0.10884847, -0.5979082 ,  0.9278056 , -1.18247807,\n",
       "         0.0268993 , -1.27427018, -0.79883569, -1.28786337,  1.22814882,\n",
       "        -0.76249009,  0.89444298, -1.24995983,  1.28818166,  0.80020034,\n",
       "         0.        ,  0.        ,  0.        ,  0.        ,  0.        ,\n",
       "         0.        ,  0.        ,  0.        ,  0.        ,  0.        ,\n",
       "         0.        ,  0.        ,  0.        ,  0.        ,  0.        ,\n",
       "         0.        ,  0.        ,  0.        ,  0.        ,  0.        ,\n",
       "         0.        ,  0.        ,  0.        ,  0.        ,  0.        ,\n",
       "         0.        ,  0.        ,  0.        ,  0.        ,  0.        ,\n",
       "         0.        ,  0.        ,  0.        ,  0.        ,  0.        ,\n",
       "         0.        ,  0.        ,  0.        ,  0.        ,  0.        ,\n",
       "         0.        ,  0.        ,  0.        ,  0.        ,  0.        ,\n",
       "         0.        ,  0.        ,  0.        ,  0.        ,  0.        ,\n",
       "         0.        ,  0.        ,  0.        ,  0.        ,  0.        ,\n",
       "         0.        ,  0.        ,  0.        ,  0.        ,  0.        ,\n",
       "         0.        ,  0.        ,  0.        ,  0.        ,  0.        ,\n",
       "         0.        ,  0.        ,  0.        ,  0.        ,  0.        ,\n",
       "         0.        ,  0.        ,  0.        ,  0.        ,  0.        ,\n",
       "         0.        ,  0.        ,  0.        ,  0.        ,  0.        ,\n",
       "         0.        ,  0.        ,  0.        ,  0.        ,  0.        ,\n",
       "         0.        ,  0.        ,  0.        ,  0.        ,  0.        ,\n",
       "         0.        ,  0.        ,  0.        ,  0.        ,  0.        ,\n",
       "         0.        ,  0.        ,  0.        ,  0.        ,  0.        ,\n",
       "         0.        ,  0.        ,  0.        ,  0.        ,  0.        ,\n",
       "         0.        ,  0.        ,  0.        ,  0.        ,  0.        ,\n",
       "         0.        ,  0.        ,  0.        ,  0.        ,  0.        ,\n",
       "         0.        ,  0.        ,  0.        ,  0.        ,  0.        ,\n",
       "         0.        ,  0.        ,  0.        ,  0.        ,  0.        ,\n",
       "         0.        ,  0.        ,  0.        ,  0.        ,  0.        ,\n",
       "         0.        ,  0.        ,  0.        ,  0.        ,  0.        ,\n",
       "         0.        ,  0.        ,  0.        ,  0.        ,  0.        ,\n",
       "         0.        ,  0.        ,  0.        ,  0.        ,  0.        ,\n",
       "         0.        ,  0.        ,  0.        ,  0.        ,  0.        ,\n",
       "         0.        ,  0.        ,  0.        ,  0.        ,  0.        ,\n",
       "         0.        ,  0.        ,  0.        ,  0.        ,  0.        ,\n",
       "         0.        ,  0.        ,  0.        ,  0.        ,  0.        ,\n",
       "         0.        ,  0.        ,  0.        ,  0.        ,  0.        ,\n",
       "         0.        ,  0.        ,  0.        ,  0.        ,  0.        ,\n",
       "         0.        ,  0.        ,  0.        ,  0.        ,  0.        ,\n",
       "         0.        ,  0.        ,  0.        ,  0.        ,  0.        ,\n",
       "         0.        ,  0.        ,  0.        ,  0.        ,  0.        ,\n",
       "         0.        ,  0.        ,  0.        ,  0.        ,  0.        ,\n",
       "         0.        ,  0.        ,  0.        ,  0.        ,  0.        ,\n",
       "         0.        ,  0.        ,  0.        ,  0.        ,  0.        ,\n",
       "         0.        ,  0.        ,  0.        ,  0.        ,  0.        ,\n",
       "         0.        ,  0.        ,  0.        ,  0.        ,  0.        ,\n",
       "         0.        ,  0.        ,  0.        ,  0.        ,  0.        ]),\n",
       " array([-1.2310541 , -0.32908378,  0.05660913,  1.505346  , -1.2487875 ,\n",
       "         1.7498528 ,  1.8771712 ,  0.17751186,  0.0176783 ,  0.76906601,\n",
       "         2.0435369 ,  0.31642162, -0.48429477,  0.92606431, -0.6815804 ,\n",
       "        -0.99770199, -1.1709608 , -1.4725335 , -1.3416346 ,  1.1034333 ,\n",
       "        -0.74506204,  1.539334  , -1.4687493 ,  1.9573849 ,  0.50941071,\n",
       "        -1.2699849 ,  2.1251886 , -1.1891308 , -1.4920193 , -1.3762224 ,\n",
       "        -0.56725638,  1.9326419 ,  1.9759159 ,  0.70578231,  0.99875033,\n",
       "        -0.32015885,  1.2780486 , -1.4232805 , -0.86201754, -0.98112131,\n",
       "        -0.19351577, -1.2371496 ,  0.76412324, -1.1076014 ,  1.2404335 ,\n",
       "        -0.83280923, -1.2449218 , -1.2902683 , -1.5183225 , -0.56004309,\n",
       "        -0.43181063, -1.348126  ,  2.1759145 , -0.60200711,  1.1375437 ,\n",
       "        -1.2347219 ,  0.01417354,  1.5977157 , -1.0195747 , -1.1209917 ,\n",
       "        -0.48122665, -1.1814809 ,  0.82062447,  0.65043381, -1.2664802 ,\n",
       "        -1.2806622 ,  0.89494643, -0.79308081, -1.1580479 ,  0.00313528,\n",
       "         0.75762604, -1.4154734 , -1.1811607 ,  0.4298316 , -0.4589056 ,\n",
       "        -0.48859713,  0.99082095,  1.2249706 ,  2.2929923 ,  1.614768  ,\n",
       "        -0.44360574,  1.2608333 ,  0.43684695, -1.012245  , -0.0615806 ,\n",
       "         1.1499733 ,  0.12598833,  0.28370855,  1.3333971 ,  1.7635633 ,\n",
       "        -0.89803744, -0.97506657, -0.12732695, -0.15315276, -0.59750099,\n",
       "        -0.14215525, -0.47488663,  0.24768283, -1.3736724 , -0.03209284,\n",
       "         0.37974608, -0.03145244,  0.14738952,  1.9353899 ,  0.47800756,\n",
       "        -0.42735108, -0.21184883, -1.4926597 , -0.10800418, -0.10274121,\n",
       "        -0.01164644,  0.77436391, -0.44472354,  0.64549105, -0.08504855,\n",
       "        -1.374307  , -1.2538875 , -0.83707084, -1.3907246 , -0.37008719,\n",
       "        -1.3366511 ,  1.4535022 , -1.1974212 ,  1.0841047 ,  0.98217548,\n",
       "         0.70367479,  0.87322504, -1.2427269 , -1.1926414 ,  0.87896541,\n",
       "         0.85202762,  0.53060813, -1.0910673 ,  0.42198373,  0.68741432,\n",
       "         0.17571872,  1.0246111 ,  2.2878865 ,  0.98763057, -0.18582508,\n",
       "         1.4825534 , -0.50804217,  0.44453764, -0.70309802,  2.365556  ,\n",
       "         0.0848219 ,  1.1852422 , -1.3837151 , -0.03734999, -1.1599633 ,\n",
       "        -1.1444596 , -0.60997143, -1.2334818 , -0.97044401, -1.4054307 ,\n",
       "        -1.4003307 , -1.2302972 , -0.92916114, -0.79531058,  0.36810816,\n",
       "        -1.1573725 , -0.36909165, -0.951913  , -1.2426862 , -0.47771606,\n",
       "        -1.5751032 , -0.69034813, -1.105849  , -0.83344382, -0.01822515,\n",
       "         1.0869749 , -0.7364515 ,  0.78328883, -0.90058742,  0.07271242,\n",
       "        -0.58494904,  1.4136516 , -0.8358366 , -0.14242888, -0.96936696,\n",
       "         0.70180015, -1.2298199 , -1.2392222 , -1.1942308 , -0.3506014 ,\n",
       "         0.52471058,  0.27350863,  0.08514211, -0.34884902, -0.2445619 ,\n",
       "        -0.51696709, -0.51553491,  0.41146361,  0.83465517,  0.60767802,\n",
       "        -0.3981777 ,  0.44529448, -1.0721753 ,  0.5403714 ,  1.1169808 ,\n",
       "         0.99831369,  1.05733   ,  1.1748793 ,  0.52794172, -0.16192049,\n",
       "         0.07764936, -0.22922128, -0.59479382, -0.89911448, -0.41264504,\n",
       "         1.6253288 ,  0.17735467,  0.56539961,  0.52331915,  0.66828366,\n",
       "         0.58866962, -0.25300943,  0.87693357,  0.84692767,  0.67290622,\n",
       "        -0.93119298, -0.74765278, -0.84380674,  0.50833367,  0.18882957,\n",
       "         0.07318981, -0.16590265,  0.3615702 ,  0.26729088,  0.77786867,\n",
       "         0.69957038,  0.6636611 ,  0.49267284,  1.123513  , -0.26687712,\n",
       "         1.4982113 ,  0.61453071,  1.1188535 ,  0.48717486,  1.1717723 ,\n",
       "         1.2780881 ,  1.0759774 ,  1.7106425 ,  1.1426436 , -1.0482707 ]))"
      ]
     },
     "execution_count": 306,
     "metadata": {},
     "output_type": "execute_result"
    }
   ],
   "source": [
    "#pred[test_idx] = r_mean[:,0]\n",
    "pred, ground_truth_r"
   ]
  },
  {
   "cell_type": "code",
   "execution_count": 307,
   "id": "d813f5b7",
   "metadata": {},
   "outputs": [
    {
     "name": "stdout",
     "output_type": "stream",
     "text": [
      "Mean squared error: 0.879\n",
      "R2 Variance score: 0.118\n"
     ]
    },
    {
     "data": {
      "image/png": "[encoded data removed]",
      "text/plain": [
       "<Figure size 640x480 with 1 Axes>"
      ]
     },
     "metadata": {},
     "output_type": "display_data"
    }
   ],
   "source": [
    "## Validation\n",
    "# The mean squared error\n",
    "print(\"Mean squared error: %.3f\" % mean_squared_error(ground_truth_r, pred))\n",
    "# Explained variance score: 1 is perfect prediction\n",
    "print('R2 Variance score: %.3f' % r2_score(ground_truth_r, pred))\n",
    "\n",
    "# Plot Prediction vs. Ground-truth Y\n",
    "fig = plt.figure()\n",
    "ax = fig.add_subplot(111)\n",
    "\n",
    "ax.scatter(ground_truth_r, pred,  color='black')\n",
    "ax.plot([0, 3], [0, 3], ls=\"--\", c=\"black\")\n",
    "plt.xlabel('ground truth')\n",
    "plt.ylabel('prediction truth')\n",
    "ax.axis('equal');"
   ]
  },
  {
   "cell_type": "code",
   "execution_count": 293,
   "id": "c2746ae8",
   "metadata": {},
   "outputs": [
    {
     "name": "stderr",
     "output_type": "stream",
     "text": [
      "/scratch/p305197/.envs/dl1dh_habrok/lib/python3.9/site-packages/sklearn/manifold/_mds.py:299: FutureWarning: The default value of `normalized_stress` will change to `'auto'` in version 1.4. To suppress this warning, manually set the value of `normalized_stress`.\n",
      "  warnings.warn(\n"
     ]
    },
    {
     "data": {
      "text/plain": [
       "(-3.4484167859147083,\n",
       " 3.736300861731021,\n",
       " -3.4133124723511434,\n",
       " 3.531115346553621)"
      ]
     },
     "execution_count": 293,
     "metadata": {},
     "output_type": "execute_result"
    },
    {
     "data": {
      "image/png": "[encoded data removed]",
      "text/plain": [
       "<Figure size 640x480 with 1 Axes>"
      ]
     },
     "metadata": {},
     "output_type": "display_data"
    }
   ],
   "source": [
    "## Visualize Latent Space\n",
    "vae.load_weights('random_weights.h5')\n",
    "vae.fit([training_feature,ground_truth_r],\n",
    "         epochs=epochs,\n",
    "         batch_size=batch_size,\n",
    "         verbose = 0)\n",
    " \n",
    "[z_mean, z_log_var, z, r_mean, r_log_var, r_vae, pz_mean] = encoder.predict([training_feature,ground_truth_r],batch_size=batch_size)\n",
    "\n",
    "tsne = MDS(n_components=2, random_state=0)\n",
    "X_2d = tsne.fit_transform(z_mean)\n",
    "\n",
    "#%matplotlib notebook\n",
    "fig = plt.figure()\n",
    "ax = fig.add_subplot(111)\n",
    "ax.scatter(X_2d[:, 0], X_2d[:, 1], c=ground_truth_r)\n",
    "plt.title('TSNE visualization of latent space')\n",
    "ax.axis('equal')\n"
   ]
  },
  {
   "cell_type": "code",
   "execution_count": null,
   "id": "ed5bfc46",
   "metadata": {},
   "outputs": [],
   "source": []
  }
 ],
 "metadata": {
  "kernelspec": {
   "display_name": "Python 3 (ipykernel)",
   "language": "python",
   "name": "python3"
  },
  "language_info": {
   "codemirror_mode": {
    "name": "ipython",
    "version": 3
   },
   "file_extension": ".py",
   "mimetype": "text/x-python",
   "name": "python",
   "nbconvert_exporter": "python",
   "pygments_lexer": "ipython3",
   "version": "3.9.6"
  }
 },
 "nbformat": 4,
 "nbformat_minor": 5
}
