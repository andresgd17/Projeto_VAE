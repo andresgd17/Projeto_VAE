{
 "cells": [
  {
   "cell_type": "markdown",
   "id": "ec826989",
   "metadata": {},
   "source": [
    "# CTA-VAE-ENERGY-NEW modified by Andrés"
   ]
  },
  {
   "cell_type": "code",
   "execution_count": 1,
   "id": "1e98c72e",
   "metadata": {},
   "outputs": [
    {
     "name": "stdout",
     "output_type": "stream",
     "text": [
      "2.7.1\n"
     ]
    }
   ],
   "source": [
    "import h5py\n",
    "import numpy as np\n",
    "import matplotlib.pyplot as plt\n",
    "from matplotlib import rc\n",
    "import pandas as pd\n",
    "#import seaborn as sns\n",
    "\n",
    "#rc('text', usetex=True)\n",
    "#rc('font',**{'family':'sans-serif','sans-serif':['cmr']})\n",
    "#rc('font',**{'family':'serif','serif':['cmr']})\n",
    "\n",
    "from __future__ import absolute_import\n",
    "from __future__ import division\n",
    "from __future__ import print_function\n",
    "\n",
    "import tensorflow as tf\n",
    "print(tf.__version__)\n",
    "\n",
    "from tensorflow.keras.models import Sequential, Model\n",
    "from tensorflow.keras.layers import Activation, Dense, Dropout, Flatten, UpSampling2D, Input, ZeroPadding2D, Lambda, Reshape\n",
    "from tensorflow.keras.layers import BatchNormalization, Concatenate\n",
    "from tensorflow.keras.optimizers import Adam\n",
    "#import tensorflow_probability as tfp\n",
    "\n",
    "from scipy import stats\n",
    "from tensorflow.keras.layers import Conv2D, MaxPooling2D\n",
    "from tensorflow.keras.losses import mse, binary_crossentropy,mean_absolute_error ,huber\n",
    "from tensorflow.keras.utils import plot_model\n",
    "from tensorflow.keras.callbacks import TensorBoard, ModelCheckpoint, EarlyStopping, ReduceLROnPlateau\n",
    "from tensorflow.keras.constraints import unit_norm, max_norm\n",
    "from tensorflow.keras import regularizers\n",
    "from tensorflow.keras import backend as K\n",
    "\n",
    "from sklearn.model_selection import StratifiedKFold, train_test_split\n",
    "from sklearn.preprocessing import MinMaxScaler, StandardScaler\n",
    "\n",
    "#import nibabel as nib\n",
    "import scipy as sp\n",
    "import scipy.ndimage\n",
    "\n",
    "from sklearn.metrics import mean_squared_error, r2_score\n",
    "from sklearn.manifold import MDS"
   ]
  },
  {
   "cell_type": "markdown",
   "id": "graduate-clock",
   "metadata": {},
   "source": [
    "# LOADING THE DATASET"
   ]
  },
  {
   "cell_type": "code",
   "execution_count": 2,
   "id": "worldwide-deficit",
   "metadata": {},
   "outputs": [
    {
     "data": {
      "text/plain": [
       "<KeysViewHDF5 ['MST', 'SST']>"
      ]
     },
     "execution_count": 2,
     "metadata": {},
     "output_type": "execute_result"
    }
   ],
   "source": [
    "hf=h5py.File(\"/scratch/p305197/my-test/notebooks/VAE/img_p+Fe_MST+SST_10000_NEW.hdf5\", 'r')\n",
    "hf.keys()"
   ]
  },
  {
   "cell_type": "code",
   "execution_count": 3,
   "id": "49a947fc",
   "metadata": {},
   "outputs": [],
   "source": [
    "def aux_features(file):\n",
    "    \n",
    "    aux_vars = pd.read_csv(file).drop(columns=['Unnamed: 0'])\n",
    "    #scaler   = StandardScaler()                   ### comment by Andres\n",
    "    #aux_vars = scaler.fit_transform(aux_vars)     ### comment by Andres\n",
    "    \n",
    "    return aux_vars"
   ]
  },
  {
   "cell_type": "markdown",
   "id": "muslim-location",
   "metadata": {},
   "source": [
    "# SST (48X48) and MST(112X112) IMAGES"
   ]
  },
  {
   "cell_type": "code",
   "execution_count": 4,
   "id": "occupied-jones",
   "metadata": {},
   "outputs": [
    {
     "data": {
      "text/plain": [
       "<KeysViewHDF5 ['ENERGY', 'EVENT_ID', 'LABEL', 'OBS_ID', 'XMAX', 'X_MONO', 'X_STEREO', 'Y']>"
      ]
     },
     "execution_count": 4,
     "metadata": {},
     "output_type": "execute_result"
    }
   ],
   "source": [
    "data_MST = hf['MST']\n",
    "data_SST = hf['SST']\n",
    "data_MST.keys()"
   ]
  },
  {
   "cell_type": "markdown",
   "id": "valuable-protection",
   "metadata": {},
   "source": [
    "# MONO (1 TELESCOPE) and STEREO(>1 TELESCOPES)"
   ]
  },
  {
   "cell_type": "code",
   "execution_count": 5,
   "id": "handed-circus",
   "metadata": {},
   "outputs": [],
   "source": [
    "imgs_MST_MONO = data_MST['X_MONO']\n",
    "imgs_MST_STER = data_MST['X_STEREO']\n",
    "imgs_SST_MONO = data_SST['X_MONO']\n",
    "imgs_SST_STER = data_SST['X_STEREO']\n",
    "\n",
    "\n",
    "# separated by species\n",
    "imgs_MST_MONO_Fe = imgs_MST_MONO[0]\n",
    "imgs_MST_MONO_p  = imgs_MST_MONO[1]\n",
    "imgs_MST_STER_Fe = imgs_MST_STER[0]\n",
    "imgs_MST_STER_p  = imgs_MST_STER[1]\n",
    "\n",
    "imgs_SST_MONO_Fe = imgs_SST_MONO[0]\n",
    "imgs_SST_MONO_p  = imgs_SST_MONO[1]\n",
    "imgs_SST_STER_Fe = imgs_SST_STER[0]\n",
    "imgs_SST_STER_p  = imgs_SST_STER[1]\n",
    "\n",
    "#p+Fe images\n",
    "imgs_MST_MONO_Fe_p = np.concatenate((imgs_MST_MONO_Fe, imgs_MST_MONO_p), axis=0)\n",
    "imgs_MST_STER_Fe_p = np.concatenate((imgs_MST_STER_Fe, imgs_MST_STER_p), axis=0)\n",
    "\n",
    "imgs_SST_MONO_Fe_p = np.concatenate((imgs_SST_MONO_Fe, imgs_SST_MONO_p), axis=0)\n",
    "imgs_SST_STER_Fe_p = np.concatenate((imgs_SST_STER_Fe, imgs_SST_STER_p), axis=0)"
   ]
  },
  {
   "cell_type": "code",
   "execution_count": 6,
   "id": "suitable-childhood",
   "metadata": {},
   "outputs": [],
   "source": [
    "def normalize_img(data):\n",
    "    x_min = np.min(data.flatten())\n",
    "    x_max = np.max(data.flatten())\n",
    "    delta = x_max-x_min\n",
    "    return (data-x_min)/delta"
   ]
  },
  {
   "cell_type": "markdown",
   "id": "aboriginal-carol",
   "metadata": {},
   "source": [
    "# DATA AUGMENTATION"
   ]
  },
  {
   "cell_type": "code",
   "execution_count": 7,
   "id": "plain-enzyme",
   "metadata": {},
   "outputs": [],
   "source": [
    "def enhance_edges(im):\n",
    "    sx = sp.ndimage.sobel(im, axis=0, mode='constant')\n",
    "    sy = sp.ndimage.sobel(im, axis=1, mode='constant')\n",
    "    sob = np.hypot(sx, sy)\n",
    "    return sob\n",
    "\n",
    "def median_filter(im,s):\n",
    "    return sp.ndimage.median_filter(im, s)\n",
    "    \n",
    "def augment_by_transformation(data,age,m,isFlip,n_aux):\n",
    "    augment_scale = 1\n",
    "\n",
    "    #if n <= data.shape[0]:\n",
    "    #    return data, age\n",
    "    #else:\n",
    "    raw_n = data.shape[0]\n",
    "    #    m = n - raw_n\n",
    "    for i in range(0,m):\n",
    "        new_data = np.zeros((1,data.shape[1],data.shape[2],1))\n",
    "        idx = np.random.randint(0,raw_n)\n",
    "        new_age = age[idx]\n",
    "        new_data[0] = data[idx].copy()\n",
    "        new_data[0,:,:,0] = sp.ndimage.interpolation.rotate(new_data[0,:,:,0],np.random.uniform(-1,1),axes=(1,0),reshape=False)\n",
    "        new_data[0,:,:,0] = sp.ndimage.interpolation.rotate(new_data[0,:,:,0],np.random.uniform(-1,1),axes=(0,1),reshape=False)\n",
    "        new_data[0,:,:,0] = sp.ndimage.shift(new_data[0,:,:,0],np.random.uniform(-1,1))\n",
    "        \n",
    "        if isFlip:\n",
    "            data = np.concatenate((data, np.flip(new_data,np.random.randint(0,2,1)[0])), axis=0)\n",
    "        else:\n",
    "            data = np.concatenate((data, new_data), axis=0)\n",
    "        if n_aux>1:\n",
    "            age = np.vstack((age, new_age))\n",
    "        else:\n",
    "            age = np.append(age, new_age)\n",
    "\n",
    "    return data, age\n",
    "\n",
    "def noise(data,sigma):\n",
    "    new_data = np.zeros((data.shape[0],data.shape[1],1))\n",
    "    #new_data = data[np.random.randint(0,data.shape[0])]\n",
    "    noise = np.clip(np.random.normal(0,sigma,(data.shape[0],data.shape[1],1)),-3*sigma,3*sigma)\n",
    "    new_data += noise\n",
    "    return new_data\n",
    "    \n",
    "def augment_by_noise(data,n,sigma):\n",
    "    if n <= data.shape[0]:\n",
    "        return data\n",
    "    else:\n",
    "        m = n - data.shape[0]\n",
    "        for i in range(0,m):\n",
    "            new_data = np.zeros((1,data.shape[1],data.shape[2],1))\n",
    "            new_data[0] = data[np.random.randint(0,data.shape[0])]\n",
    "            noise = np.clip(np.random.normal(0,sigma,(data.shape[1],data.shape[2],1)),-3*sigma,3*sigma)\n",
    "            new_data[0] += noise\n",
    "            #new_data = noise(data,sigma)\n",
    "            data = np.concatenate((data, new_data), axis=0)\n",
    "    return data\n",
    "        \n",
    "        \n",
    "def augment_by_flip(data):\n",
    "    data_flip = np.flip(data,1)\n",
    "    data = np.concatenate((data, data_flip), axis=0)\n",
    "    return data\n",
    "\n",
    "def augment_mixup(data,age,m,n_aux):\n",
    "    \n",
    "    raw_n = data.shape[0]\n",
    "    for i in range(0,m):\n",
    "        new_im = np.zeros((1,data.shape[1],data.shape[2],1))\n",
    "        im1 = np.zeros((1,data.shape[1],data.shape[2],1))\n",
    "        im2 = np.zeros((1,data.shape[1],data.shape[2],1))\n",
    "        \n",
    "        # image 1\n",
    "        idx1 = np.random.randint(0,raw_n)\n",
    "        im1[0], age1 = data[idx1].copy(), age[idx1]\n",
    "        \n",
    "        # image 2\n",
    "        idx2 = np.random.randint(0,raw_n)\n",
    "        im2[0], age2 = data[idx2].copy(), age[idx2]\n",
    "        \n",
    "        # picking lambda\n",
    "        alpha = 0.2\n",
    "        lam = np.random.beta(alpha, alpha, 1) #np.random.uniform(0,1)\n",
    "        \n",
    "        new_im = lam*im1+(1-lam)*im2\n",
    "        new_age = lam*age1+(1-lam)*age2\n",
    "        \n",
    "        data = np.concatenate((data, new_im), axis=0)\n",
    "        if n_aux>1:\n",
    "            age = np.vstack((age, new_age))\n",
    "        else:\n",
    "            age = np.append(age, new_age)\n",
    "            \n",
    "    return data, age #, lam, idx1, idx2"
   ]
  },
  {
   "cell_type": "code",
   "execution_count": 10,
   "id": "9acc88fd",
   "metadata": {},
   "outputs": [
    {
     "ename": "NameError",
     "evalue": "name 'E_MST_Fe' is not defined",
     "output_type": "error",
     "traceback": [
      "\u001b[0;31m---------------------------------------------------------------------------\u001b[0m",
      "\u001b[0;31mNameError\u001b[0m                                 Traceback (most recent call last)",
      "Cell \u001b[0;32mIn[10], line 1\u001b[0m\n\u001b[0;32m----> 1\u001b[0m test_mixup, e, lam, idx1, idx2 \u001b[38;5;241m=\u001b[39m augment_mixup(imgs_MST_MONO_Fe,\u001b[43mE_MST_Fe\u001b[49m,\u001b[38;5;241m20\u001b[39m,\u001b[38;5;241m1\u001b[39m)\n",
      "\u001b[0;31mNameError\u001b[0m: name 'E_MST_Fe' is not defined"
     ]
    }
   ],
   "source": [
    "test_mixup, e, lam, idx1, idx2 = augment_mixup(imgs_MST_MONO_Fe,E_MST_Fe,20,1)"
   ]
  },
  {
   "cell_type": "code",
   "execution_count": null,
   "id": "8fdbbb76",
   "metadata": {},
   "outputs": [],
   "source": [
    "print(e[1900], lam, idx1, idx2)"
   ]
  },
  {
   "cell_type": "code",
   "execution_count": null,
   "id": "7f1e44dc",
   "metadata": {},
   "outputs": [],
   "source": [
    "fig = plt.figure(figsize=(10,10))\n",
    "plt.subplot(221)\n",
    "plt.imshow(np.squeeze(test_mixup[1900]))\n",
    "plt.subplot(222)\n",
    "plt.imshow(np.squeeze(test_mixup[1900]))\n",
    "plt.subplot(223)\n",
    "plt.imshow(np.squeeze(test_mixup[idx1]))\n",
    "plt.subplot(224)\n",
    "plt.imshow(np.squeeze(test_mixup[idx2]))"
   ]
  },
  {
   "cell_type": "code",
   "execution_count": null,
   "id": "07354bf0",
   "metadata": {},
   "outputs": [],
   "source": [
    "imgs_MST_MONO_Fe[0].shape"
   ]
  },
  {
   "cell_type": "code",
   "execution_count": 8,
   "id": "secret-october",
   "metadata": {},
   "outputs": [
    {
     "data": {
      "image/png": "[encoded data removed]",
      "text/plain": [
       "<Figure size 1000x1000 with 4 Axes>"
      ]
     },
     "metadata": {},
     "output_type": "display_data"
    }
   ],
   "source": [
    "nx = 0\n",
    "imag1 = imgs_MST_MONO_Fe\n",
    "imag2 = imgs_MST_STER_Fe\n",
    "imag3 = imgs_SST_MONO_Fe\n",
    "imag4 = imgs_SST_STER_Fe\n",
    "\n",
    "fig = plt.figure(figsize=(10,10))\n",
    "plt.subplot(221)\n",
    "plt.imshow(np.squeeze(imag1[nx]))\n",
    "plt.subplot(222)\n",
    "plt.imshow(np.squeeze(imag2[nx]))\n",
    "plt.subplot(223)\n",
    "plt.imshow(np.squeeze(imag3[nx]))\n",
    "plt.subplot(224)\n",
    "plt.imshow(np.squeeze(imag3[nx]))\n",
    "# show the plot\n",
    "plt.show()"
   ]
  },
  {
   "cell_type": "code",
   "execution_count": 9,
   "id": "introductory-insertion",
   "metadata": {},
   "outputs": [
    {
     "ename": "KeyboardInterrupt",
     "evalue": "",
     "output_type": "error",
     "traceback": [
      "\u001b[0;31m---------------------------------------------------------------------------\u001b[0m",
      "\u001b[0;31mKeyboardInterrupt\u001b[0m                         Traceback (most recent call last)",
      "Cell \u001b[0;32mIn[9], line 2\u001b[0m\n\u001b[1;32m      1\u001b[0m nx \u001b[38;5;241m=\u001b[39m \u001b[38;5;241m0\u001b[39m\n\u001b[0;32m----> 2\u001b[0m imag1 \u001b[38;5;241m=\u001b[39m \u001b[43mmedian_filter\u001b[49m\u001b[43m(\u001b[49m\u001b[43mimgs_MST_MONO_Fe\u001b[49m\u001b[43m,\u001b[49m\u001b[38;5;241;43m3\u001b[39;49m\u001b[43m)\u001b[49m\n\u001b[1;32m      3\u001b[0m \u001b[38;5;66;03m#imag2 = enhance_edges(imgs_MST_STER_Fe)\u001b[39;00m\n\u001b[1;32m      4\u001b[0m \u001b[38;5;66;03m#imag3 = enhance_edges(imgs_SST_MONO_Fe)\u001b[39;00m\n\u001b[1;32m      5\u001b[0m \u001b[38;5;66;03m#imag4 = enhance_edges(imgs_SST_STER_Fe)\u001b[39;00m\n\u001b[1;32m      7\u001b[0m fig \u001b[38;5;241m=\u001b[39m plt\u001b[38;5;241m.\u001b[39mfigure(figsize\u001b[38;5;241m=\u001b[39m(\u001b[38;5;241m10\u001b[39m,\u001b[38;5;241m10\u001b[39m))\n",
      "Cell \u001b[0;32mIn[7], line 8\u001b[0m, in \u001b[0;36mmedian_filter\u001b[0;34m(im, s)\u001b[0m\n\u001b[1;32m      7\u001b[0m \u001b[38;5;28;01mdef\u001b[39;00m \u001b[38;5;21mmedian_filter\u001b[39m(im,s):\n\u001b[0;32m----> 8\u001b[0m     \u001b[38;5;28;01mreturn\u001b[39;00m \u001b[43msp\u001b[49m\u001b[38;5;241;43m.\u001b[39;49m\u001b[43mndimage\u001b[49m\u001b[38;5;241;43m.\u001b[39;49m\u001b[43mmedian_filter\u001b[49m\u001b[43m(\u001b[49m\u001b[43mim\u001b[49m\u001b[43m,\u001b[49m\u001b[43m \u001b[49m\u001b[43ms\u001b[49m\u001b[43m)\u001b[49m\n",
      "File \u001b[0;32m/cvmfs/hpc.rug.nl/versions/2023.01/rocky8/x86_64/intel/icelake/software/SciPy-bundle/2021.10-foss-2021b/lib/python3.9/site-packages/scipy/ndimage/filters.py:1395\u001b[0m, in \u001b[0;36mmedian_filter\u001b[0;34m(input, size, footprint, output, mode, cval, origin)\u001b[0m\n\u001b[1;32m   1351\u001b[0m \u001b[38;5;129m@_ni_docstrings\u001b[39m\u001b[38;5;241m.\u001b[39mdocfiller\n\u001b[1;32m   1352\u001b[0m \u001b[38;5;28;01mdef\u001b[39;00m \u001b[38;5;21mmedian_filter\u001b[39m(\u001b[38;5;28minput\u001b[39m, size\u001b[38;5;241m=\u001b[39m\u001b[38;5;28;01mNone\u001b[39;00m, footprint\u001b[38;5;241m=\u001b[39m\u001b[38;5;28;01mNone\u001b[39;00m, output\u001b[38;5;241m=\u001b[39m\u001b[38;5;28;01mNone\u001b[39;00m,\n\u001b[1;32m   1353\u001b[0m                   mode\u001b[38;5;241m=\u001b[39m\u001b[38;5;124m\"\u001b[39m\u001b[38;5;124mreflect\u001b[39m\u001b[38;5;124m\"\u001b[39m, cval\u001b[38;5;241m=\u001b[39m\u001b[38;5;241m0.0\u001b[39m, origin\u001b[38;5;241m=\u001b[39m\u001b[38;5;241m0\u001b[39m):\n\u001b[1;32m   1354\u001b[0m \u001b[38;5;250m    \u001b[39m\u001b[38;5;124;03m\"\"\"\u001b[39;00m\n\u001b[1;32m   1355\u001b[0m \u001b[38;5;124;03m    Calculate a multidimensional median filter.\u001b[39;00m\n\u001b[1;32m   1356\u001b[0m \n\u001b[0;32m   (...)\u001b[0m\n\u001b[1;32m   1393\u001b[0m \u001b[38;5;124;03m    >>> plt.show()\u001b[39;00m\n\u001b[1;32m   1394\u001b[0m \u001b[38;5;124;03m    \"\"\"\u001b[39;00m\n\u001b[0;32m-> 1395\u001b[0m     \u001b[38;5;28;01mreturn\u001b[39;00m \u001b[43m_rank_filter\u001b[49m\u001b[43m(\u001b[49m\u001b[38;5;28;43minput\u001b[39;49m\u001b[43m,\u001b[49m\u001b[43m \u001b[49m\u001b[38;5;241;43m0\u001b[39;49m\u001b[43m,\u001b[49m\u001b[43m \u001b[49m\u001b[43msize\u001b[49m\u001b[43m,\u001b[49m\u001b[43m \u001b[49m\u001b[43mfootprint\u001b[49m\u001b[43m,\u001b[49m\u001b[43m \u001b[49m\u001b[43moutput\u001b[49m\u001b[43m,\u001b[49m\u001b[43m \u001b[49m\u001b[43mmode\u001b[49m\u001b[43m,\u001b[49m\u001b[43m \u001b[49m\u001b[43mcval\u001b[49m\u001b[43m,\u001b[49m\n\u001b[1;32m   1396\u001b[0m \u001b[43m                        \u001b[49m\u001b[43morigin\u001b[49m\u001b[43m,\u001b[49m\u001b[43m \u001b[49m\u001b[38;5;124;43m'\u001b[39;49m\u001b[38;5;124;43mmedian\u001b[39;49m\u001b[38;5;124;43m'\u001b[39;49m\u001b[43m)\u001b[49m\n",
      "File \u001b[0;32m/cvmfs/hpc.rug.nl/versions/2023.01/rocky8/x86_64/intel/icelake/software/SciPy-bundle/2021.10-foss-2021b/lib/python3.9/site-packages/scipy/ndimage/filters.py:1302\u001b[0m, in \u001b[0;36m_rank_filter\u001b[0;34m(input, rank, size, footprint, output, mode, cval, origin, operation)\u001b[0m\n\u001b[1;32m   1298\u001b[0m     \u001b[38;5;28;01mraise\u001b[39;00m \u001b[38;5;167;01mRuntimeError\u001b[39;00m(\n\u001b[1;32m   1299\u001b[0m         \u001b[38;5;124m\"\u001b[39m\u001b[38;5;124mA sequence of modes is not supported by non-separable rank \u001b[39m\u001b[38;5;124m\"\u001b[39m\n\u001b[1;32m   1300\u001b[0m         \u001b[38;5;124m\"\u001b[39m\u001b[38;5;124mfilters\u001b[39m\u001b[38;5;124m\"\u001b[39m)\n\u001b[1;32m   1301\u001b[0m mode \u001b[38;5;241m=\u001b[39m _ni_support\u001b[38;5;241m.\u001b[39m_extend_mode_to_code(mode)\n\u001b[0;32m-> 1302\u001b[0m \u001b[43m_nd_image\u001b[49m\u001b[38;5;241;43m.\u001b[39;49m\u001b[43mrank_filter\u001b[49m\u001b[43m(\u001b[49m\u001b[38;5;28;43minput\u001b[39;49m\u001b[43m,\u001b[49m\u001b[43m \u001b[49m\u001b[43mrank\u001b[49m\u001b[43m,\u001b[49m\u001b[43m \u001b[49m\u001b[43mfootprint\u001b[49m\u001b[43m,\u001b[49m\u001b[43m \u001b[49m\u001b[43moutput\u001b[49m\u001b[43m,\u001b[49m\u001b[43m \u001b[49m\u001b[43mmode\u001b[49m\u001b[43m,\u001b[49m\u001b[43m \u001b[49m\u001b[43mcval\u001b[49m\u001b[43m,\u001b[49m\n\u001b[1;32m   1303\u001b[0m \u001b[43m                      \u001b[49m\u001b[43morigins\u001b[49m\u001b[43m)\u001b[49m\n\u001b[1;32m   1304\u001b[0m \u001b[38;5;28;01mif\u001b[39;00m temp_needed:\n\u001b[1;32m   1305\u001b[0m     temp[\u001b[38;5;241m.\u001b[39m\u001b[38;5;241m.\u001b[39m\u001b[38;5;241m.\u001b[39m] \u001b[38;5;241m=\u001b[39m output\n",
      "\u001b[0;31mKeyboardInterrupt\u001b[0m: "
     ]
    }
   ],
   "source": [
    "nx = 0\n",
    "imag1 = median_filter(imgs_MST_MONO_Fe,3)\n",
    "#imag2 = enhance_edges(imgs_MST_STER_Fe)\n",
    "#imag3 = enhance_edges(imgs_SST_MONO_Fe)\n",
    "#imag4 = enhance_edges(imgs_SST_STER_Fe)\n",
    "\n",
    "fig = plt.figure(figsize=(10,10))\n",
    "plt.subplot(221)\n",
    "plt.imshow(np.squeeze(imag1[nx]))\n",
    "plt.subplot(222)\n",
    "plt.imshow(np.squeeze(imag2[nx]))\n",
    "plt.subplot(223)\n",
    "plt.imshow(np.squeeze(imag3[nx]))\n",
    "plt.subplot(224)\n",
    "plt.imshow(np.squeeze(imag4[nx]))\n",
    "# show the plot\n",
    "plt.show()"
   ]
  },
  {
   "cell_type": "code",
   "execution_count": null,
   "id": "diagnostic-capital",
   "metadata": {},
   "outputs": [],
   "source": [
    "im = imag2[nx]\n",
    "sx = sp.ndimage.sobel(im, axis=0, mode='constant')\n",
    "sy = sp.ndimage.sobel(im, axis=1, mode='constant')\n",
    "sob = np.hypot(sx, sy)\n",
    "\n",
    "plt.figure(figsize=(16, 5))\n",
    "plt.subplot(141)\n",
    "plt.imshow(im)\n",
    "plt.axis('off')\n",
    "plt.title('square', fontsize=20)\n",
    "plt.subplot(142)\n",
    "plt.imshow(sx)\n",
    "plt.axis('off')\n",
    "plt.title('Sobel (x direction)', fontsize=20)\n",
    "plt.subplot(143)\n",
    "plt.imshow(sob)\n",
    "plt.axis('off')\n",
    "plt.title('Sobel filter', fontsize=20)\n",
    "\n",
    "im += 0.07*np.random.random(im.shape)\n",
    "\n",
    "sx = sp.ndimage.sobel(im, axis=0, mode='constant')\n",
    "sy = sp.ndimage.sobel(im, axis=1, mode='constant')\n",
    "sob = np.hypot(sx, sy)\n",
    "\n",
    "plt.subplot(144)\n",
    "plt.imshow(sob)\n",
    "plt.axis('off')\n",
    "plt.title('Sobel for noisy image', fontsize=20)\n",
    "\n",
    "\n",
    "\n",
    "plt.subplots_adjust(wspace=0.02, hspace=0.02, top=1, bottom=0, left=0, right=0.9)\n",
    "\n",
    "plt.show()\n"
   ]
  },
  {
   "cell_type": "code",
   "execution_count": null,
   "id": "expanded-times",
   "metadata": {},
   "outputs": [],
   "source": [
    "nx = 10\n",
    "imag1 = imgs_MST_MONO_p\n",
    "imag2 = imgs_MST_STER_p\n",
    "imag3 = imgs_SST_MONO_p\n",
    "imag4 = imgs_SST_STER_p\n",
    "\n",
    "fig = plt.figure(figsize=(10,10))\n",
    "plt.subplot(221)\n",
    "plt.imshow(np.squeeze(imag1[nx]))\n",
    "plt.subplot(222)\n",
    "plt.imshow(np.squeeze(imag2[nx]))\n",
    "plt.subplot(223)\n",
    "plt.imshow(np.squeeze(imag3[nx]))\n",
    "plt.subplot(224)\n",
    "plt.imshow(np.squeeze(imag3[nx]))\n",
    "# show the plot\n",
    "plt.show()"
   ]
  },
  {
   "cell_type": "markdown",
   "id": "manufactured-certification",
   "metadata": {},
   "source": [
    "# ENERGY, XMAX, Y"
   ]
  },
  {
   "cell_type": "code",
   "execution_count": 10,
   "id": "logical-bolivia",
   "metadata": {},
   "outputs": [],
   "source": [
    "# XMAX by species\n",
    "E_MST_Fe = data_MST['ENERGY'][0]\n",
    "E_MST_p  = data_MST['ENERGY'][1]\n",
    "XMAX_MST_Fe = data_MST['XMAX'][0]\n",
    "XMAX_MST_p  = data_MST['XMAX'][1]\n",
    "\n",
    "E_SST_Fe = data_SST['ENERGY'][0]\n",
    "E_SST_p  = data_SST['ENERGY'][1]\n",
    "XMAX_SST_Fe = data_SST['XMAX'][0]\n",
    "XMAX_SST_p  = data_SST['XMAX'][1]\n",
    "\n",
    "#p+Fe\n",
    "E_MST_Fe_p = np.concatenate((E_MST_Fe,E_MST_p), axis=0)\n",
    "E_SST_Fe_p = np.concatenate((E_SST_Fe,E_SST_p), axis=0)\n",
    "XMAX_MST_Fe_p = np.concatenate((E_MST_Fe,E_MST_p), axis=0)\n",
    "XMAX_SST_Fe_p = np.concatenate((E_SST_Fe,E_SST_p), axis=0)"
   ]
  },
  {
   "cell_type": "code",
   "execution_count": 11,
   "id": "fdecdd45",
   "metadata": {},
   "outputs": [
    {
     "data": {
      "text/plain": [
       "array([19.65451813, 10.04527283, 12.01166058, ...,  2.7363193 ,\n",
       "        1.34797609,  8.66871357])"
      ]
     },
     "execution_count": 11,
     "metadata": {},
     "output_type": "execute_result"
    }
   ],
   "source": [
    "E_SST_Fe_p"
   ]
  },
  {
   "cell_type": "code",
   "execution_count": 12,
   "id": "7c28e24c",
   "metadata": {},
   "outputs": [
    {
     "data": {
      "text/plain": [
       "(20000,)"
      ]
     },
     "execution_count": 12,
     "metadata": {},
     "output_type": "execute_result"
    }
   ],
   "source": [
    "np.shape(XMAX_SST_Fe_p)"
   ]
  },
  {
   "cell_type": "code",
   "execution_count": 13,
   "id": "hawaiian-dynamics",
   "metadata": {},
   "outputs": [
    {
     "data": {
      "image/png": "[encoded data removed]",
      "text/plain": [
       "<Figure size 640x480 with 1 Axes>"
      ]
     },
     "metadata": {},
     "output_type": "display_data"
    }
   ],
   "source": [
    "plt.hist2d(E_SST_Fe,XMAX_SST_Fe,bins=100)\n",
    "plt.show()"
   ]
  },
  {
   "cell_type": "code",
   "execution_count": 14,
   "id": "dense-liabilities",
   "metadata": {},
   "outputs": [
    {
     "data": {
      "image/png": "[encoded data removed]",
      "text/plain": [
       "<Figure size 640x480 with 1 Axes>"
      ]
     },
     "metadata": {},
     "output_type": "display_data"
    }
   ],
   "source": [
    "nbins= np.arange(0,320,20)\n",
    "plt.hist(E_SST_Fe,bins=nbins,histtype='step',label='Fe')\n",
    "plt.hist(E_SST_p,bins=nbins,histtype='step',label='p')\n",
    "plt.legend(loc='best')\n",
    "plt.xlabel(r'$E$ (GeV)',size=14)\n",
    "plt.title('SST',size=14)\n",
    "plt.yscale('log')\n",
    "#plt.savefig('../figures/E_Fe_P_SST.pdf')\n",
    "plt.show()"
   ]
  },
  {
   "cell_type": "code",
   "execution_count": 15,
   "id": "associate-sphere",
   "metadata": {},
   "outputs": [
    {
     "data": {
      "image/png": "[encoded data removed]",
      "text/plain": [
       "<Figure size 640x480 with 1 Axes>"
      ]
     },
     "metadata": {},
     "output_type": "display_data"
    }
   ],
   "source": [
    "plt.hist(E_MST_Fe,bins=nbins,histtype='step',label='Fe')\n",
    "plt.hist(E_MST_p,bins=nbins,histtype='step',label='p')\n",
    "plt.legend(loc='best')\n",
    "plt.xlabel(r'$E$ (GeV)',size=14)\n",
    "plt.title('MST',size=14)\n",
    "plt.yscale('log')\n",
    "#plt.savefig('../figures/E_Fe_P_MST.pdf')\n",
    "plt.show()"
   ]
  },
  {
   "cell_type": "markdown",
   "id": "affected-investor",
   "metadata": {},
   "source": [
    "# VARIATIONAL AUTO-ENCODER MODEL"
   ]
  },
  {
   "cell_type": "code",
   "execution_count": 16,
   "id": "focal-paragraph",
   "metadata": {},
   "outputs": [],
   "source": [
    "# reparameterization trick\n",
    "# instead of sampling from Q(z|X), sample eps = N(0,I)\n",
    "# z = z_mean + sqrt(var)*eps\n",
    "\n",
    "# ref added by Andres:\n",
    "# https://stats.stackexchange.com/questions/199605/how-does-the-reparameterization-trick-for-vaes-work-and-why-is-it-important\n",
    "\n",
    "def Nsampling(args):\n",
    "    \"\"\"Reparameterization trick by sampling fr an isotropic unit Gaussian.\n",
    "    # Arguments:\n",
    "        args (tensor): mean and log of variance of Q(z|X)\n",
    "    # Returns:\n",
    "        z (tensor): sampled latent vector\n",
    "    \"\"\"\n",
    "\n",
    "    z_mean, z_log_var = args\n",
    "    #batch             = K.shape(z_mean)[0]\n",
    "    #dim               = K.int_shape(z_mean)[1]\n",
    "    # by default, random_normal has mean=0 and std=1.0\n",
    "    #epsilon           = K.random_normal(shape=(batch, dim))\n",
    "    \n",
    "    sett  = tf.shape(z_mean)[0]\n",
    "    batch = tf.shape(z_mean)[1]\n",
    "    dim   = tf.shape(z_mean)[-1]\n",
    "    # by default, random_normal has mean=0 and std=1.0\n",
    "    epsilon = tf.random.normal(shape=(sett, dim))\n",
    "    \n",
    "    #thre = K.random_uniform(shape=(batch,1))\n",
    "    return z_mean + K.exp(0.5 * z_log_var) * epsilon"
   ]
  },
  {
   "cell_type": "markdown",
   "id": "vulnerable-membrane",
   "metadata": {},
   "source": [
    "# DEEP CONVOLUTIONAL NEURAL NET"
   ]
  },
  {
   "cell_type": "code",
   "execution_count": 17,
   "id": "operational-missouri",
   "metadata": {},
   "outputs": [],
   "source": [
    "def DCNN(input_image,latent_dim,isVar,input_cVar,dp,n_ft,n_conv):\n",
    "    \n",
    "    x0 = Conv2D(n_ft, activation='relu', kernel_size=(3, 3),padding='same')(input_image)\n",
    "    x0 = MaxPooling2D(pool_size=(2, 2))(x0)\n",
    "    x0 = Dropout(dp)(x0)  # ANDRES \n",
    "    \n",
    "    for k in range(n_conv):\n",
    "        fac = int(2*(k+1))\n",
    "        x0 = Conv2D(int(n_ft), activation='relu', kernel_size=(3, 3),padding='same')(x0)\n",
    "        #x0 = BatchNormalization()(x0)\n",
    "        x0 = MaxPooling2D(pool_size=(2, 2))(x0)\n",
    "        x0 = Dropout(dp)(x0)  # ANDRES \n",
    "\n",
    "    x1 = Flatten()(x0)\n",
    "    #### ANDREs #####\n",
    "    if isVar:\n",
    "        # Concatenate Energy\n",
    "        #input_cVar = Input(shape=(1,), name='cVar')\n",
    "        #xc = Dense(1, name='concat')(input_cVar)\n",
    "        x1 = Concatenate()([x1, input_cVar])\n",
    "        #x1 = Flatten()(x1)\n",
    "    #################\n",
    "    \n",
    "    #x1 = Dropout(dp)(x1)\n",
    "    x1 = Dense(int(latent_dim),   activation='tanh', kernel_regularizer=regularizers.l2(L2_reg))(x1)\n",
    "    x1 = Dropout(dp)(x1)\n",
    "    x1 = Dense(int(latent_dim*2), activation='tanh', kernel_regularizer=regularizers.l2(L2_reg))(x1)\n",
    "    x1 = Dropout(dp)(x1)\n",
    "    xo = Dense(int(latent_dim*4), activation='tanh', kernel_regularizer=regularizers.l2(L2_reg))(x1)\n",
    "    #if isVar:\n",
    "    #    # Concatenate Energy\n",
    "    #    ##input_cVar = Input(shape=(1,), name='cVar')\n",
    "    #    ##xc = Dense(1, name='concat')(input_cVar)\n",
    "    #    xo = Concatenate()([xo, input_cVar])\n",
    "    \n",
    "    return xo"
   ]
  },
  {
   "cell_type": "markdown",
   "id": "wound-rhythm",
   "metadata": {},
   "source": [
    "# DECODER"
   ]
  },
  {
   "cell_type": "code",
   "execution_count": 18,
   "id": "portable-australia",
   "metadata": {},
   "outputs": [],
   "source": [
    "def decodeNN(latent_input,dim_img,latent_dim,n_ft,L2_reg,reco_loss):\n",
    "    \n",
    "    patch_x,patch_y = dim_img\n",
    "\n",
    "    # build decoder model\n",
    "    y = Dense(latent_dim*2, activation='tanh',kernel_regularizer=regularizers.l2(L2_reg))(latent_input)\n",
    "    y = Dense(latent_dim*4, activation='tanh',kernel_regularizer=regularizers.l2(L2_reg))(y)\n",
    "    y = Dense(int(patch_x/8*patch_y/8*n_ft*4), activation='relu',kernel_regularizer=regularizers.l2(L2_reg))(y)\n",
    "    y = Reshape((int(patch_x/8),int(patch_y/8),n_ft*4))(y)\n",
    "    \n",
    "    y = Conv2D(n_ft*4, kernel_size=(3, 3),padding='same')(y)\n",
    "    y = BatchNormalization()(y)\n",
    "    y = Activation('relu')(y)\n",
    "    y = UpSampling2D((2,2))(y)\n",
    "\n",
    "    y = Conv2D(n_ft*2, kernel_size=(3, 3),padding='same')(y)\n",
    "    y = BatchNormalization()(y)\n",
    "    y = Activation('relu')(y)\n",
    "    y = UpSampling2D((2,2))(y)\n",
    "\n",
    "    y = Conv2D(n_ft, kernel_size=(3, 3),padding='same')(y)\n",
    "    y = BatchNormalization()(y)\n",
    "    y = Activation('relu')(y)\n",
    "    y = UpSampling2D((2,2))(y)\n",
    "\n",
    "    y = Conv2D(1, kernel_size=(3, 3),padding='same')(y)\n",
    "    \n",
    "    if reco_loss=='binary':\n",
    "        #yo = BatchNormalization()(y)\n",
    "        yo = Activation('sigmoid')(y)\n",
    "    else:\n",
    "        #yo = BatchNormalization()(y)\n",
    "        yo = y\n",
    "        \n",
    "    return yo"
   ]
  },
  {
   "cell_type": "markdown",
   "id": "together-marking",
   "metadata": {},
   "source": [
    "# LATENT SPACE -- DCNN+q(z|x) = ENCODER"
   ]
  },
  {
   "cell_type": "code",
   "execution_count": 19,
   "id": "accomplished-rings",
   "metadata": {},
   "outputs": [],
   "source": [
    "# q(z|x) neural net\n",
    "def qzx(xo,latent_dim):\n",
    "    \n",
    "    z_mean    = Dense(latent_dim*4, activation='tanh', name='z_mean_1')(xo)\n",
    "    #z_mean    = Dense(latent_dim,   activation='tanh', name='z_mean_2')(z_mean)\n",
    "    z_mean    = Dense(latent_dim, name='z_mean_2')(z_mean)       ## ANDRES\n",
    "    \n",
    "    z_log_var = Dense(latent_dim*4, activation='tanh', name='z_log_var_1')(xo)\n",
    "    #z_log_var = Dense(latent_dim,   activation='tanh', name='z_log_var_2')(z_log_var)\n",
    "    z_log_var = Dense(latent_dim, name='z_log_var_2')(z_log_var)   ## ANDRES\n",
    "    \n",
    "    return z_mean, z_log_var"
   ]
  },
  {
   "cell_type": "markdown",
   "id": "posted-lightweight",
   "metadata": {},
   "source": [
    "# LATENT GENERATOR"
   ]
  },
  {
   "cell_type": "code",
   "execution_count": 20,
   "id": "laughing-subdivision",
   "metadata": {},
   "outputs": [],
   "source": [
    "# latent generator (simplified)\n",
    "# p(z|c) : c --> latent_dim\n",
    "\n",
    "# Ref added by Andres\n",
    "# https://stackoverflow.com/questions/45970888/what-does-kernel-constraint-max-norm3-do\n",
    "\n",
    "def latent_generator(gen_input,latent_dim):\n",
    "    \n",
    "    inter_z = Dense(latent_dim, activation='tanh', kernel_constraint=unit_norm(), name='inter_z_1')(gen_input)\n",
    "    #inter_z_2 = Dense(int(latent_dim/2), activation='tanh', kernel_constraint=unit_norm(), name='inter_z_2')(inter_z_1)\n",
    "    pz_mean = Dense(latent_dim, name='pz_mean', kernel_constraint=unit_norm())(inter_z)\n",
    "\n",
    "    #pz_mean = Dense(latent_dim, name='pz_mean', kernel_constraint=unit_norm())(generator_input)\n",
    "    pz_log_var = Dense(latent_dim, name='pz_log_var',kernel_constraint=max_norm(1))(gen_input) #max_norm(0) \n",
    "    \n",
    "    return pz_mean, pz_log_var"
   ]
  },
  {
   "cell_type": "markdown",
   "id": "referenced-senior",
   "metadata": {},
   "source": [
    "# PROBABILISTIC REGRESSORS"
   ]
  },
  {
   "cell_type": "code",
   "execution_count": 21,
   "id": "assigned-portugal",
   "metadata": {},
   "outputs": [],
   "source": [
    "# Mean, log(r_var)\n",
    "def Regressor(x1,x2,orig_dim_r,latent_dim):\n",
    "    \n",
    "    xo = Concatenate()([x1,x2])\n",
    "    #r_mean = Dense(latent_dim*8, activation='tanh', name='r_mean_1')(xo)\n",
    "    r_mean = Dense(latent_dim*8, name='r_mean_1')(xo) ##### ANDRES\n",
    "    #r_mean = Dropout(0.1)(r_mean)\n",
    "    #r_mean = Dense(latent_dim*2, activation='tanh', name='r_mean_2')(r_mean)\n",
    "    #r_mean = Dropout(0.1)(r_mean)\n",
    "    r_mean = Dense(orig_dim_r, name='r_mean')(r_mean)\n",
    "    \n",
    "    #r_log_var = Dense(latent_dim*8, activation='tanh', name='r_log_var_1')(xo)\n",
    "    r_log_var = Dense(latent_dim*8, name='r_log_var_1')(xo)   ##### ANDRES\n",
    "    #r_log_var = Dropout(0.1)(r_log_var)\n",
    "    #r_log_var = Dense(latent_dim*2, activation='tanh', name='r_log_var_2')(r_log_var)\n",
    "    #r_log_var = Dropout(0.1)(r_log_var)\n",
    "    r_log_var = Dense(orig_dim_r, name='r_log_var')(r_log_var)\n",
    "    \n",
    "    return r_mean, r_log_var"
   ]
  },
  {
   "cell_type": "code",
   "execution_count": 22,
   "id": "framed-finish",
   "metadata": {},
   "outputs": [],
   "source": [
    "## Build VAE-Regression Model\n",
    "def VAE_Reg(dim_img,dim_r,dp,L2_reg,latent_dim,reco_loss,isVar,dimVar,n_ft,n_conv):\n",
    "    \n",
    "    # VAE model = encoder + decoder\n",
    "    patch_x,patch_y = dim_img\n",
    "    input_r         = Input(shape=(1, ), name='ground_truth')\n",
    "    input_image     = Input(shape=(patch_x,patch_y,1), name='input_image')\n",
    "    \n",
    "    ##############################   ENCODER  #############################################\n",
    "    #######################################################################################\n",
    "    # calling encoder model    \n",
    "    x_aux = Input(shape=(dimVar,), name='Auxiliar')\n",
    "    input_cVar = x_aux ## ANDRes\n",
    "    x_img = DCNN(input_image,latent_dim,isVar,input_cVar,dp,n_ft,n_conv)\n",
    "\n",
    "    # DCNN -> q(z|x_img) = Encoder\n",
    "    z_mean, z_log_var =  qzx(x_img,latent_dim)\n",
    "    \n",
    "    # posterior on Y; probablistic regressor\n",
    "    r_mean, r_log_var = Regressor(z_mean,z_log_var,dim_r,latent_dim)\n",
    "\n",
    "    # use reparameterization trick to push the sampling out as input\n",
    "    z = Lambda(Nsampling, output_shape=(latent_dim,), name='z')([z_mean, z_log_var])\n",
    "    r = Lambda(Nsampling, output_shape=(1,),          name='r')([r_mean, r_log_var])\n",
    "\n",
    "    # instantiate encoder model\n",
    "    encoder = Model([input_image,input_r,x_aux], [z_mean, z_log_var, z, r_mean, r_log_var, r], name='encoder')\n",
    "    encoder.summary()\n",
    "    ############################## GENERATOR  #############################################\n",
    "    #######################################################################################\n",
    "    \n",
    "    # build generator model\n",
    "    generator_input     = Input(shape=(1,), name='generator_input')\n",
    "    pz_mean, pz_log_var = latent_generator(generator_input,latent_dim)\n",
    "    \n",
    "    # instantiate generator model\n",
    "    generator = Model(generator_input, [pz_mean,pz_log_var], name='generator')\n",
    "    generator.summary()    \n",
    "    \n",
    "    ################################ DECODER    ###########################################\n",
    "    #######################################################################################\n",
    "    \n",
    "    # build decoder model\n",
    "    latent_input = Input(shape=(latent_dim,), name='z_sampling')\n",
    "    outputs      = decodeNN(latent_input,dim_img,latent_dim,n_ft,L2_reg,reco_loss)\n",
    "\n",
    "    # instantiate decoder model\n",
    "    decoder = Model(latent_input, outputs, name='decoder')\n",
    "    decoder.summary()\n",
    "    \n",
    "    #######################################################################################\n",
    "    #######################################################################################\n",
    "    \n",
    "    # instantiate VAE model\n",
    "    pz_mean,pz_log_var = generator(encoder([input_image,input_r,x_aux])[5])\n",
    "    outputs            =   decoder(encoder([input_image,input_r,x_aux])[2])\n",
    "    \n",
    "    vae                = Model([input_image,input_r,x_aux], [outputs, pz_mean,pz_log_var], name='vae_mlp')\n",
    "    \n",
    "    #vae.summary()\n",
    "    return vae, encoder, decoder, generator, outputs, input_image, input_r, z_mean, z_log_var, z, r_mean, r_log_var, r, pz_mean, pz_log_var"
   ]
  },
  {
   "cell_type": "code",
   "execution_count": 23,
   "id": "ancient-equivalent",
   "metadata": {},
   "outputs": [],
   "source": [
    "##Customize Lost Function of the VAE Model\n",
    "#models = (encoder, decoder)\n",
    "def VAELoss(input_image,input_r,outputs,z_mean,z_log_var,z,r_mean,r_log_var,r,pz_mean,pz_log_var,reco_loss):\n",
    "\n",
    "    if reco_loss=='binary':\n",
    "        reconstruction_loss = K.mean(binary_crossentropy(input_image,outputs), axis=[1,2])\n",
    "    elif reco_loss=='mae':\n",
    "        reconstruction_loss = K.mean(mean_absolute_error(input_image,outputs), axis=[1,2])\n",
    "    elif reco_loss=='mse':\n",
    "        reconstruction_loss = K.mean(mse(input_image,outputs), axis=[1,2])\n",
    "    #elif reco_loss=='huber':\n",
    "    #    reconstruction_loss = lam*K.mean(mean_absolute_error(input_image,outputs), axis=[1,2])+(1-lam)*huber(input_image,outputs,delta=delta)\n",
    "\n",
    "    kl_loss = 1 + z_log_var - pz_log_var - tf.math.divide(K.square(z_mean-pz_mean),K.exp(pz_log_var)) - tf.math.divide(K.exp(z_log_var),K.exp(pz_log_var))\n",
    "    kl_loss = -0.5*K.sum(kl_loss, axis=-1)\n",
    "    \n",
    "    label_loss = tf.math.divide(0.5*K.square(r_mean - input_r), K.exp(r_log_var)) +  0.5 * r_log_var\n",
    "\n",
    "    beta = 1.25\n",
    "    vae_loss = K.mean(reconstruction_loss+kl_loss+beta*label_loss)\n",
    "    \n",
    "    return vae_loss"
   ]
  },
  {
   "cell_type": "markdown",
   "id": "retired-ticket",
   "metadata": {},
   "source": [
    "# SETTING THE PARAMETERS"
   ]
  },
  {
   "cell_type": "code",
   "execution_count": 27,
   "id": "related-falls",
   "metadata": {},
   "outputs": [],
   "source": [
    "# Setting the Hyperparameters\n",
    "## CNN Parameters \n",
    "# Drop out\n",
    "dp = 0.25\n",
    "# Number of Filters\n",
    "n_ft = 24 #24\n",
    "# Number of Conv Layers\n",
    "n_conv = 3 #3\n",
    "# Dimension of the Latent Space\n",
    "latent_dim = 24\n",
    "# L2 regularization\n",
    "L2_reg= 0\n",
    "# Learning Rate\n",
    "lr = 0.001 #2e-3\n",
    "# Epochs\n",
    "epochs = 10 #200\n",
    "# batch size\n",
    "batch_size = 32 #64\n",
    "\n",
    "# VAE-Loss\n",
    "# reco_loss = 'binary'\n",
    "reco_loss = 'mse' ## ANdres choice\n",
    "\n",
    "# augmentation/transfromation of images\n",
    "isAug = False # True\n",
    "isFlip= False\n",
    "isEdge= False\n",
    "aug_size = 3000\n",
    "\n",
    "# auxiliary variable\n",
    "isVar = True #False\n",
    "#aux_file = '../data/image_features_SST_MONO_Fe_p.csv'\n",
    "#aux_file = '/scratch/p305197/my-test/notebooks/VAE/data/image_features_SST_MONO_Fe_p.csv' ## For Andres's local folder\n",
    "aux_file = '/scratch/p305197/my-test/notebooks/VAE/hillas_param_SST_MONO_Fe_p.csv' ## For Andres's local folder\n",
    "#yX    = aux_features(aux_file)[:,:-2]\n",
    "yX    = XMAX_SST_Fe_p\n",
    "#n_aux = yX.shape[1]\n",
    "#n_aux = yX.shape[0]\n",
    "#print(c)"
   ]
  },
  {
   "cell_type": "code",
   "execution_count": 31,
   "id": "3e930548",
   "metadata": {},
   "outputs": [],
   "source": [
    "def normalize_Hillas_par(d2array):\n",
    "    \n",
    "    \n",
    "    #std_dev = np.std(input_list)\n",
    "    #mean = np.mean(input_list)\n",
    "    #normalised_input = (input_list - mean) / std_dev \n",
    "    #return normalised_input\n",
    "    new_2darray = []\n",
    "    \n",
    "    for i in range(np.shape(training_feature)[1]):\n",
    "        if i == 24:\n",
    "            continue\n",
    "        mean    = np.mean(d2array[:,i])\n",
    "        std_dev = np.std(d2array[:,i])\n",
    "        normalised_input = (d2array[:,i] - mean) / std_dev \n",
    "        new_2darray.append(normalised_input)\n",
    "    \n",
    "    new_2darray = np.asarray(new_2darray)\n",
    "    return np.transpose(new_2darray)"
   ]
  },
  {
   "cell_type": "code",
   "execution_count": null,
   "id": "9f35f168",
   "metadata": {},
   "outputs": [],
   "source": []
  },
  {
   "cell_type": "code",
   "execution_count": 29,
   "id": "bfd88c5a",
   "metadata": {},
   "outputs": [
    {
     "data": {
      "text/plain": [
       "((20000,), 20000)"
      ]
     },
     "execution_count": 29,
     "metadata": {},
     "output_type": "execute_result"
    }
   ],
   "source": [
    "np.shape(XMAX_SST_Fe_p), np.shape(XMAX_SST_Fe_p)[0]"
   ]
  },
  {
   "cell_type": "markdown",
   "id": "everyday-automation",
   "metadata": {},
   "source": [
    "# TRAIN/TEST SPLIT"
   ]
  },
  {
   "cell_type": "code",
   "execution_count": 33,
   "id": "enhanced-female",
   "metadata": {},
   "outputs": [
    {
     "name": "stdout",
     "output_type": "stream",
     "text": [
      "1111adsadasdas\n",
      "asdadadasdasdasdas\n",
      "SST-MONO-p+Fe [48, 48] 1\n"
     ]
    }
   ],
   "source": [
    "# PARTICLE AND CASE\n",
    "part = 'p+Fe'\n",
    "caso = 'SST-MONO-'\n",
    "\n",
    "dim_r = 1\n",
    "\n",
    "if part=='p':\n",
    "    caso = caso+part\n",
    "    fold = 'Energy/Proton/'\n",
    "elif part=='Fe':\n",
    "    caso = caso+part\n",
    "    fold = 'Energy/Iron/'\n",
    "    \n",
    "elif part=='p+Fe':\n",
    "    caso = caso+part\n",
    "    fold = 'Energy/Iron+Proton/'\n",
    "    print('1111adsadasdas')\n",
    "\n",
    "if caso=='SST-MONO-Fe':\n",
    "    leg = r'Iron, $48\\times 48$, Mono'\n",
    "    data_images = normalize_img(imgs_SST_MONO_Fe)\n",
    "    dim_img = [data_images.shape[1],data_images.shape[2]]\n",
    "    yE = np.log(E_SST_Fe)\n",
    "    yX = aux_features(aux_file)[:,:-2] #not including E,Xmax\n",
    "    \n",
    "elif caso=='SST-STER-Fe':\n",
    "    leg = r'Iron, $48\\times 48$, Stereo'\n",
    "    data_images = normalize_img(imgs_SST_STER_Fe)\n",
    "    dim_img = [data_images.shape[1],data_images.shape[2]]\n",
    "    yE = np.log(E_SST_Fe)\n",
    "    yX = aux_features(aux_file)[:,:-2] #not including E,Xmax\n",
    "    \n",
    "elif caso=='MST-MONO-Fe':\n",
    "    leg = r'Iron, $112\\times 112$, Mono'\n",
    "    data_images = normalize_img(imgs_MST_MONO_Fe)\n",
    "    dim_img = [data_images.shape[1],data_images.shape[2]]\n",
    "    yE = np.log(E_MST_Fe)\n",
    "    yX = aux_features(aux_file)[:,:-2] #not including E,Xmax\n",
    "    \n",
    "elif caso=='MST-STER-Fe':\n",
    "    leg = r'Iron, $112\\times 112$, Stereo'\n",
    "    data_images = normalize_img(imgs_MST_STER_Fe)\n",
    "    dim_img = [data_images.shape[1],data_images.shape[2]]\n",
    "    yE = np.log(E_MST_Fe)\n",
    "    yX = aux_features(aux_file)[:,:-2] #not including E,Xmax\n",
    "    \n",
    "elif caso=='SST-MONO-p':\n",
    "    leg = r'Proton, $48\\times 48$, Mono'\n",
    "    data_images = normalize_img(imgs_SST_MONO_p)\n",
    "    dim_img = [data_images.shape[1],data_images.shape[2]]\n",
    "    yE = np.log(E_SST_p)\n",
    "    yX = aux_features(aux_file)[:,:-2] #not including E,Xmax\n",
    "    \n",
    "elif caso=='SST-STER-p':\n",
    "    leg = r'Proton, $48\\times 48$, Stereo'\n",
    "    data_images = normalize_img(imgs_SST_STER_p)\n",
    "    dim_img = [data_images.shape[1],data_images.shape[2]]\n",
    "    yE = np.log(E_SST_p)\n",
    "    yX = aux_features(aux_file)[:,:-2] #not including E,Xmax\n",
    "    \n",
    "elif caso=='MST-MONO-p':\n",
    "    leg = r'Proton, $112\\times 112$, Mono'\n",
    "    data_images = normalize_img(imgs_MST_MONO_p)\n",
    "    dim_img = [data_images.shape[1],data_images.shape[2]]\n",
    "    yE = np.log(E_MST_p)\n",
    "    yX = aux_features(aux_file)[:,:-2] #not including E,Xmax\n",
    "    \n",
    "elif caso=='MST-STER-p':\n",
    "    leg = r'Proton, $112\\times 112$, Stereo'\n",
    "    data_images = normalize_img(imgs_MST_STER_p)\n",
    "    dim_img = [data_images.shape[1],data_images.shape[2]]\n",
    "    yE = np.log(E_MST_p)  \n",
    "    yX = aux_features(aux_file)[:,:-2] #not including E,Xmax\n",
    "    \n",
    "elif caso=='SST-MONO-p+Fe':\n",
    "    leg = r'Iron+Proton, $48\\times 48$, Mono'\n",
    "    data_images = normalize_img(imgs_SST_MONO_Fe_p)\n",
    "    dim_img = [data_images.shape[1],data_images.shape[2]]\n",
    "    yE = np.log(E_SST_Fe_p)\n",
    "    yE = E_SST_Fe_p\n",
    "    #yX = aux_features(aux_file)[:,:-2] #not including E,Xmax\n",
    "    yX = XMAX_SST_Fe_p\n",
    "    print('asdadadasdasdasdas')\n",
    "    \n",
    "elif caso=='SST-STER-p+Fe':\n",
    "    leg = r'Iron+Proton, $48\\times 48$, Stereo'\n",
    "    data_images = normalize_img(imgs_SST_STER_Fe_p)\n",
    "    dim_img = [data_images.shape[1],data_images.shape[2]]\n",
    "    yE = np.log(E_SST_Fe_p)\n",
    "    yX = aux_features(aux_file)[:,:-2] #not including E,Xmax\n",
    "    \n",
    "elif caso=='MST-MONO-p+Fe':\n",
    "    leg = r'Iron+Proton, $112\\times 112$, Mono'\n",
    "    data_images = normalize_img(imgs_MST_MONO_Fe_p)\n",
    "    dim_img = [data_images.shape[1],data_images.shape[2]]\n",
    "    yE = np.log(E_MST_Fe_p)\n",
    "    yX = aux_features(aux_file)[:,:-2] #not including E,Xmax\n",
    "    \n",
    "elif caso=='MST-STER-p+Fe':\n",
    "    leg = r'Iron+Proton, $112\\times 112$, Stereo'\n",
    "    data_images = normalize_img(imgs_MST_STER_Fe_p)\n",
    "    dim_img = [data_images.shape[1],data_images.shape[2]]\n",
    "    yE = np.log(E_MST_Fe_p)\n",
    "    yX = aux_features(aux_file)[:,:-2] #not including E,Xmax\n",
    "\n",
    "print(caso, dim_img, dim_r)\n",
    "fake = np.zeros((data_images.shape[0]))\n",
    "pred = np.zeros((yE.shape))"
   ]
  },
  {
   "cell_type": "code",
   "execution_count": null,
   "id": "11ff4575",
   "metadata": {},
   "outputs": [],
   "source": []
  },
  {
   "cell_type": "code",
   "execution_count": 34,
   "id": "9a003746",
   "metadata": {},
   "outputs": [
    {
     "data": {
      "text/plain": [
       "(299.6600036621094, 1.0016049146652222)"
      ]
     },
     "execution_count": 34,
     "metadata": {},
     "output_type": "execute_result"
    }
   ],
   "source": [
    "max(yE), min(yE)"
   ]
  },
  {
   "cell_type": "code",
   "execution_count": 35,
   "id": "abstract-wheel",
   "metadata": {},
   "outputs": [],
   "source": [
    "def conv(arg):\n",
    "    arg = tf.convert_to_tensor(arg, dtype=tf.float32)\n",
    "    return arg"
   ]
  },
  {
   "cell_type": "code",
   "execution_count": 36,
   "id": "3dab529c",
   "metadata": {},
   "outputs": [
    {
     "data": {
      "text/plain": [
       "((20000, 48, 48, 1), (20000,))"
      ]
     },
     "execution_count": 36,
     "metadata": {},
     "output_type": "execute_result"
    }
   ],
   "source": [
    "np.shape(data_images), np.shape(yX)"
   ]
  },
  {
   "cell_type": "code",
   "execution_count": 37,
   "id": "e0ee5d7c",
   "metadata": {},
   "outputs": [
    {
     "data": {
      "text/plain": [
       "'SST-MONO-p+Fe'"
      ]
     },
     "execution_count": 37,
     "metadata": {},
     "output_type": "execute_result"
    }
   ],
   "source": [
    "caso"
   ]
  },
  {
   "cell_type": "code",
   "execution_count": 38,
   "id": "e229f14e",
   "metadata": {},
   "outputs": [],
   "source": [
    "# Train/Test split\n",
    "rs = 42\n",
    "if isEdge:\n",
    "    #data_images = median_filter(data_images,2)\n",
    "    data_images = enhance_edges(data_images)\n",
    "    \n",
    "train_data, test_data, train_e, test_e = train_test_split(data_images,yE,test_size=0.33,\n",
    "                                                          shuffle=True,random_state=rs)\n",
    "\n",
    "_, _, train_xmax, test_xmax            = train_test_split(data_images,yX,test_size=0.33,\n",
    "                                                          shuffle=True,random_state=rs)\n",
    "\n",
    "train_xmax = conv(train_xmax)\n",
    "#input_cVar = conv(train_xmax)\n",
    "input_cVar = conv(train_e)\n",
    "\n",
    "\n",
    "# augment data\n",
    "if isAug:\n",
    "    caso = caso+'-aug'\n",
    "    #train_data_aug, train_e_aug = augment_by_transformation(train_data,train_e,augment_size,isFlip,1)\n",
    "    train_data_aug, train_e_aug = augment_mixup(train_data,train_e,aug_size,1)\n",
    "    train_e_aug = conv(train_e_aug)\n",
    "    input_cVar  = conv(train_e_aug)\n",
    "    if isVar:\n",
    "        caso = caso+'-xmax'\n",
    "        _, train_xmax_aug = augment_mixup(train_data,train_xmax,aug_size,n_aux)\n",
    "        train_xmax_aug = conv(train_xmax_aug)\n",
    "        input_cVar     = conv(train_xmax_aug)\n",
    "\n",
    "# auxiliary variable\n",
    "if not isAug and isVar:\n",
    "    caso = caso+'-xmax'\n",
    "    _, _, train_xmax, test_xmax = train_test_split(data_images,yX,test_size=0.2,shuffle=True,random_state=rs)\n",
    "    train_xmax = conv(train_xmax)\n",
    "    input_cVar = conv(train_xmax)"
   ]
  },
  {
   "cell_type": "code",
   "execution_count": 39,
   "id": "082e7396",
   "metadata": {},
   "outputs": [
    {
     "data": {
      "text/plain": [
       "((13400, 48, 48, 1),\n",
       " (6600, 48, 48, 1),\n",
       " (13400,),\n",
       " (6600,),\n",
       " TensorShape([16000]),\n",
       " (4000,))"
      ]
     },
     "execution_count": 39,
     "metadata": {},
     "output_type": "execute_result"
    }
   ],
   "source": [
    "np.shape(train_data), np.shape(test_data), np.shape(train_e), np.shape(test_e), np.shape(train_xmax), np.shape(test_xmax), "
   ]
  },
  {
   "cell_type": "code",
   "execution_count": 40,
   "id": "190b2298",
   "metadata": {},
   "outputs": [],
   "source": [
    "n_aux = 1"
   ]
  },
  {
   "cell_type": "code",
   "execution_count": 41,
   "id": "20ebdf69",
   "metadata": {},
   "outputs": [
    {
     "ename": "NameError",
     "evalue": "name 'train_data_aug' is not defined",
     "output_type": "error",
     "traceback": [
      "\u001b[0;31m---------------------------------------------------------------------------\u001b[0m",
      "\u001b[0;31mNameError\u001b[0m                                 Traceback (most recent call last)",
      "Cell \u001b[0;32mIn[41], line 1\u001b[0m\n\u001b[0;32m----> 1\u001b[0m \u001b[38;5;28mprint\u001b[39m(train_data\u001b[38;5;241m.\u001b[39mshape,\u001b[43mtrain_data_aug\u001b[49m\u001b[38;5;241m.\u001b[39mshape)\n\u001b[1;32m      2\u001b[0m \u001b[38;5;28mprint\u001b[39m(train_e_aug\u001b[38;5;241m.\u001b[39mshape)\n",
      "\u001b[0;31mNameError\u001b[0m: name 'train_data_aug' is not defined"
     ]
    }
   ],
   "source": [
    "print(train_data.shape,train_data_aug.shape)\n",
    "print(train_e_aug.shape)"
   ]
  },
  {
   "cell_type": "code",
   "execution_count": 43,
   "id": "30b3dd08",
   "metadata": {},
   "outputs": [
    {
     "name": "stdout",
     "output_type": "stream",
     "text": [
      "Model: \"encoder\"\n",
      "__________________________________________________________________________________________________\n",
      " Layer (type)                   Output Shape         Param #     Connected to                     \n",
      "==================================================================================================\n",
      " input_image (InputLayer)       [(None, 48, 48, 1)]  0           []                               \n",
      "                                                                                                  \n",
      " conv2d_8 (Conv2D)              (None, 48, 48, 24)   240         ['input_image[0][0]']            \n",
      "                                                                                                  \n",
      " max_pooling2d_4 (MaxPooling2D)  (None, 24, 24, 24)  0           ['conv2d_8[0][0]']               \n",
      "                                                                                                  \n",
      " dropout_6 (Dropout)            (None, 24, 24, 24)   0           ['max_pooling2d_4[0][0]']        \n",
      "                                                                                                  \n",
      " conv2d_9 (Conv2D)              (None, 24, 24, 24)   5208        ['dropout_6[0][0]']              \n",
      "                                                                                                  \n",
      " max_pooling2d_5 (MaxPooling2D)  (None, 12, 12, 24)  0           ['conv2d_9[0][0]']               \n",
      "                                                                                                  \n",
      " dropout_7 (Dropout)            (None, 12, 12, 24)   0           ['max_pooling2d_5[0][0]']        \n",
      "                                                                                                  \n",
      " conv2d_10 (Conv2D)             (None, 12, 12, 24)   5208        ['dropout_7[0][0]']              \n",
      "                                                                                                  \n",
      " max_pooling2d_6 (MaxPooling2D)  (None, 6, 6, 24)    0           ['conv2d_10[0][0]']              \n",
      "                                                                                                  \n",
      " dropout_8 (Dropout)            (None, 6, 6, 24)     0           ['max_pooling2d_6[0][0]']        \n",
      "                                                                                                  \n",
      " conv2d_11 (Conv2D)             (None, 6, 6, 24)     5208        ['dropout_8[0][0]']              \n",
      "                                                                                                  \n",
      " max_pooling2d_7 (MaxPooling2D)  (None, 3, 3, 24)    0           ['conv2d_11[0][0]']              \n",
      "                                                                                                  \n",
      " dropout_9 (Dropout)            (None, 3, 3, 24)     0           ['max_pooling2d_7[0][0]']        \n",
      "                                                                                                  \n",
      " flatten_1 (Flatten)            (None, 216)          0           ['dropout_9[0][0]']              \n",
      "                                                                                                  \n",
      " Auxiliar (InputLayer)          [(None, 1)]          0           []                               \n",
      "                                                                                                  \n",
      " concatenate_2 (Concatenate)    (None, 217)          0           ['flatten_1[0][0]',              \n",
      "                                                                  'Auxiliar[0][0]']               \n",
      "                                                                                                  \n",
      " dense_6 (Dense)                (None, 24)           5232        ['concatenate_2[0][0]']          \n",
      "                                                                                                  \n",
      " dropout_10 (Dropout)           (None, 24)           0           ['dense_6[0][0]']                \n",
      "                                                                                                  \n",
      " dense_7 (Dense)                (None, 48)           1200        ['dropout_10[0][0]']             \n",
      "                                                                                                  \n",
      " dropout_11 (Dropout)           (None, 48)           0           ['dense_7[0][0]']                \n",
      "                                                                                                  \n",
      " dense_8 (Dense)                (None, 96)           4704        ['dropout_11[0][0]']             \n",
      "                                                                                                  \n",
      " z_mean_1 (Dense)               (None, 96)           9312        ['dense_8[0][0]']                \n",
      "                                                                                                  \n",
      " z_log_var_1 (Dense)            (None, 96)           9312        ['dense_8[0][0]']                \n",
      "                                                                                                  \n",
      " z_mean_2 (Dense)               (None, 24)           2328        ['z_mean_1[0][0]']               \n",
      "                                                                                                  \n",
      " z_log_var_2 (Dense)            (None, 24)           2328        ['z_log_var_1[0][0]']            \n",
      "                                                                                                  \n",
      " concatenate_3 (Concatenate)    (None, 48)           0           ['z_mean_2[0][0]',               \n",
      "                                                                  'z_log_var_2[0][0]']            \n",
      "                                                                                                  \n",
      " r_mean_1 (Dense)               (None, 192)          9408        ['concatenate_3[0][0]']          \n",
      "                                                                                                  \n",
      " r_log_var_1 (Dense)            (None, 192)          9408        ['concatenate_3[0][0]']          \n",
      "                                                                                                  \n",
      " r_mean (Dense)                 (None, 1)            193         ['r_mean_1[0][0]']               \n",
      "                                                                                                  \n",
      " r_log_var (Dense)              (None, 1)            193         ['r_log_var_1[0][0]']            \n",
      "                                                                                                  \n",
      " ground_truth (InputLayer)      [(None, 1)]          0           []                               \n",
      "                                                                                                  \n",
      " z (Lambda)                     (None, 24)           0           ['z_mean_2[0][0]',               \n",
      "                                                                  'z_log_var_2[0][0]']            \n",
      "                                                                                                  \n",
      " r (Lambda)                     (None, 1)            0           ['r_mean[0][0]',                 \n",
      "                                                                  'r_log_var[0][0]']              \n",
      "                                                                                                  \n",
      "==================================================================================================\n",
      "Total params: 69,482\n",
      "Trainable params: 69,482\n",
      "Non-trainable params: 0\n",
      "__________________________________________________________________________________________________\n",
      "Model: \"generator\"\n",
      "__________________________________________________________________________________________________\n",
      " Layer (type)                   Output Shape         Param #     Connected to                     \n",
      "==================================================================================================\n",
      " generator_input (InputLayer)   [(None, 1)]          0           []                               \n",
      "                                                                                                  \n",
      " inter_z_1 (Dense)              (None, 24)           48          ['generator_input[0][0]']        \n",
      "                                                                                                  \n",
      " pz_mean (Dense)                (None, 24)           600         ['inter_z_1[0][0]']              \n",
      "                                                                                                  \n",
      " pz_log_var (Dense)             (None, 24)           48          ['generator_input[0][0]']        \n",
      "                                                                                                  \n",
      "==================================================================================================\n",
      "Total params: 696\n",
      "Trainable params: 696\n",
      "Non-trainable params: 0\n",
      "__________________________________________________________________________________________________\n",
      "Model: \"decoder\"\n",
      "_________________________________________________________________\n",
      " Layer (type)                Output Shape              Param #   \n",
      "=================================================================\n",
      " z_sampling (InputLayer)     [(None, 24)]              0         \n",
      "                                                                 \n",
      " dense_9 (Dense)             (None, 48)                1200      \n",
      "                                                                 \n",
      " dense_10 (Dense)            (None, 96)                4704      \n",
      "                                                                 \n",
      " dense_11 (Dense)            (None, 3456)              335232    \n",
      "                                                                 \n",
      " reshape_1 (Reshape)         (None, 6, 6, 96)          0         \n",
      "                                                                 \n",
      " conv2d_12 (Conv2D)          (None, 6, 6, 96)          83040     \n",
      "                                                                 \n",
      " batch_normalization_3 (Batc  (None, 6, 6, 96)         384       \n",
      " hNormalization)                                                 \n",
      "                                                                 \n",
      " activation_3 (Activation)   (None, 6, 6, 96)          0         \n",
      "                                                                 \n",
      " up_sampling2d_3 (UpSampling  (None, 12, 12, 96)       0         \n",
      " 2D)                                                             \n",
      "                                                                 \n",
      " conv2d_13 (Conv2D)          (None, 12, 12, 48)        41520     \n",
      "                                                                 \n",
      " batch_normalization_4 (Batc  (None, 12, 12, 48)       192       \n",
      " hNormalization)                                                 \n",
      "                                                                 \n",
      " activation_4 (Activation)   (None, 12, 12, 48)        0         \n",
      "                                                                 \n",
      " up_sampling2d_4 (UpSampling  (None, 24, 24, 48)       0         \n",
      " 2D)                                                             \n",
      "                                                                 \n",
      " conv2d_14 (Conv2D)          (None, 24, 24, 24)        10392     \n",
      "                                                                 \n",
      " batch_normalization_5 (Batc  (None, 24, 24, 24)       96        \n",
      " hNormalization)                                                 \n",
      "                                                                 \n",
      " activation_5 (Activation)   (None, 24, 24, 24)        0         \n",
      "                                                                 \n",
      " up_sampling2d_5 (UpSampling  (None, 48, 48, 24)       0         \n",
      " 2D)                                                             \n",
      "                                                                 \n",
      " conv2d_15 (Conv2D)          (None, 48, 48, 1)         217       \n",
      "                                                                 \n",
      "=================================================================\n",
      "Total params: 476,977\n",
      "Trainable params: 476,641\n",
      "Non-trainable params: 336\n",
      "_________________________________________________________________\n"
     ]
    },
    {
     "name": "stdout",
     "output_type": "stream",
     "text": [
      "Model: \"vae_mlp\"\n",
      "__________________________________________________________________________________________________\n",
      " Layer (type)                   Output Shape         Param #     Connected to                     \n",
      "==================================================================================================\n",
      " input_image (InputLayer)       [(None, 48, 48, 1)]  0           []                               \n",
      "                                                                                                  \n",
      " ground_truth (InputLayer)      [(None, 1)]          0           []                               \n",
      "                                                                                                  \n",
      " Auxiliar (InputLayer)          [(None, 1)]          0           []                               \n",
      "                                                                                                  \n",
      " encoder (Functional)           [(None, 24),         69482       ['input_image[0][0]',            \n",
      "                                 (None, 24),                      'ground_truth[0][0]',           \n",
      "                                 (None, 24),                      'Auxiliar[0][0]',               \n",
      "                                 (None, 1),                       'input_image[0][0]',            \n",
      "                                 (None, 1),                       'ground_truth[0][0]',           \n",
      "                                 (None, 1)]                       'Auxiliar[0][0]']               \n",
      "                                                                                                  \n",
      " decoder (Functional)           (None, 48, 48, 1)    476977      ['encoder[1][2]']                \n",
      "                                                                                                  \n",
      " generator (Functional)         [(None, 24),         696         ['encoder[0][5]']                \n",
      "                                 (None, 24)]                                                      \n",
      "                                                                                                  \n",
      " conv2d_8 (Conv2D)              (None, 48, 48, 24)   240         ['input_image[0][0]']            \n",
      "                                                                                                  \n",
      " max_pooling2d_4 (MaxPooling2D)  (None, 24, 24, 24)  0           ['conv2d_8[0][0]']               \n",
      "                                                                                                  \n",
      " dropout_6 (Dropout)            (None, 24, 24, 24)   0           ['max_pooling2d_4[0][0]']        \n",
      "                                                                                                  \n",
      " conv2d_9 (Conv2D)              (None, 24, 24, 24)   5208        ['dropout_6[0][0]']              \n",
      "                                                                                                  \n",
      " max_pooling2d_5 (MaxPooling2D)  (None, 12, 12, 24)  0           ['conv2d_9[0][0]']               \n",
      "                                                                                                  \n",
      " dropout_7 (Dropout)            (None, 12, 12, 24)   0           ['max_pooling2d_5[0][0]']        \n",
      "                                                                                                  \n",
      " conv2d_10 (Conv2D)             (None, 12, 12, 24)   5208        ['dropout_7[0][0]']              \n",
      "                                                                                                  \n",
      " max_pooling2d_6 (MaxPooling2D)  (None, 6, 6, 24)    0           ['conv2d_10[0][0]']              \n",
      "                                                                                                  \n",
      " dropout_8 (Dropout)            (None, 6, 6, 24)     0           ['max_pooling2d_6[0][0]']        \n",
      "                                                                                                  \n",
      " conv2d_11 (Conv2D)             (None, 6, 6, 24)     5208        ['dropout_8[0][0]']              \n",
      "                                                                                                  \n",
      " max_pooling2d_7 (MaxPooling2D)  (None, 3, 3, 24)    0           ['conv2d_11[0][0]']              \n",
      "                                                                                                  \n",
      " dropout_9 (Dropout)            (None, 3, 3, 24)     0           ['max_pooling2d_7[0][0]']        \n",
      "                                                                                                  \n",
      " flatten_1 (Flatten)            (None, 216)          0           ['dropout_9[0][0]']              \n",
      "                                                                                                  \n",
      " concatenate_2 (Concatenate)    (None, 217)          0           ['flatten_1[0][0]',              \n",
      "                                                                  'Auxiliar[0][0]']               \n",
      "                                                                                                  \n",
      " dense_6 (Dense)                (None, 24)           5232        ['concatenate_2[0][0]']          \n",
      "                                                                                                  \n",
      " dropout_10 (Dropout)           (None, 24)           0           ['dense_6[0][0]']                \n",
      "                                                                                                  \n",
      " dense_7 (Dense)                (None, 48)           1200        ['dropout_10[0][0]']             \n",
      "                                                                                                  \n",
      " dropout_11 (Dropout)           (None, 48)           0           ['dense_7[0][0]']                \n",
      "                                                                                                  \n",
      " dense_8 (Dense)                (None, 96)           4704        ['dropout_11[0][0]']             \n",
      "                                                                                                  \n",
      " z_log_var_1 (Dense)            (None, 96)           9312        ['dense_8[0][0]']                \n",
      "                                                                                                  \n",
      " z_mean_1 (Dense)               (None, 96)           9312        ['dense_8[0][0]']                \n",
      "                                                                                                  \n",
      " z_log_var_2 (Dense)            (None, 24)           2328        ['z_log_var_1[0][0]']            \n",
      "                                                                                                  \n",
      " z_mean_2 (Dense)               (None, 24)           2328        ['z_mean_1[0][0]']               \n",
      "                                                                                                  \n",
      " concatenate_3 (Concatenate)    (None, 48)           0           ['z_mean_2[0][0]',               \n",
      "                                                                  'z_log_var_2[0][0]']            \n",
      "                                                                                                  \n",
      " tf.math.subtract_6 (TFOpLambda  (None, 24)          0           ['z_mean_2[0][0]',               \n",
      " )                                                                'generator[0][0]']              \n",
      "                                                                                                  \n",
      " r_mean_1 (Dense)               (None, 192)          9408        ['concatenate_3[0][0]']          \n",
      "                                                                                                  \n",
      " tf.__operators__.add_4 (TFOpLa  (None, 24)          0           ['z_log_var_2[0][0]']            \n",
      " mbda)                                                                                            \n",
      "                                                                                                  \n",
      " tf.math.square_2 (TFOpLambda)  (None, 24)           0           ['tf.math.subtract_6[0][0]']     \n",
      "                                                                                                  \n",
      " tf.math.exp_4 (TFOpLambda)     (None, 24)           0           ['generator[0][1]']              \n",
      "                                                                                                  \n",
      " r_mean (Dense)                 (None, 1)            193         ['r_mean_1[0][0]']               \n",
      "                                                                                                  \n",
      " tf.math.subtract_5 (TFOpLambda  (None, 24)          0           ['tf.__operators__.add_4[0][0]', \n",
      " )                                                                'generator[0][1]']              \n",
      "                                                                                                  \n",
      " tf.math.truediv_3 (TFOpLambda)  (None, 24)          0           ['tf.math.square_2[0][0]',       \n",
      "                                                                  'tf.math.exp_4[0][0]']          \n",
      "                                                                                                  \n",
      " tf.math.exp_5 (TFOpLambda)     (None, 24)           0           ['z_log_var_2[0][0]']            \n",
      "                                                                                                  \n",
      " tf.math.exp_6 (TFOpLambda)     (None, 24)           0           ['generator[0][1]']              \n",
      "                                                                                                  \n",
      " tf.math.subtract_9 (TFOpLambda  (None, 1)           0           ['r_mean[0][0]',                 \n",
      " )                                                                'ground_truth[0][0]']           \n",
      "                                                                                                  \n",
      " r_log_var_1 (Dense)            (None, 192)          9408        ['concatenate_3[0][0]']          \n",
      "                                                                                                  \n",
      " tf.convert_to_tensor_1 (TFOpLa  (None, 48, 48, 1)   0           ['decoder[0][0]']                \n",
      " mbda)                                                                                            \n",
      "                                                                                                  \n",
      " tf.cast_1 (TFOpLambda)         (None, 48, 48, 1)    0           ['input_image[0][0]']            \n",
      "                                                                                                  \n",
      " tf.math.subtract_7 (TFOpLambda  (None, 24)          0           ['tf.math.subtract_5[0][0]',     \n",
      " )                                                                'tf.math.truediv_3[0][0]']      \n",
      "                                                                                                  \n",
      " tf.math.truediv_4 (TFOpLambda)  (None, 24)          0           ['tf.math.exp_5[0][0]',          \n",
      "                                                                  'tf.math.exp_6[0][0]']          \n",
      "                                                                                                  \n",
      " tf.math.square_3 (TFOpLambda)  (None, 1)            0           ['tf.math.subtract_9[0][0]']     \n",
      "                                                                                                  \n",
      " r_log_var (Dense)              (None, 1)            193         ['r_log_var_1[0][0]']            \n",
      "                                                                                                  \n",
      " tf.math.squared_difference_1 (  (None, 48, 48, 1)   0           ['tf.convert_to_tensor_1[0][0]', \n",
      " TFOpLambda)                                                      'tf.cast_1[0][0]']              \n",
      "                                                                                                  \n",
      " tf.math.subtract_8 (TFOpLambda  (None, 24)          0           ['tf.math.subtract_7[0][0]',     \n",
      " )                                                                'tf.math.truediv_4[0][0]']      \n",
      "                                                                                                  \n",
      " tf.math.multiply_5 (TFOpLambda  (None, 1)           0           ['tf.math.square_3[0][0]']       \n",
      " )                                                                                                \n",
      "                                                                                                  \n",
      " tf.math.exp_7 (TFOpLambda)     (None, 1)            0           ['r_log_var[0][0]']              \n",
      "                                                                                                  \n",
      " tf.math.reduce_mean_3 (TFOpLam  (None, 48, 48)      0           ['tf.math.squared_difference_1[0]\n",
      " bda)                                                            [0]']                            \n",
      "                                                                                                  \n",
      " tf.math.reduce_sum_1 (TFOpLamb  (None,)             0           ['tf.math.subtract_8[0][0]']     \n",
      " da)                                                                                              \n",
      "                                                                                                  \n",
      " tf.math.truediv_5 (TFOpLambda)  (None, 1)           0           ['tf.math.multiply_5[0][0]',     \n",
      "                                                                  'tf.math.exp_7[0][0]']          \n",
      "                                                                                                  \n",
      " tf.math.multiply_6 (TFOpLambda  (None, 1)           0           ['r_log_var[0][0]']              \n",
      " )                                                                                                \n",
      "                                                                                                  \n",
      " tf.math.reduce_mean_4 (TFOpLam  (None,)             0           ['tf.math.reduce_mean_3[0][0]']  \n",
      " bda)                                                                                             \n",
      "                                                                                                  \n",
      " tf.math.multiply_4 (TFOpLambda  (None,)             0           ['tf.math.reduce_sum_1[0][0]']   \n",
      " )                                                                                                \n",
      "                                                                                                  \n",
      " tf.__operators__.add_5 (TFOpLa  (None, 1)           0           ['tf.math.truediv_5[0][0]',      \n",
      " mbda)                                                            'tf.math.multiply_6[0][0]']     \n",
      "                                                                                                  \n",
      " tf.__operators__.add_6 (TFOpLa  (None,)             0           ['tf.math.reduce_mean_4[0][0]',  \n",
      " mbda)                                                            'tf.math.multiply_4[0][0]']     \n",
      "                                                                                                  \n",
      " tf.math.multiply_7 (TFOpLambda  (None, 1)           0           ['tf.__operators__.add_5[0][0]'] \n",
      " )                                                                                                \n",
      "                                                                                                  \n",
      " tf.__operators__.add_7 (TFOpLa  (None, None)        0           ['tf.__operators__.add_6[0][0]', \n",
      " mbda)                                                            'tf.math.multiply_7[0][0]']     \n",
      "                                                                                                  \n",
      " tf.math.reduce_mean_5 (TFOpLam  ()                  0           ['tf.__operators__.add_7[0][0]'] \n",
      " bda)                                                                                             \n",
      "                                                                                                  \n",
      " add_loss_1 (AddLoss)           ()                   0           ['tf.math.reduce_mean_5[0][0]']  \n",
      "                                                                                                  \n",
      "==================================================================================================\n",
      "Total params: 547,155\n",
      "Trainable params: 546,819\n",
      "Non-trainable params: 336\n",
      "__________________________________________________________________________________________________\n",
      "Epoch 1/10\n"
     ]
    },
    {
     "name": "stdout",
     "output_type": "stream",
     "text": [
      "\n",
      "Epoch 00001: val_loss improved from inf to 53.29509, saving model to VAE/Energy/Iron+Proton/e_best_weights_SST-MONO-p+Fe-xmax.h5\n",
      "315/315 - 8s - loss: 167.1104 - decoder_mae: 0.0000e+00 - decoder_mse: 0.0000e+00 - generator_mae: 0.0000e+00 - generator_mse: 0.0000e+00 - generator_1_mae: 0.0000e+00 - generator_1_mse: 0.0000e+00 - val_loss: 53.2951 - val_decoder_mae: 0.0000e+00 - val_decoder_mse: 0.0000e+00 - val_generator_mae: 0.0000e+00 - val_generator_mse: 0.0000e+00 - val_generator_1_mae: 0.0000e+00 - val_generator_1_mse: 0.0000e+00 - 8s/epoch - 25ms/step\n",
      "Epoch 2/10\n",
      "\n",
      "Epoch 00002: val_loss improved from 53.29509 to 37.05336, saving model to VAE/Energy/Iron+Proton/e_best_weights_SST-MONO-p+Fe-xmax.h5\n",
      "315/315 - 2s - loss: 62.1831 - decoder_mae: 0.0000e+00 - decoder_mse: 0.0000e+00 - generator_mae: 0.0000e+00 - generator_mse: 0.0000e+00 - generator_1_mae: 0.0000e+00 - generator_1_mse: 0.0000e+00 - val_loss: 37.0534 - val_decoder_mae: 0.0000e+00 - val_decoder_mse: 0.0000e+00 - val_generator_mae: 0.0000e+00 - val_generator_mse: 0.0000e+00 - val_generator_1_mae: 0.0000e+00 - val_generator_1_mse: 0.0000e+00 - 2s/epoch - 8ms/step\n",
      "Epoch 3/10\n",
      "\n",
      "Epoch 00003: val_loss did not improve from 37.05336\n",
      "315/315 - 2s - loss: 184.1948 - decoder_mae: 0.0000e+00 - decoder_mse: 0.0000e+00 - generator_mae: 0.0000e+00 - generator_mse: 0.0000e+00 - generator_1_mae: 0.0000e+00 - generator_1_mse: 0.0000e+00 - val_loss: 69.5860 - val_decoder_mae: 0.0000e+00 - val_decoder_mse: 0.0000e+00 - val_generator_mae: 0.0000e+00 - val_generator_mse: 0.0000e+00 - val_generator_1_mae: 0.0000e+00 - val_generator_1_mse: 0.0000e+00 - 2s/epoch - 8ms/step\n",
      "Epoch 4/10\n",
      "\n",
      "Epoch 00004: val_loss improved from 37.05336 to 32.02259, saving model to VAE/Energy/Iron+Proton/e_best_weights_SST-MONO-p+Fe-xmax.h5\n",
      "315/315 - 2s - loss: 58.4380 - decoder_mae: 0.0000e+00 - decoder_mse: 0.0000e+00 - generator_mae: 0.0000e+00 - generator_mse: 0.0000e+00 - generator_1_mae: 0.0000e+00 - generator_1_mse: 0.0000e+00 - val_loss: 32.0226 - val_decoder_mae: 0.0000e+00 - val_decoder_mse: 0.0000e+00 - val_generator_mae: 0.0000e+00 - val_generator_mse: 0.0000e+00 - val_generator_1_mae: 0.0000e+00 - val_generator_1_mse: 0.0000e+00 - 2s/epoch - 8ms/step\n",
      "Epoch 5/10\n",
      "\n",
      "Epoch 00005: val_loss improved from 32.02259 to 28.54275, saving model to VAE/Energy/Iron+Proton/e_best_weights_SST-MONO-p+Fe-xmax.h5\n",
      "315/315 - 2s - loss: 108.8429 - decoder_mae: 0.0000e+00 - decoder_mse: 0.0000e+00 - generator_mae: 0.0000e+00 - generator_mse: 0.0000e+00 - generator_1_mae: 0.0000e+00 - generator_1_mse: 0.0000e+00 - val_loss: 28.5427 - val_decoder_mae: 0.0000e+00 - val_decoder_mse: 0.0000e+00 - val_generator_mae: 0.0000e+00 - val_generator_mse: 0.0000e+00 - val_generator_1_mae: 0.0000e+00 - val_generator_1_mse: 0.0000e+00 - 2s/epoch - 8ms/step\n",
      "Epoch 6/10\n",
      "\n",
      "Epoch 00006: val_loss did not improve from 28.54275\n",
      "315/315 - 2s - loss: 40.9031 - decoder_mae: 0.0000e+00 - decoder_mse: 0.0000e+00 - generator_mae: 0.0000e+00 - generator_mse: 0.0000e+00 - generator_1_mae: 0.0000e+00 - generator_1_mse: 0.0000e+00 - val_loss: 28.7181 - val_decoder_mae: 0.0000e+00 - val_decoder_mse: 0.0000e+00 - val_generator_mae: 0.0000e+00 - val_generator_mse: 0.0000e+00 - val_generator_1_mae: 0.0000e+00 - val_generator_1_mse: 0.0000e+00 - 2s/epoch - 7ms/step\n",
      "Epoch 7/10\n",
      "\n",
      "Epoch 00007: val_loss improved from 28.54275 to 23.76795, saving model to VAE/Energy/Iron+Proton/e_best_weights_SST-MONO-p+Fe-xmax.h5\n",
      "315/315 - 2s - loss: 38.5084 - decoder_mae: 0.0000e+00 - decoder_mse: 0.0000e+00 - generator_mae: 0.0000e+00 - generator_mse: 0.0000e+00 - generator_1_mae: 0.0000e+00 - generator_1_mse: 0.0000e+00 - val_loss: 23.7680 - val_decoder_mae: 0.0000e+00 - val_decoder_mse: 0.0000e+00 - val_generator_mae: 0.0000e+00 - val_generator_mse: 0.0000e+00 - val_generator_1_mae: 0.0000e+00 - val_generator_1_mse: 0.0000e+00 - 2s/epoch - 8ms/step\n",
      "Epoch 8/10\n",
      "\n",
      "Epoch 00008: val_loss improved from 23.76795 to 20.11724, saving model to VAE/Energy/Iron+Proton/e_best_weights_SST-MONO-p+Fe-xmax.h5\n",
      "315/315 - 2s - loss: 23.8876 - decoder_mae: 0.0000e+00 - decoder_mse: 0.0000e+00 - generator_mae: 0.0000e+00 - generator_mse: 0.0000e+00 - generator_1_mae: 0.0000e+00 - generator_1_mse: 0.0000e+00 - val_loss: 20.1172 - val_decoder_mae: 0.0000e+00 - val_decoder_mse: 0.0000e+00 - val_generator_mae: 0.0000e+00 - val_generator_mse: 0.0000e+00 - val_generator_1_mae: 0.0000e+00 - val_generator_1_mse: 0.0000e+00 - 2s/epoch - 8ms/step\n",
      "Epoch 9/10\n",
      "\n",
      "Epoch 00009: val_loss improved from 20.11724 to 19.37071, saving model to VAE/Energy/Iron+Proton/e_best_weights_SST-MONO-p+Fe-xmax.h5\n",
      "315/315 - 2s - loss: 22.6178 - decoder_mae: 0.0000e+00 - decoder_mse: 0.0000e+00 - generator_mae: 0.0000e+00 - generator_mse: 0.0000e+00 - generator_1_mae: 0.0000e+00 - generator_1_mse: 0.0000e+00 - val_loss: 19.3707 - val_decoder_mae: 0.0000e+00 - val_decoder_mse: 0.0000e+00 - val_generator_mae: 0.0000e+00 - val_generator_mse: 0.0000e+00 - val_generator_1_mae: 0.0000e+00 - val_generator_1_mse: 0.0000e+00 - 2s/epoch - 8ms/step\n",
      "Epoch 10/10\n",
      "\n",
      "Epoch 00010: val_loss improved from 19.37071 to 17.89505, saving model to VAE/Energy/Iron+Proton/e_best_weights_SST-MONO-p+Fe-xmax.h5\n",
      "315/315 - 2s - loss: 28.1926 - decoder_mae: 0.0000e+00 - decoder_mse: 0.0000e+00 - generator_mae: 0.0000e+00 - generator_mse: 0.0000e+00 - generator_1_mae: 0.0000e+00 - generator_1_mse: 0.0000e+00 - val_loss: 17.8951 - val_decoder_mae: 0.0000e+00 - val_decoder_mse: 0.0000e+00 - val_generator_mae: 0.0000e+00 - val_generator_mse: 0.0000e+00 - val_generator_1_mae: 0.0000e+00 - val_generator_1_mse: 0.0000e+00 - 2s/epoch - 8ms/step\n"
     ]
    }
   ],
   "source": [
    "## Train the network\n",
    "#for train_idx, test_idx in skf.split(data_images, fake):\n",
    "    \n",
    "    #print(train_idx)\n",
    "    \n",
    "#    train_data = data_images[train_idx]\n",
    "#    train_e = np.log(yE[train_idx])\n",
    "\n",
    "#    test_data = data_images[test_idx]\n",
    "#    test_e = np.log(yE[test_idx])\n",
    "\n",
    "#checkpoint_filepath = '../models/'+fold+'e_best_weights_'+caso+'.h5' \n",
    "checkpoint_filepath = 'VAE/'+fold+'e_best_weights_'+caso+'.h5' ## for Andres's folder\n",
    "model_checkpoint_callback = ModelCheckpoint(\n",
    "                    filepath=checkpoint_filepath,  verbose=1,\n",
    "                    save_weights_only=True,\n",
    "                    monitor='val_loss',\n",
    "                    mode='min',\n",
    "                    save_best_only=True)\n",
    "\n",
    "# instantiate the model\n",
    "(vae,encoder,decoder,generator,outputs,input_image,input_r,\n",
    " z_mean,z_log_var,z,r_mean,r_log_var,r,pz_mean,pz_log_var) = VAE_Reg(dim_img,dim_r,dp,L2_reg,\n",
    "                                                                     latent_dim,reco_loss,isVar,\n",
    "                                                                     n_aux,n_ft,n_conv)\n",
    "\n",
    "# Computing the Loss Function\n",
    "vae_loss = VAELoss(input_image,input_r,outputs,z_mean,z_log_var,z,r_mean,r_log_var,r,\n",
    "                   pz_mean,pz_log_var,reco_loss)\n",
    "vae.add_loss(vae_loss)\n",
    "\n",
    "######################################\n",
    "#step = tf.Variable(0, trainable=False)\n",
    "#schedule = tf.optimizers.schedules.PiecewiseConstantDecay(\n",
    "#    [200, 400, 600, 800], [1.0, 0.5, 0.25, 0.125, 0.0625])\n",
    "# lr and wd can be a function or a tensor\n",
    "#lr = 1e-3 #* schedule(step)\n",
    "#wd = lambda: 1e-2 * schedule(step)\n",
    "#loss_fn = mse\n",
    "opt = Adam(learning_rate=lr) #'adam'\n",
    "#opt = tfa.optimizers.AdamW(learning_rate=lr, weight_decay=wd)\n",
    "reduce_lr = ReduceLROnPlateau(monitor='lr', factor=0.5,\n",
    "                              patience=20, min_lr=1e-8)\n",
    "\n",
    "\n",
    "\n",
    "########## Early stopping\n",
    "stop = EarlyStopping(monitor='val_loss', mode='min', patience=25)\n",
    "\n",
    "######################################\n",
    "# Compilatio\n",
    "vae.compile(optimizer=opt, metrics=['mae', 'mse'])\n",
    "vae.summary()\n",
    "#vae.save_weights('../models/vae_dnn_weights.hdf5')\n",
    "\n",
    "if isAug:\n",
    "    train_x = train_data_aug\n",
    "    train_y = train_e_aug\n",
    "else:\n",
    "    train_x = train_data\n",
    "    train_y = train_e\n",
    "    \n",
    "history=vae.fit([train_x,train_y,input_cVar],\n",
    "                epochs=epochs,\n",
    "                batch_size=batch_size,\n",
    "                callbacks=[model_checkpoint_callback, stop], #,TensorBoard(log_dir='/tmp/autoencoder')],reduce_lr\n",
    "                validation_split = 0.25,\n",
    "                #validation_data=([X_valid, Y_valid]),\n",
    "                verbose = 2)\n",
    "\n",
    "#vae.save_weights('../models/'+fold+'e_vae_weights_'+caso+'.h5')\n",
    "#encoder.save_weights('../models/'+fold+'e_encoder_weights_'+caso+'.h5')\n",
    "vae.save_weights('VAE/'+fold+'e_vae_weights_'+caso+'.h5')         ## for Andres's folder\n",
    "encoder.save_weights('VAE/'+fold+'e_encoder_weights_'+caso+'.h5') ## for Andres's folder\n",
    "\n",
    "#generator.save_weights('../models/'+fold+'e_generator_weights_'+caso+'.h5')\n",
    "#decoder.save_weights('../models/'+fold+'e_decoder_weights_'+caso+'.h5')"
   ]
  },
  {
   "cell_type": "code",
   "execution_count": null,
   "id": "catholic-variation",
   "metadata": {},
   "outputs": [],
   "source": []
  },
  {
   "cell_type": "code",
   "execution_count": 44,
   "id": "operational-engine",
   "metadata": {},
   "outputs": [
    {
     "data": {
      "image/png": "[encoded data removed]",
      "text/plain": [
       "<Figure size 600x500 with 1 Axes>"
      ]
     },
     "metadata": {},
     "output_type": "display_data"
    }
   ],
   "source": [
    "plt.figure(figsize=(6,5))\n",
    "plt.plot(history.history['loss'], lw=2, color='blue')\n",
    "plt.plot(history.history['val_loss'], lw=2, color='orange')\n",
    "plt.title('Model Loss - '+leg,size=16)\n",
    "plt.ylabel('Loss',size=20)\n",
    "plt.xlabel('epoch',size=20)\n",
    "plt.xticks(size=20)\n",
    "plt.yticks(size=20)\n",
    "plt.grid(True)\n",
    "plt.yscale('log')\n",
    "plt.legend(['train','test'], loc='best')\n",
    "plt.rc('legend',fontsize=14) \n",
    "#plt.savefig('../figures/'+fold+'e_loss_vae_'+caso+'.pdf')\n",
    "plt.show()"
   ]
  },
  {
   "cell_type": "code",
   "execution_count": 45,
   "id": "known-plate",
   "metadata": {},
   "outputs": [
    {
     "name": "stdout",
     "output_type": "stream",
     "text": [
      "rMSE:  50.3664904992206\n",
      "R2:  -0.10885414292956308\n"
     ]
    }
   ],
   "source": [
    "vae.load_weights('VAE/'+fold+'e_best_weights_'+caso+'.h5')\n",
    "vae.compile(optimizer=opt)\n",
    "\n",
    "encoder.load_weights('VAE/'+fold+'e_encoder_weights_'+caso+'.h5')\n",
    "encoder.compile(optimizer=opt)\n",
    "\n",
    "# testing\n",
    "#[z_mean, z_log_var, z, r_mean, r_log_var, r_vae] = encoder.predict([test_data,test_e,test_xmax],batch_size=batch_size)\n",
    "[z_mean, z_log_var, z, r_mean, r_log_var, r_vae] = encoder.predict([test_data,test_e,test_e])  # ANDREs\n",
    "\n",
    "ypred = r_vae[:,0]\n",
    "\n",
    "#filename = 'prmean_squared_error(test_e,ypred)ediction_'+str(dp)+'_'+str(L2_reg)+'.npy'\n",
    "#np.save(filename,pred)\n",
    "rMSE_test = np.sqrt(mean_squared_error(test_e,ypred))\n",
    "R2_test = r2_score(test_e, ypred)\n",
    "## CC accuracy\n",
    "\n",
    "print(\"rMSE: \",rMSE_test)\n",
    "print(\"R2: \",  R2_test)"
   ]
  },
  {
   "cell_type": "code",
   "execution_count": 40,
   "id": "2dcf2bc8",
   "metadata": {},
   "outputs": [
    {
     "data": {
      "text/plain": [
       "((6600, 1), (6600,))"
      ]
     },
     "execution_count": 40,
     "metadata": {},
     "output_type": "execute_result"
    }
   ],
   "source": [
    "np.shape(r_vae), np.shape(test_e)"
   ]
  },
  {
   "cell_type": "code",
   "execution_count": 421,
   "id": "ae0a9045",
   "metadata": {},
   "outputs": [
    {
     "data": {
      "text/plain": [
       "(6600, 24)"
      ]
     },
     "execution_count": 421,
     "metadata": {},
     "output_type": "execute_result"
    }
   ],
   "source": [
    "np.shape(z_mean)"
   ]
  },
  {
   "cell_type": "code",
   "execution_count": 422,
   "id": "10c1df4f",
   "metadata": {},
   "outputs": [
    {
     "data": {
      "text/plain": [
       "(array([[-8.639826 ],\n",
       "        [-6.8598714],\n",
       "        [-3.0388482],\n",
       "        ...,\n",
       "        [-5.8280373],\n",
       "        [ 8.158079 ],\n",
       "        [-4.71743  ]], dtype=float32),\n",
       " array([14.41270447, 48.03284836, 31.60605431, ..., 14.73185635,\n",
       "         2.48058891,  1.67358875]))"
      ]
     },
     "execution_count": 422,
     "metadata": {},
     "output_type": "execute_result"
    }
   ],
   "source": [
    "r_vae, test_e"
   ]
  },
  {
   "cell_type": "code",
   "execution_count": 423,
   "id": "25403d11",
   "metadata": {},
   "outputs": [
    {
     "data": {
      "text/plain": [
       "(array([[ 0.22901987, -0.00429713, -1.0203573 , ...,  0.04638087,\n",
       "          1.8548231 ,  0.02284162],\n",
       "        [ 0.22968514, -0.00415572, -1.0201358 , ...,  0.04662528,\n",
       "          1.8547803 ,  0.02283599],\n",
       "        [ 0.2295052 , -0.00415251, -1.0204487 , ...,  0.04670475,\n",
       "          1.8548914 ,  0.02307528],\n",
       "        ...,\n",
       "        [ 0.22985438, -0.00463756, -1.0201066 , ...,  0.04630108,\n",
       "          1.8545045 ,  0.02294188],\n",
       "        [ 0.22992897, -0.00461195, -1.0199305 , ...,  0.04673297,\n",
       "          1.854576  ,  0.02274046],\n",
       "        [ 0.22982074, -0.00439846, -1.0200305 , ...,  0.04673287,\n",
       "          1.8546355 ,  0.02304094]], dtype=float32),\n",
       " array([[ 0.06643564,  0.38939592, -1.4929675 , ..., -0.825465  ,\n",
       "         -0.33298737, -0.8702517 ],\n",
       "        [ 0.06684978,  0.3900004 , -1.4926418 , ..., -0.82410675,\n",
       "         -0.33278602, -0.86933154],\n",
       "        [ 0.06695798,  0.38998768, -1.4926873 , ..., -0.82387835,\n",
       "         -0.3328022 , -0.86941534],\n",
       "        ...,\n",
       "        [ 0.06707133,  0.39018092, -1.4923962 , ..., -0.8236805 ,\n",
       "         -0.33249548, -0.86913913],\n",
       "        [ 0.06650126,  0.38967633, -1.4928753 , ..., -0.8241707 ,\n",
       "         -0.33248982, -0.86999935],\n",
       "        [ 0.06665096,  0.38995942, -1.4925811 , ..., -0.8238939 ,\n",
       "         -0.33238095, -0.86962837]], dtype=float32),\n",
       " array([[ 2.0652711e-03, -1.8554279e+00, -1.0493237e+00, ...,\n",
       "         -4.4147626e-01,  3.0573435e+00,  8.0287889e-02],\n",
       "        [ 2.7894838e+00,  1.3382413e+00, -7.4406302e-01, ...,\n",
       "          1.1690456e-02,  1.6471809e+00, -4.4230381e-01],\n",
       "        [ 8.4938025e-01, -1.0454786e+00, -6.5520144e-01, ...,\n",
       "          9.6730125e-01,  1.9268501e+00,  1.6732086e+00],\n",
       "        ...,\n",
       "        [ 1.8597165e+00, -2.2898445e+00, -1.2408017e+00, ...,\n",
       "          6.9504660e-01,  3.4992776e+00,  3.2391560e-01],\n",
       "        [ 4.6622413e-01,  9.4318074e-01, -5.2904141e-01, ...,\n",
       "         -5.0917214e-01,  3.2406149e+00,  2.1393013e-01],\n",
       "        [ 9.3598849e-01, -1.0367982e+00, -1.1383410e+00, ...,\n",
       "         -8.5596815e-02,  2.7690485e+00, -9.5208001e-01]], dtype=float32),\n",
       " array([[-3.7813358],\n",
       "        [-3.7815256],\n",
       "        [-3.7817545],\n",
       "        ...,\n",
       "        [-3.7819238],\n",
       "        [-3.781506 ],\n",
       "        [-3.7821648]], dtype=float32),\n",
       " array([[3.9553194],\n",
       "        [3.9544818],\n",
       "        [3.9546866],\n",
       "        ...,\n",
       "        [3.9543881],\n",
       "        [3.9543927],\n",
       "        [3.9542286]], dtype=float32),\n",
       " array([[-8.639826 ],\n",
       "        [-6.8598714],\n",
       "        [-3.0388482],\n",
       "        ...,\n",
       "        [-5.8280373],\n",
       "        [ 8.158079 ],\n",
       "        [-4.71743  ]], dtype=float32))"
      ]
     },
     "execution_count": 423,
     "metadata": {},
     "output_type": "execute_result"
    }
   ],
   "source": [
    "z_mean, z_log_var, z, r_mean, r_log_var, r_vae"
   ]
  },
  {
   "cell_type": "code",
   "execution_count": 382,
   "id": "boring-christianity",
   "metadata": {},
   "outputs": [],
   "source": [
    "# chi squared\n",
    "def chi2(a,b):\n",
    "    return np.sum((a-b)**2/a)"
   ]
  },
  {
   "cell_type": "code",
   "execution_count": 383,
   "id": "banner-knock",
   "metadata": {},
   "outputs": [
    {
     "name": "stdout",
     "output_type": "stream",
     "text": [
      "200 5294.33600434492\n",
      "180 5434.959431179659\n",
      "160 5644.371530479896\n",
      "140 3861.048030418089\n",
      "120 3996.1247154616376\n",
      "100 4232.372223289315\n",
      "80 3360.854820281028\n",
      "60 2935.165095199547\n",
      "40 2170.2755009452853\n"
     ]
    }
   ],
   "source": [
    "for dbin in range(200,20,-20):\n",
    "    nbins = np.arange(0,300+dbin,dbin)\n",
    "    a,_ = np.histogram(np.exp(test_e),bins=nbins)\n",
    "    b,_ = np.histogram(np.exp(ypred),bins=nbins)\n",
    "    x2pdof = chi2(a,b)/len(a)\n",
    "    print(dbin,x2pdof)"
   ]
  },
  {
   "cell_type": "code",
   "execution_count": 384,
   "id": "organic-vegetable",
   "metadata": {},
   "outputs": [],
   "source": [
    "dbin=60\n",
    "nbins = np.arange(0,300+dbin,dbin)\n",
    "a,_ = np.histogram(np.exp(test_e),bins=nbins)\n",
    "b,_ = np.histogram(np.exp(ypred),bins=nbins)\n",
    "x2pdof = chi2(a,b)/len(a)"
   ]
  },
  {
   "cell_type": "code",
   "execution_count": 385,
   "id": "dense-rainbow",
   "metadata": {},
   "outputs": [
    {
     "data": {
      "image/png": "[encoded data removed]",
      "text/plain": [
       "<Figure size 600x500 with 1 Axes>"
      ]
     },
     "metadata": {},
     "output_type": "display_data"
    }
   ],
   "source": [
    "plt.figure(figsize=(6,5))\n",
    "plt.scatter(ypred, test_e, s=2)\n",
    "plt.plot([0,6],[0,6],lw=2,color='red')\n",
    "#plt.xlim([0,11])\n",
    "#plt.ylim([0,11])\n",
    "plt.grid(True)\n",
    "plt.xlabel(r'$log(E_{pred})$',size=20)\n",
    "plt.ylabel(r'$log(E_{true})$',size=20)\n",
    "plt.xticks(size=20)\n",
    "plt.yticks(size=20)\n",
    "plt.text(1,5.5,\"rMSE=%.3f , R2=%.3f\"%(rMSE_test,R2_test),size=14)\n",
    "plt.title(leg,size=20)\n",
    "#plt.savefig('../figures/'+fold+'e_true_pred_vae_'+caso+'.pdf')\n",
    "plt.show()"
   ]
  },
  {
   "cell_type": "code",
   "execution_count": 193,
   "id": "e1fe90b0",
   "metadata": {},
   "outputs": [
    {
     "data": {
      "image/png": "[encoded data removed]",
      "text/plain": [
       "<Figure size 700x600 with 2 Axes>"
      ]
     },
     "metadata": {},
     "output_type": "display_data"
    }
   ],
   "source": [
    "plt.figure(figsize=(7,6))\n",
    "plt.hist2d(test_e,ypred, bins=(25,25), cmap=plt.cm.jet)\n",
    "plt.plot([0,5],[0,5],lw=2,color='red',linestyle='--')\n",
    "plt.xlim([0,5])\n",
    "plt.ylim([0,5])\n",
    "plt.xticks(size=16)\n",
    "plt.yticks(size=16)\n",
    "plt.colorbar()\n",
    "plt.show()"
   ]
  },
  {
   "cell_type": "code",
   "execution_count": 194,
   "id": "c1359476",
   "metadata": {},
   "outputs": [
    {
     "data": {
      "image/png": "[encoded data removed]",
      "text/plain": [
       "<Figure size 700x600 with 1 Axes>"
      ]
     },
     "metadata": {},
     "output_type": "display_data"
    }
   ],
   "source": [
    "diff = ypred-test_e\n",
    "mdiff, sdiff = np.mean(diff), np.std(diff)\n",
    "plt.figure(figsize=(7,6))\n",
    "plt.hist(diff,bins=25,lw=2,histtype='step')\n",
    "plt.text(-5,130, r'Mean = %.3f'%(mdiff),size=20)\n",
    "plt.text(-5,110, r'STD = %.3f'%(sdiff),size=20)\n",
    "plt.grid(True)\n",
    "plt.show()"
   ]
  },
  {
   "cell_type": "code",
   "execution_count": 195,
   "id": "5e59cddb",
   "metadata": {},
   "outputs": [
    {
     "data": {
      "image/png": "[encoded data removed]",
      "text/plain": [
       "<Figure size 700x600 with 1 Axes>"
      ]
     },
     "metadata": {},
     "output_type": "display_data"
    }
   ],
   "source": [
    "nbins = np.arange(0,105,5)\n",
    "\n",
    "plt.figure(figsize=(7,6))\n",
    "plt.hist(np.exp(test_e),bins=nbins,lw=2,histtype='step',label='True')\n",
    "plt.hist(np.exp(ypred),bins=nbins,lw=2,histtype='step',label='Predicted')\n",
    "plt.xlabel(r'$E$ (GeV)',size=20)\n",
    "plt.ylabel(r'Counts',size=20)\n",
    "plt.xticks(size=20)\n",
    "plt.yticks(size=20)\n",
    "\n",
    "plt.legend(loc='best')\n",
    "plt.xlim([0,100])\n",
    "#plt.text(120,30,r\"$\\chi^2$/dof = %.3f\"%(x2pdof),size=20)\n",
    "plt.title(leg,size=20)\n",
    "plt.yscale('log')\n",
    "#plt.savefig('../figures/'+fold+'e_vae_'+caso+'.pdf')\n",
    "plt.show()"
   ]
  },
  {
   "cell_type": "code",
   "execution_count": 196,
   "id": "cheap-device",
   "metadata": {},
   "outputs": [
    {
     "data": {
      "image/png": "[encoded data removed]",
      "text/plain": [
       "<Figure size 600x500 with 1 Axes>"
      ]
     },
     "metadata": {},
     "output_type": "display_data"
    }
   ],
   "source": [
    "dbin=20\n",
    "nbins = np.arange(0,300+dbin,dbin)\n",
    "\n",
    "plt.figure(figsize=(6,5))\n",
    "plt.hist(np.exp(test_e),bins=nbins,lw=2,histtype='step',label='True')\n",
    "plt.hist(np.exp(ypred),bins=nbins,lw=2,histtype='step',label='Predicted')\n",
    "plt.xlabel(r'$E$ (GeV)',size=20)\n",
    "plt.ylabel(r'Counts',size=20)\n",
    "plt.xticks(size=20)\n",
    "plt.yticks(size=20)\n",
    "plt.legend(loc='best')\n",
    "plt.title(leg,size=20)\n",
    "#plt.text(150,50,r\"$\\chi^2$/dof = %.3f\"%(x2pdof),size=14)\n",
    "plt.yscale('log')\n",
    "#plt.savefig('../figures/'+fold+'e_vae_'+caso+'-2.pdf')\n",
    "plt.show()"
   ]
  },
  {
   "cell_type": "code",
   "execution_count": 103,
   "id": "outdoor-struggle",
   "metadata": {},
   "outputs": [
    {
     "ename": "NameError",
     "evalue": "name 'X_val' is not defined",
     "output_type": "error",
     "traceback": [
      "\u001b[0;31m---------------------------------------------------------------------------\u001b[0m",
      "\u001b[0;31mNameError\u001b[0m                                 Traceback (most recent call last)",
      "Cell \u001b[0;32mIn[103], line 2\u001b[0m\n\u001b[1;32m      1\u001b[0m \u001b[38;5;66;03m## Visualize Latent Space \u001b[39;00m\n\u001b[0;32m----> 2\u001b[0m [z_mean, z_log_var, z, r_mean, r_log_var, r_vae, pz_mean] \u001b[38;5;241m=\u001b[39m encoder\u001b[38;5;241m.\u001b[39mpredict([\u001b[43mX_val\u001b[49m[:ns],Y_val[:ns]],batch_size\u001b[38;5;241m=\u001b[39mbatch_size)\n\u001b[1;32m      3\u001b[0m tsne \u001b[38;5;241m=\u001b[39m MDS(n_components\u001b[38;5;241m=\u001b[39m\u001b[38;5;241m2\u001b[39m, random_state\u001b[38;5;241m=\u001b[39m\u001b[38;5;241m0\u001b[39m)\n\u001b[1;32m      4\u001b[0m X_2d \u001b[38;5;241m=\u001b[39m tsne\u001b[38;5;241m.\u001b[39mfit_transform(z_mean)\n",
      "\u001b[0;31mNameError\u001b[0m: name 'X_val' is not defined"
     ]
    }
   ],
   "source": [
    "## Visualize Latent Space \n",
    "#[z_mean, z_log_var, z, r_mean, r_log_var, r_vae, pz_mean] = encoder.predict([X_val[:ns],Y_val[:ns]],batch_size=batch_size)\n",
    "#tsne = MDS(n_components=2, random_state=0)\n",
    "#X_2d = tsne.fit_transform(z_mean)\n",
    "\n",
    "fig = plt.figure(figsize=(6,5))\n",
    "#ax = fig.add_subplot(111)\n",
    "plt.scatter(X_2d[:, 0], X_2d[:, 1], c=test_e)\n",
    "plt.title('TSNE visualization of latent space',size=16)\n",
    "plt.grid(True)\n",
    "cbar=plt.colorbar()\n",
    "cbar.set_label(r'$log(E)$',labelpad=17, size=15,rotation=270,loc='center')\n",
    "plt.xlim([-0.05,0.05])\n",
    "plt.ylim([-0.05,0.05])\n",
    "plt.xticks(size=16)\n",
    "plt.yticks(size=16)\n",
    "#plt.savefig('../figures/'+fold+'latent_space_'+caso+'.pdf')\n",
    "plt.show()"
   ]
  },
  {
   "cell_type": "code",
   "execution_count": null,
   "id": "transsexual-toyota",
   "metadata": {},
   "outputs": [],
   "source": []
  }
 ],
 "metadata": {
  "kernelspec": {
   "display_name": "Python 3 (ipykernel)",
   "language": "python",
   "name": "python3"
  },
  "language_info": {
   "codemirror_mode": {
    "name": "ipython",
    "version": 3
   },
   "file_extension": ".py",
   "mimetype": "text/x-python",
   "name": "python",
   "nbconvert_exporter": "python",
   "pygments_lexer": "ipython3",
   "version": "3.9.6"
  }
 },
 "nbformat": 4,
 "nbformat_minor": 5
}
